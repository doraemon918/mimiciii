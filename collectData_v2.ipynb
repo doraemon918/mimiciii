{
 "cells": [
  {
   "cell_type": "code",
   "execution_count": 1,
   "metadata": {},
   "outputs": [
    {
     "data": {
      "text/plain": [
       "subject_id          int64\n",
       "hadm_id             int64\n",
       "ethnicity          object\n",
       "insurance          object\n",
       "gender             object\n",
       "admittime          object\n",
       "dischtime          object\n",
       "age_on_admiss     float64\n",
       "length_of_stay      int64\n",
       "dtype: object"
      ]
     },
     "execution_count": 1,
     "metadata": {},
     "output_type": "execute_result"
    }
   ],
   "source": [
    "import pandas as pd\n",
    "import numpy as np\n",
    "import psycopg2\n",
    "import seaborn as sns\n",
    "import matplotlib\n",
    "import matplotlib.pyplot as plt\n",
    "%matplotlib inline\n",
    "\n",
    "\n",
    "sqluser = 'postgres'\n",
    "dbname = 'mimic'\n",
    "schema_name = 'mimiciii'\n",
    "\n",
    "# Password keyword only necessary if user-specified password required to connect to database\n",
    "con = psycopg2.connect(dbname=dbname, user=sqluser, password='postgre')\n",
    "cur = con.cursor()\n",
    "\n",
    "query = \"SELECT\" \\\n",
    "        \" a.subject_id, a.hadm_id, a.ethnicity, a.insurance, p.gender, cast(a.admittime as date), cast(a.dischtime as date)\" \\\n",
    "        \", ROUND( (cast(a.admittime as date) - cast(p.dob as date)) / 365.242)\" \\\n",
    "        \" AS age_on_admiss\" \\\n",
    "        \", cast(a.dischtime as date) - cast(a.admittime as date)\" \\\n",
    "        \" AS length_of_stay\" \\\n",
    "        \" FROM admissions a\" \\\n",
    "        \" INNER JOIN patients p\" \\\n",
    "        \" ON p.subject_id = a.subject_id\" \\\n",
    "        \" GROUP BY\" \\\n",
    "        \" a.subject_id, a.hadm_id, a.ethnicity, a.insurance, p.gender, a.admittime, p.dob, a.dischtime\" \\\n",
    "        \" ORDER BY a.subject_id;\"\n",
    "\n",
    "cur.execute('SET search_path to ' + schema_name)\n",
    "df = pd.read_sql_query(query, con)\n",
    "\n",
    "df.dtypes"
   ]
  },
  {
   "cell_type": "markdown",
   "metadata": {},
   "source": [
    "## Readmissions"
   ]
  },
  {
   "cell_type": "code",
   "execution_count": 2,
   "metadata": {},
   "outputs": [
    {
     "data": {
      "text/plain": [
       "subject_id      int64\n",
       "hadm_id         int64\n",
       "readmit_time    int64\n",
       "dtype: object"
      ]
     },
     "execution_count": 2,
     "metadata": {},
     "output_type": "execute_result"
    }
   ],
   "source": [
    "query_rm = \"\"\"WITH readmits AS\n",
    "(\n",
    "            SELECT subject_id, hadm_id, admittime, dischtime, diagnosis, insurance, admission_type,\n",
    "            cast(admittime as date) - lag(cast(dischtime as date))\n",
    "                                            OVER (PARTITION BY subject_id ORDER BY admittime)\n",
    "                                            AS readmit_time\n",
    "            FROM mimiciii.admissions\n",
    ")\n",
    "SELECT subject_id, hadm_id, readmit_time\n",
    "FROM readmits\n",
    "WHERE readmit_time <= 30\n",
    "ORDER BY subject_id, admittime;\"\"\"\n",
    "cur.execute('SET search_path to ' + schema_name)\n",
    "df_rm = pd.read_sql_query(query_rm, con)\n",
    "df_rm.dtypes"
   ]
  },
  {
   "cell_type": "code",
   "execution_count": 3,
   "metadata": {},
   "outputs": [],
   "source": [
    "df2 = df.merge(df_rm, on = [\"subject_id\",\"hadm_id\"], how = \"outer\")\n",
    "df2['is_readmit'] = np.where(df2.readmit_time.isnull(), False, True)\n",
    "df2['readmit_time'] = np.where(df2.readmit_time.isnull(), 0, df2.readmit_time)"
   ]
  },
  {
   "cell_type": "code",
   "execution_count": 4,
   "metadata": {},
   "outputs": [],
   "source": [
    "df2['age_on_admiss'] = np.where(df2['age_on_admiss']>100, 90, df2['age_on_admiss'])\n",
    "df2 = df.where(df.age_on_admiss > 0)"
   ]
  },
  {
   "cell_type": "markdown",
   "metadata": {},
   "source": [
    "## Pulling in CHARTEVENTS and LABEVENTS data"
   ]
  },
  {
   "cell_type": "code",
   "execution_count": null,
   "metadata": {},
   "outputs": [],
   "source": [
    "%%time\n",
    "# Pulling in vital signs data\n",
    "# Code adapted from https://github.com/MIT-LCP/mimic-code/blob/master/concepts/pivot/pivoted-vital.sql\n",
    "\n",
    "query_vitals = \"\"\" with ce as\n",
    "(\n",
    "  select ce.hadm_id\n",
    "    , ce.charttime\n",
    "    , (case when itemid in (211,220045) and valuenum > 0 and valuenum < 300 then valuenum else null end) as HeartRate\n",
    "    , (case when itemid in (51,442,455,6701,220179,220050) and valuenum > 0 and valuenum < 400 then valuenum else null end) as SysBP\n",
    "    , (case when itemid in (615,618,220210,224690) and valuenum > 0 and valuenum < 70 then valuenum else null end) as RespRate\n",
    "    , (case when itemid in (223761,678) and valuenum > 70 and valuenum < 120 then (valuenum-32)/1.8 -- converted to degC in valuenum call\n",
    "               when itemid in (223762,676) and valuenum > 10 and valuenum < 50  then valuenum else null end) as TempC\n",
    "    , (case when itemid in (646,220277) and valuenum > 0 and valuenum <= 100 then valuenum else null end) as SpO2\n",
    "  from mimiciii.chartevents ce\n",
    "  -- exclude rows marked as error\n",
    "  where ce.error IS DISTINCT FROM 1\n",
    "  and ce.itemid in\n",
    "  (\n",
    "  -- HEART RATE\n",
    "  211, --\"Heart Rate\"\n",
    "  220045, --\"Heart Rate\"\n",
    "\n",
    "  -- Systolic\n",
    "\n",
    "  51, --\tArterial BP [Systolic]\n",
    "  442, --\tManual BP [Systolic]\n",
    "  455, --\tNBP [Systolic]\n",
    "  6701, --\tArterial BP #2 [Systolic]\n",
    "  220179, --\tNon Invasive Blood Pressure systolic\n",
    "  220050, --\tArterial Blood Pressure systolic\n",
    "\n",
    "  -- RESPIRATORY RATE\n",
    "  618,--\tRespiratory Rate\n",
    "  615,--\tResp Rate (Total)\n",
    "  220210,--\tRespiratory Rate\n",
    "  224690, --\tRespiratory Rate (Total)\n",
    "\n",
    "\n",
    "  -- SPO2, peripheral\n",
    "  646, 220277,\n",
    "\n",
    "\n",
    "  -- TEMPERATURE\n",
    "  223762, -- \"Temperature Celsius\"\n",
    "  676,\t-- \"Temperature C\"\n",
    "  223761, -- \"Temperature Fahrenheit\"\n",
    "  678 --\t\"Temperature F\"\n",
    "\n",
    "  )\n",
    ")\n",
    "select\n",
    "    ce.hadm_id\n",
    "  , ce.charttime\n",
    "  , avg(HeartRate) as HeartRate\n",
    "  , avg(SysBP) as SysBP\n",
    "  , avg(RespRate) as RespRate\n",
    "  , avg(TempC) as TempC\n",
    "  , avg(SpO2) as SpO2\n",
    "from ce\n",
    "group by ce.hadm_id, ce.charttime\n",
    "order by ce.hadm_id, ce.charttime;\"\"\"\n",
    "\n",
    "df_vitals = pd.read_sql_query(query_vitals, con)\n",
    "\n",
    "print(df_vitals.head(5))"
   ]
  },
  {
   "cell_type": "code",
   "execution_count": null,
   "metadata": {
    "scrolled": true
   },
   "outputs": [],
   "source": [
    "df_vitals.info()"
   ]
  },
  {
   "cell_type": "markdown",
   "metadata": {},
   "source": [
    "### Calculating min., median, and max. of all vital signs for each hospital stay"
   ]
  },
  {
   "cell_type": "code",
   "execution_count": null,
   "metadata": {},
   "outputs": [],
   "source": [
    "pd.isnull(df_vitals).any()"
   ]
  },
  {
   "cell_type": "markdown",
   "metadata": {},
   "source": [
    "No rows where hadm_id is null, so no need to drop rows at this point."
   ]
  },
  {
   "cell_type": "code",
   "execution_count": null,
   "metadata": {},
   "outputs": [],
   "source": [
    "# Aggregating and calculating statistics for each hospital stay\n",
    "\n",
    "vitals_stats = df_vitals.groupby('hadm_id')['heartrate', 'sysbp', 'resprate', 'tempc', 'spo2'].agg(['min', 'median', 'max'])\n",
    "vitals_stats.head()"
   ]
  },
  {
   "cell_type": "code",
   "execution_count": null,
   "metadata": {},
   "outputs": [],
   "source": [
    "# Resetting index to make hadm_id a column again for merging consistency\n",
    "\n",
    "vitals_statsdf = vitals_stats.reset_index()\n",
    "vitals_statsdf.head()"
   ]
  },
  {
   "cell_type": "code",
   "execution_count": null,
   "metadata": {},
   "outputs": [],
   "source": [
    "# We can look at one column this way\n",
    "\n",
    "vitals_statsdf['heartrate']['min'].head()"
   ]
  },
  {
   "cell_type": "code",
   "execution_count": null,
   "metadata": {},
   "outputs": [],
   "source": [
    "%%time\n",
    "# Pulling in lab data\n",
    "# Code adapted from https://github.com/MIT-LCP/mimic-code/blob/master/concepts/pivot/pivoted-lab.sql, added RDW values\n",
    "\n",
    "query_lab = \"\"\"\n",
    "SELECT\n",
    "    pvt.hadm_id, pvt.charttime\n",
    "  , avg(CASE WHEN label = 'BILIRUBIN' THEN valuenum ELSE null END) as BILIRUBIN\n",
    "  , avg(CASE WHEN label = 'CREATININE' THEN valuenum ELSE null END) as CREATININE\n",
    "  , avg(CASE WHEN label = 'HEMATOCRIT' THEN valuenum ELSE null END) as HEMATOCRIT\n",
    "  , avg(CASE WHEN label = 'HEMOGLOBIN' THEN valuenum ELSE null END) as HEMOGLOBIN\n",
    "  , avg(CASE WHEN label = 'LACTATE' THEN valuenum ELSE null END) as LACTATE\n",
    "  , avg(CASE WHEN label = 'PLATELET' THEN valuenum ELSE null END) as PLATELET\n",
    "  , avg(CASE WHEN label = 'PTT' THEN valuenum ELSE null END) as PTT\n",
    "  , avg(CASE WHEN label = 'INR' THEN valuenum ELSE null END) as INR\n",
    "  , avg(CASE WHEN label = 'WBC' THEN valuenum ELSE null end) as WBC\n",
    "  , avg(CASE WHEN label = 'RDW' THEN valuenum ELSE null end) as RDW\n",
    "FROM\n",
    "( -- begin query that extracts the data\n",
    "  SELECT le.hadm_id, le.charttime\n",
    "  -- here we assign labels to ITEMIDs\n",
    "  -- this also fuses together multiple ITEMIDs containing the same data\n",
    "  , CASE\n",
    "        WHEN itemid = 50885 THEN 'BILIRUBIN'\n",
    "        WHEN itemid = 50912 THEN 'CREATININE'\n",
    "        WHEN itemid = 50810 THEN 'HEMATOCRIT'\n",
    "        WHEN itemid = 51221 THEN 'HEMATOCRIT'\n",
    "        WHEN itemid = 50811 THEN 'HEMOGLOBIN'\n",
    "        WHEN itemid = 51222 THEN 'HEMOGLOBIN'\n",
    "        WHEN itemid = 50813 THEN 'LACTATE'\n",
    "        WHEN itemid = 51265 THEN 'PLATELET'\n",
    "        WHEN itemid = 51275 THEN 'PTT'\n",
    "        WHEN itemid = 51237 THEN 'INR'\n",
    "        WHEN itemid = 51300 THEN 'WBC'\n",
    "        WHEN itemid = 51301 THEN 'WBC'\n",
    "        WHEN itemid = 51277 THEN 'RDW'\n",
    "      ELSE null\n",
    "    END AS label\n",
    "  , -- add in some sanity checks on the values\n",
    "  -- the where clause below requires all valuenum to be > 0, so these are only upper limit checks\n",
    "    CASE\n",
    "      WHEN itemid = 50885 and valuenum >   150 THEN null -- mg/dL 'BILIRUBIN'\n",
    "      WHEN itemid = 50912 and valuenum >   150 THEN null -- mg/dL 'CREATININE'\n",
    "      WHEN itemid = 50810 and valuenum >   100 THEN null -- % 'HEMATOCRIT'\n",
    "      WHEN itemid = 51221 and valuenum >   100 THEN null -- % 'HEMATOCRIT'\n",
    "      WHEN itemid = 50811 and valuenum >    50 THEN null -- g/dL 'HEMOGLOBIN'\n",
    "      WHEN itemid = 51222 and valuenum >    50 THEN null -- g/dL 'HEMOGLOBIN'\n",
    "      WHEN itemid = 50813 and valuenum >    50 THEN null -- mmol/L 'LACTATE'\n",
    "      WHEN itemid = 51265 and valuenum > 10000 THEN null -- K/uL 'PLATELET'\n",
    "      WHEN itemid = 51275 and valuenum >   150 THEN null -- sec 'PTT'\n",
    "      WHEN itemid = 51237 and valuenum >    50 THEN null -- 'INR'\n",
    "      WHEN itemid = 51300 and valuenum >  1000 THEN null -- 'WBC'\n",
    "      WHEN itemid = 51301 and valuenum >  1000 THEN null -- 'WBC'\n",
    "      WHEN itemid = 51277 and valuenum >   100 THEN null -- % 'RDW'\n",
    "    ELSE le.valuenum\n",
    "    END AS valuenum\n",
    "  FROM labevents le\n",
    "  WHERE le.ITEMID in\n",
    "  (\n",
    "    -- comment is: LABEL | CATEGORY | FLUID | NUMBER OF ROWS IN LABEVENTS\n",
    "    50885, -- BILIRUBIN, TOTAL | CHEMISTRY | BLOOD | 238277\n",
    "    50912, -- CREATININE | CHEMISTRY | BLOOD | 797476\n",
    "    51221, -- HEMATOCRIT | HEMATOLOGY | BLOOD | 881846\n",
    "    50810, -- HEMATOCRIT, CALCULATED | BLOOD GAS | BLOOD | 89715\n",
    "    51222, -- HEMOGLOBIN | HEMATOLOGY | BLOOD | 752523\n",
    "    50811, -- HEMOGLOBIN | BLOOD GAS | BLOOD | 89712\n",
    "    50813, -- LACTATE | BLOOD GAS | BLOOD | 187124\n",
    "    51265, -- PLATELET COUNT | HEMATOLOGY | BLOOD | 778444\n",
    "    51275, -- PTT | HEMATOLOGY | BLOOD | 474937\n",
    "    51237, -- INR(PT) | HEMATOLOGY | BLOOD | 471183\n",
    "    51301, -- WHITE BLOOD CELLS | HEMATOLOGY | BLOOD | 753301\n",
    "    51300, -- WBC COUNT | HEMATOLOGY | BLOOD | 2371\n",
    "    51277  -- RDW | HEMATOLOGY | BLOOD | 746817\n",
    "  )\n",
    "  AND valuenum IS NOT NULL AND valuenum > 0 -- lab values cannot be 0 and cannot be negative\n",
    ") pvt\n",
    "GROUP BY pvt.hadm_id, pvt.charttime\n",
    "ORDER BY pvt.hadm_id, pvt.charttime;\"\"\"\n",
    "\n",
    "df_lab = pd.read_sql_query(query_lab, con)\n",
    "\n",
    "print(df_lab.head(5))"
   ]
  },
  {
   "cell_type": "code",
   "execution_count": null,
   "metadata": {
    "scrolled": true
   },
   "outputs": [],
   "source": [
    "df_lab.info()"
   ]
  },
  {
   "cell_type": "code",
   "execution_count": null,
   "metadata": {},
   "outputs": [],
   "source": [
    "# Dropping rows where hadm_id is null\n",
    "\n",
    "df2_lab = df_lab.dropna(axis=0, how='any', subset=['hadm_id'])\n",
    "df2_lab.info()"
   ]
  },
  {
   "cell_type": "markdown",
   "metadata": {},
   "source": [
    "### Calculating min., median, and max. of all vital signs for each hospital stay"
   ]
  },
  {
   "cell_type": "code",
   "execution_count": null,
   "metadata": {},
   "outputs": [],
   "source": [
    "# Aggregating and calculating statistics for each hospital stay\n",
    "\n",
    "lab_stats = df2_lab.groupby('hadm_id')['bilirubin', 'creatinine', 'hematocrit', 'hemoglobin', 'lactate', 'platelet',\n",
    "                                      'ptt', 'inr', 'wbc', 'rdw'].agg(['min', 'median', 'max'])\n",
    "lab_stats.head()"
   ]
  },
  {
   "cell_type": "code",
   "execution_count": null,
   "metadata": {},
   "outputs": [],
   "source": [
    "# Resetting index to make hadm_id a column again for merging consistency\n",
    "\n",
    "lab_statsdf = lab_stats.reset_index()\n",
    "lab_statsdf.head()"
   ]
  },
  {
   "cell_type": "markdown",
   "metadata": {},
   "source": [
    "### What is the average number of each type of measurement per stay?"
   ]
  },
  {
   "cell_type": "code",
   "execution_count": null,
   "metadata": {},
   "outputs": [],
   "source": [
    "def labStats(feature):\n",
    "    df_labStat = df2_lab[['hadm_id', feature]]\n",
    "    labStat_sorted = df_labStat.set_index('hadm_id').sort_index()\n",
    "    labStat_grouped = labStat_sorted.groupby(labStat_sorted.index).count()\n",
    "    print('Ave. number of', feature, 'measurements per hospital stay:', labStat_grouped.mean()[0])\n",
    "    print('Std. dev of', feature, 'measurements per hospital stay:', labStat_grouped.std()[0])\n",
    "    print('Min. number of', feature, 'measurements per hospital stay:', labStat_grouped.min()[0])\n",
    "    print('Max. number of', feature, 'measurements per hospital stay:', labStat_grouped.max()[0])\n",
    "    return labStat_grouped.head()\n",
    "\n",
    "for i in df_lab.columns[2:]:\n",
    "    print(labStats(i))"
   ]
  },
  {
   "cell_type": "markdown",
   "metadata": {},
   "source": [
    "Looks like there is large variation in terms of number of each measurement per hospital stay."
   ]
  },
  {
   "cell_type": "markdown",
   "metadata": {},
   "source": [
    "## Distributions for lab features"
   ]
  },
  {
   "cell_type": "code",
   "execution_count": null,
   "metadata": {},
   "outputs": [],
   "source": [
    "def labDistr(feature):\n",
    "    feature_data = df_lab[feature].dropna()\n",
    "    plt.figure()\n",
    "    plt.show()\n",
    "    return sns.distplot(feature_data)\n",
    "\n",
    "for i in df_lab.columns[2:]:\n",
    "    print(labDistr(i))"
   ]
  },
  {
   "cell_type": "markdown",
   "metadata": {},
   "source": [
    "## Pulling in prescription data"
   ]
  },
  {
   "cell_type": "code",
   "execution_count": null,
   "metadata": {},
   "outputs": [],
   "source": [
    "%%time\n",
    "# Creating one dataframe per drug (we can consolidate after feature selection?)\n",
    "\n",
    "def query_prescrip(drug_desc):\n",
    "    general_query = \"\"\" \n",
    "        SELECT p.subject_id, p.hadm_id, p.startdate, p.enddate,\n",
    "        p.drug, p.drug_name_poe, p.drug_name_generic, a.admittime, a.dischtime\n",
    "        FROM mimiciii.prescriptions p\n",
    "        INNER JOIN mimiciii.admissions a\n",
    "        ON p.hadm_id = a.hadm_id\n",
    "        WHERE startdate < dischtime\n",
    "        AND \"\"\"\n",
    "    drug_specific = drug_desc\n",
    "    whole_query = general_query + drug_specific\n",
    "    return pd.read_sql_query(whole_query, con)\n",
    "\n",
    "# Vancomycin and neo-synephrine require special queries\n",
    "df_vanco = query_prescrip(\"\"\"(lower(drug) LIKE '%vancomycin%' \n",
    "OR lower(drug) LIKE '%vancocin%' \n",
    "OR lower(drug_name_poe) LIKE '%vancomycin%'\n",
    "OR lower(drug_name_generic) LIKE '%vancomycin%');\"\"\")\n",
    "\n",
    "df_neosyn = query_prescrip(\"\"\"(lower(drug) LIKE 'neo%ephrine%'\n",
    "      OR lower(drug) LIKE 'phenylephrine%');\"\"\")\n",
    "\n",
    "# Other drugs use same query format\n",
    "def gen_drug_desc(drug):\n",
    "    gen_drug_query = \"(lower(drug) LIKE '%\" + drug + \"%' OR lower(drug_name_poe) LIKE '%\"\\\n",
    "                        + drug + \"%' OR lower(drug_name_generic) LIKE '%\" + drug + \"%');\"\n",
    "    return gen_drug_query\n",
    "\n",
    "df_neostig = query_prescrip(gen_drug_desc('neostigmine'))\n",
    "df_glycopyr = query_prescrip(gen_drug_desc('glycopyrrolate'))\n",
    "df_ceftriax = query_prescrip(gen_drug_desc('ceftriaxone'))\n",
    "df_atropsulf = query_prescrip(gen_drug_desc('atropine sulfate'))\n",
    "df_chlorhex = query_prescrip(gen_drug_desc('chlorhexidine'))\n",
    "df_nitroglyc = query_prescrip(gen_drug_desc('nitroglycerin'))\n",
    "df_nitropruss = query_prescrip(gen_drug_desc('nitroprusside'))\n",
    "df_lansopraz = query_prescrip(gen_drug_desc('lansoprazole'))\n",
    "    \n",
    "\n",
    "#df_vanco = query_prescrip(vanco_desc)\n",
    "#query_prescrip(neosyn_desc)\n"
   ]
  },
  {
   "cell_type": "code",
   "execution_count": null,
   "metadata": {},
   "outputs": [],
   "source": [
    "# How many rows in each dataframe?\n",
    "\n",
    "#drug_list = ['vancomycin', 'neosynephrine', 'neostigmine', 'glycopyrrolate', 'ceftriaxone', \n",
    "#'atropine sulfate', 'chlorhexidine', 'nitroglycerin', 'nitroprusside', 'lansoprazole']\n",
    "print('vancomycin:', df_vanco.shape[0], 'rows')\n",
    "print('neosynephrine:', df_neosyn.shape[0], 'rows')\n",
    "print('neostigmine:', df_neostig.shape[0], 'rows')\n",
    "print('glycopyrrolate:', df_glycopyr.shape[0], 'rows')\n",
    "print('ceftriaxone:', df_ceftriax.shape[0], 'rows')\n",
    "print('atropine sulfate:', df_atropsulf.shape[0], 'rows')\n",
    "print('chlorhexidine:', df_chlorhex.shape[0], 'rows')\n",
    "print('nitroglycerin:', df_nitroglyc.shape[0], 'rows')\n",
    "print('nitroprusside:', df_nitropruss.shape[0], 'rows')\n",
    "print('lansoprazole:', df_lansopraz.shape[0], 'rows')"
   ]
  },
  {
   "cell_type": "markdown",
   "metadata": {},
   "source": [
    "## Pulling in procedure data"
   ]
  },
  {
   "cell_type": "code",
   "execution_count": null,
   "metadata": {},
   "outputs": [],
   "source": [
    "%%time\n",
    "# Creating one dataframe per procedure (we can consolidate after feature selection?)\n",
    "\n",
    "def query_proc(proc_desc):\n",
    "    general_query = \"\"\" \n",
    "        SELECT pr.subject_id, pr.hadm_id, d.icd9_code, d.short_title, d.long_title\n",
    "        FROM mimiciii.procedures_icd pr\n",
    "        INNER JOIN mimiciii.d_icd_procedures d\n",
    "        ON pr.icd9_code = d.icd9_code\n",
    "        WHERE \"\"\"\n",
    "    proc_specific = proc_desc\n",
    "    whole_query = general_query + proc_specific\n",
    "    return pd.read_sql_query(whole_query, con)\n",
    "\n",
    "df_parentinf = query_proc(\"short_title = 'Parent infus nutrit sub';\")\n",
    "df_serumtransf = query_proc(\"short_title = 'Serum transfusion NEC';\")\n",
    "df_skinsut = query_proc(\"short_title = 'Skin closure NEC';\")\n",
    "df_vasopress = query_proc(\"short_title = 'Infusion of vasopressor';\")\n",
    "df_mammCAB = query_proc(\"short_title = '1 int mam-cor art bypass';\")\n",
    "df_aortoCBT = query_proc(\"short_title = 'Aortocor bypas-2 cor art' OR short_title = 'Aortocor bypas-3 cor art';\")\n",
    "df_platetransf = query_proc(\"short_title = 'Platelet transfusion';\")\n",
    "df_intercath = query_proc(\"short_title = 'Insert intercostal cath';\")"
   ]
  },
  {
   "cell_type": "code",
   "execution_count": null,
   "metadata": {},
   "outputs": [],
   "source": [
    "# How many rows in each dataframe?\n",
    "\n",
    "print('parenteral infusion:', df_parentinf.shape[0], 'rows')\n",
    "print('serum transfusion:', df_serumtransf.shape[0], 'rows')\n",
    "print('skin suture:', df_skinsut.shape[0], 'rows')\n",
    "print('infusion of vasopressor:', df_vasopress.shape[0], 'rows')\n",
    "print('single internal mammary-coronary artery bypass:', df_mammCAB.shape[0], 'rows')\n",
    "print('aortocoronary bypass T:', df_aortoCBT.shape[0], 'rows')\n",
    "print('platelet transfusion:', df_platetransf.shape[0], 'rows')\n",
    "print('insertion of intercostal catheter:', df_intercath.shape[0], 'rows')\n"
   ]
  },
  {
   "cell_type": "markdown",
   "metadata": {},
   "source": [
    "## Merging dataframes"
   ]
  },
  {
   "cell_type": "code",
   "execution_count": null,
   "metadata": {},
   "outputs": [],
   "source": [
    "merge_df = df2.merge(df_vitals, on = \"hadm_id\", how = \"inner\")"
   ]
  },
  {
   "cell_type": "code",
   "execution_count": null,
   "metadata": {
    "collapsed": true
   },
   "outputs": [],
   "source": [
    "merge_agg_df = merge_df.groupby('hadm_id').agg('mean')\n"
   ]
  },
  {
   "cell_type": "code",
   "execution_count": null,
   "metadata": {},
   "outputs": [],
   "source": [
    "merge_agg_df.isnull"
   ]
  },
  {
   "cell_type": "code",
   "execution_count": null,
   "metadata": {},
   "outputs": [],
   "source": [
    "merge_agg_df.isnull().sum()"
   ]
  },
  {
   "cell_type": "code",
   "execution_count": null,
   "metadata": {},
   "outputs": [],
   "source": [
    "merge_agg_df.shape"
   ]
  },
  {
   "cell_type": "code",
   "execution_count": null,
   "metadata": {},
   "outputs": [],
   "source": [
    "merge_agg_df.describe()"
   ]
  },
  {
   "cell_type": "code",
   "execution_count": null,
   "metadata": {},
   "outputs": [],
   "source": [
    "merge_agg_df.isnull().sum()"
   ]
  },
  {
   "cell_type": "code",
   "execution_count": null,
   "metadata": {},
   "outputs": [],
   "source": [
    "merge_agg_df.describe()"
   ]
  },
  {
   "cell_type": "code",
   "execution_count": null,
   "metadata": {},
   "outputs": [],
   "source": [
    "(merge_agg_df.isnull().sum()/merge_agg_df.count())* 100"
   ]
  },
  {
   "cell_type": "code",
   "execution_count": null,
   "metadata": {},
   "outputs": [],
   "source": [
    "corr = merge_agg_df.corr()\n",
    "sns.heatmap(corr)\n"
   ]
  },
  {
   "cell_type": "code",
   "execution_count": null,
   "metadata": {},
   "outputs": [],
   "source": [
    "merge_agg_df.age_on_admiss.describe()"
   ]
  },
  {
   "cell_type": "code",
   "execution_count": null,
   "metadata": {
    "collapsed": true
   },
   "outputs": [],
   "source": []
  }
 ],
 "metadata": {
  "kernelspec": {
   "display_name": "Python (mimic)”\n",
   "language": "python",
   "name": "mimic"
  },
  "language_info": {
   "codemirror_mode": {
    "name": "ipython",
    "version": 3
   },
   "file_extension": ".py",
   "mimetype": "text/x-python",
   "name": "python",
   "nbconvert_exporter": "python",
   "pygments_lexer": "ipython3",
   "version": "3.6.5"
  }
 },
 "nbformat": 4,
 "nbformat_minor": 2
}
