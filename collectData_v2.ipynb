{
 "cells": [
  {
   "cell_type": "code",
   "execution_count": 10,
   "metadata": {},
   "outputs": [
    {
     "name": "stdout",
     "output_type": "stream",
     "text": [
      "   subject_id  hadm_id ethnicity insurance gender  age_on_admiss  \\\n",
      "0           2   163353     ASIAN   Private      M            0.0   \n",
      "1           3   145834     WHITE  Medicare      M           77.0   \n",
      "2           4   185777     WHITE   Private      F           48.0   \n",
      "3           5   178980     ASIAN   Private      M            0.0   \n",
      "4           6   107064     WHITE  Medicare      F           66.0   \n",
      "\n",
      "   length_of_stay  \n",
      "0               4  \n",
      "1              11  \n",
      "2               7  \n",
      "3               2  \n",
      "4              16  \n"
     ]
    }
   ],
   "source": [
    "import pandas as pd\n",
    "import psycopg2\n",
    "\n",
    "\n",
    "sqluser = 'postgres'\n",
    "dbname = 'mimic'\n",
    "schema_name = 'mimiciii'\n",
    "\n",
    "# Password keyword only necessary if user-specified password required to connect to database\n",
    "con = psycopg2.connect(dbname=dbname, user=sqluser, password='postgre')\n",
    "cur = con.cursor()\n",
    "\n",
    "query = \"SELECT\" \\\n",
    "        \" a.subject_id, a.hadm_id, a.ethnicity, a.insurance, p.gender\" \\\n",
    "        \", ROUND( (cast(a.admittime as date) - cast(p.dob as date)) / 365.242)\" \\\n",
    "        \" AS age_on_admiss\" \\\n",
    "        \", cast(a.dischtime as date) - cast(a.admittime as date)\" \\\n",
    "        \" AS length_of_stay\" \\\n",
    "        \" FROM admissions a\" \\\n",
    "        \" INNER JOIN patients p\" \\\n",
    "        \" ON p.subject_id = a.subject_id\" \\\n",
    "        \" GROUP BY\" \\\n",
    "        \" a.subject_id, a.hadm_id, a.ethnicity, a.insurance, p.gender, a.admittime, p.dob, a.dischtime\" \\\n",
    "        \" ORDER BY a.subject_id;\"\n",
    "\n",
    "cur.execute('SET search_path to ' + schema_name)\n",
    "df = pd.read_sql_query(query, con)\n",
    "\n",
    "print(df.head(5))"
   ]
  },
  {
   "cell_type": "code",
   "execution_count": 17,
   "metadata": {},
   "outputs": [
    {
     "name": "stdout",
     "output_type": "stream",
     "text": [
      "   hadm_id           charttime  heartrate  sysbp  resprate      tempc  spo2\n",
      "0   100001 2117-09-11 12:57:00      122.0    NaN      14.0        NaN   NaN\n",
      "1   100001 2117-09-11 13:00:00      118.0    NaN      22.0        NaN   NaN\n",
      "2   100001 2117-09-11 13:01:00        NaN  192.0       NaN        NaN   NaN\n",
      "3   100001 2117-09-11 13:48:00        NaN    NaN       NaN  36.666667   NaN\n",
      "4   100001 2117-09-11 13:50:00      118.0    NaN      22.0        NaN   NaN\n",
      "CPU times: user 18.6 s, sys: 6.89 s, total: 25.5 s\n",
      "Wall time: 2min 13s\n"
     ]
    }
   ],
   "source": [
    "%%time\n",
    "\n",
    "# Code adapted from https://github.com/MIT-LCP/mimic-code/blob/master/concepts/pivot/pivoted-vital.sql\n",
    "query_vitals = \"\"\" with ce as\n",
    "(\n",
    "  select ce.hadm_id\n",
    "    , ce.charttime\n",
    "    , (case when itemid in (211,220045) and valuenum > 0 and valuenum < 300 then valuenum else null end) as HeartRate\n",
    "    , (case when itemid in (51,442,455,6701,220179,220050) and valuenum > 0 and valuenum < 400 then valuenum else null end) as SysBP\n",
    "    , (case when itemid in (615,618,220210,224690) and valuenum > 0 and valuenum < 70 then valuenum else null end) as RespRate\n",
    "    , (case when itemid in (223761,678) and valuenum > 70 and valuenum < 120 then (valuenum-32)/1.8 -- converted to degC in valuenum call\n",
    "               when itemid in (223762,676) and valuenum > 10 and valuenum < 50  then valuenum else null end) as TempC\n",
    "    , (case when itemid in (646,220277) and valuenum > 0 and valuenum <= 100 then valuenum else null end) as SpO2\n",
    "  from mimiciii.chartevents ce\n",
    "  -- exclude rows marked as error\n",
    "  where ce.error IS DISTINCT FROM 1\n",
    "  and ce.itemid in\n",
    "  (\n",
    "  -- HEART RATE\n",
    "  211, --\"Heart Rate\"\n",
    "  220045, --\"Heart Rate\"\n",
    "\n",
    "  -- Systolic\n",
    "\n",
    "  51, --\tArterial BP [Systolic]\n",
    "  442, --\tManual BP [Systolic]\n",
    "  455, --\tNBP [Systolic]\n",
    "  6701, --\tArterial BP #2 [Systolic]\n",
    "  220179, --\tNon Invasive Blood Pressure systolic\n",
    "  220050, --\tArterial Blood Pressure systolic\n",
    "\n",
    "  -- RESPIRATORY RATE\n",
    "  618,--\tRespiratory Rate\n",
    "  615,--\tResp Rate (Total)\n",
    "  220210,--\tRespiratory Rate\n",
    "  224690, --\tRespiratory Rate (Total)\n",
    "\n",
    "\n",
    "  -- SPO2, peripheral\n",
    "  646, 220277,\n",
    "\n",
    "\n",
    "  -- TEMPERATURE\n",
    "  223762, -- \"Temperature Celsius\"\n",
    "  676,\t-- \"Temperature C\"\n",
    "  223761, -- \"Temperature Fahrenheit\"\n",
    "  678 --\t\"Temperature F\"\n",
    "\n",
    "  )\n",
    ")\n",
    "select\n",
    "    ce.hadm_id\n",
    "  , ce.charttime\n",
    "  , avg(HeartRate) as HeartRate\n",
    "  , avg(SysBP) as SysBP\n",
    "  , avg(RespRate) as RespRate\n",
    "  , avg(TempC) as TempC\n",
    "  , avg(SpO2) as SpO2\n",
    "from ce\n",
    "group by ce.hadm_id, ce.charttime\n",
    "order by ce.hadm_id, ce.charttime;\"\"\"\n",
    "\n",
    "df_vitals = pd.read_sql_query(query_vitals, con)\n",
    "\n",
    "print(df_vitals.head(5))"
   ]
  },
  {
   "cell_type": "code",
   "execution_count": 5,
   "metadata": {},
   "outputs": [
    {
     "name": "stdout",
     "output_type": "stream",
     "text": [
      "<class 'pandas.core.frame.DataFrame'>\n",
      "RangeIndex: 8627341 entries, 0 to 8627340\n",
      "Data columns (total 7 columns):\n",
      "icustay_id    float64\n",
      "charttime     datetime64[ns]\n",
      "heartrate     float64\n",
      "sysbp         float64\n",
      "resprate      float64\n",
      "tempc         float64\n",
      "spo2          float64\n",
      "dtypes: datetime64[ns](1), float64(6)\n",
      "memory usage: 460.7 MB\n"
     ]
    }
   ],
   "source": [
    "df_vitals.info()"
   ]
  },
  {
   "cell_type": "code",
   "execution_count": 26,
   "metadata": {
    "collapsed": true
   },
   "outputs": [],
   "source": [
    "merge_df = df.merge(df_vitals, on = \"hadm_id\", how = \"inner\")"
   ]
  },
  {
   "cell_type": "code",
   "execution_count": 27,
   "metadata": {},
   "outputs": [
    {
     "data": {
      "text/html": [
       "<div>\n",
       "<style scoped>\n",
       "    .dataframe tbody tr th:only-of-type {\n",
       "        vertical-align: middle;\n",
       "    }\n",
       "\n",
       "    .dataframe tbody tr th {\n",
       "        vertical-align: top;\n",
       "    }\n",
       "\n",
       "    .dataframe thead th {\n",
       "        text-align: right;\n",
       "    }\n",
       "</style>\n",
       "<table border=\"1\" class=\"dataframe\">\n",
       "  <thead>\n",
       "    <tr style=\"text-align: right;\">\n",
       "      <th></th>\n",
       "      <th>subject_id</th>\n",
       "      <th>hadm_id</th>\n",
       "      <th>ethnicity</th>\n",
       "      <th>insurance</th>\n",
       "      <th>gender</th>\n",
       "      <th>age_on_admiss</th>\n",
       "      <th>length_of_stay</th>\n",
       "      <th>charttime</th>\n",
       "      <th>heartrate</th>\n",
       "      <th>sysbp</th>\n",
       "      <th>resprate</th>\n",
       "      <th>tempc</th>\n",
       "      <th>spo2</th>\n",
       "    </tr>\n",
       "  </thead>\n",
       "  <tbody>\n",
       "    <tr>\n",
       "      <th>0</th>\n",
       "      <td>2</td>\n",
       "      <td>163353</td>\n",
       "      <td>ASIAN</td>\n",
       "      <td>Private</td>\n",
       "      <td>M</td>\n",
       "      <td>0.0</td>\n",
       "      <td>4</td>\n",
       "      <td>2138-07-17 20:20:00</td>\n",
       "      <td>148.0</td>\n",
       "      <td>NaN</td>\n",
       "      <td>NaN</td>\n",
       "      <td>NaN</td>\n",
       "      <td>NaN</td>\n",
       "    </tr>\n",
       "    <tr>\n",
       "      <th>1</th>\n",
       "      <td>2</td>\n",
       "      <td>163353</td>\n",
       "      <td>ASIAN</td>\n",
       "      <td>Private</td>\n",
       "      <td>M</td>\n",
       "      <td>0.0</td>\n",
       "      <td>4</td>\n",
       "      <td>2138-07-17 20:30:00</td>\n",
       "      <td>131.0</td>\n",
       "      <td>NaN</td>\n",
       "      <td>NaN</td>\n",
       "      <td>NaN</td>\n",
       "      <td>NaN</td>\n",
       "    </tr>\n",
       "    <tr>\n",
       "      <th>2</th>\n",
       "      <td>2</td>\n",
       "      <td>163353</td>\n",
       "      <td>ASIAN</td>\n",
       "      <td>Private</td>\n",
       "      <td>M</td>\n",
       "      <td>0.0</td>\n",
       "      <td>4</td>\n",
       "      <td>2138-07-17 21:00:00</td>\n",
       "      <td>144.0</td>\n",
       "      <td>NaN</td>\n",
       "      <td>NaN</td>\n",
       "      <td>NaN</td>\n",
       "      <td>NaN</td>\n",
       "    </tr>\n",
       "    <tr>\n",
       "      <th>3</th>\n",
       "      <td>2</td>\n",
       "      <td>163353</td>\n",
       "      <td>ASIAN</td>\n",
       "      <td>Private</td>\n",
       "      <td>M</td>\n",
       "      <td>0.0</td>\n",
       "      <td>4</td>\n",
       "      <td>2138-07-17 22:00:00</td>\n",
       "      <td>140.0</td>\n",
       "      <td>NaN</td>\n",
       "      <td>NaN</td>\n",
       "      <td>NaN</td>\n",
       "      <td>NaN</td>\n",
       "    </tr>\n",
       "    <tr>\n",
       "      <th>4</th>\n",
       "      <td>3</td>\n",
       "      <td>145834</td>\n",
       "      <td>WHITE</td>\n",
       "      <td>Medicare</td>\n",
       "      <td>M</td>\n",
       "      <td>77.0</td>\n",
       "      <td>11</td>\n",
       "      <td>2101-10-20 18:30:00</td>\n",
       "      <td>NaN</td>\n",
       "      <td>NaN</td>\n",
       "      <td>NaN</td>\n",
       "      <td>36.055556</td>\n",
       "      <td>NaN</td>\n",
       "    </tr>\n",
       "  </tbody>\n",
       "</table>\n",
       "</div>"
      ],
      "text/plain": [
       "   subject_id  hadm_id ethnicity insurance gender  age_on_admiss  \\\n",
       "0           2   163353     ASIAN   Private      M            0.0   \n",
       "1           2   163353     ASIAN   Private      M            0.0   \n",
       "2           2   163353     ASIAN   Private      M            0.0   \n",
       "3           2   163353     ASIAN   Private      M            0.0   \n",
       "4           3   145834     WHITE  Medicare      M           77.0   \n",
       "\n",
       "   length_of_stay           charttime  heartrate  sysbp  resprate      tempc  \\\n",
       "0               4 2138-07-17 20:20:00      148.0    NaN       NaN        NaN   \n",
       "1               4 2138-07-17 20:30:00      131.0    NaN       NaN        NaN   \n",
       "2               4 2138-07-17 21:00:00      144.0    NaN       NaN        NaN   \n",
       "3               4 2138-07-17 22:00:00      140.0    NaN       NaN        NaN   \n",
       "4              11 2101-10-20 18:30:00        NaN    NaN       NaN  36.055556   \n",
       "\n",
       "   spo2  \n",
       "0   NaN  \n",
       "1   NaN  \n",
       "2   NaN  \n",
       "3   NaN  \n",
       "4   NaN  "
      ]
     },
     "execution_count": 27,
     "metadata": {},
     "output_type": "execute_result"
    }
   ],
   "source": [
    "merge_df.head(5)"
   ]
  },
  {
   "cell_type": "code",
   "execution_count": 28,
   "metadata": {},
   "outputs": [
    {
     "data": {
      "text/plain": [
       "subject_id              0\n",
       "hadm_id                 0\n",
       "ethnicity               0\n",
       "insurance               0\n",
       "gender                  0\n",
       "age_on_admiss           0\n",
       "length_of_stay          0\n",
       "charttime               0\n",
       "heartrate          688687\n",
       "sysbp             2844883\n",
       "resprate          2350596\n",
       "tempc             6892769\n",
       "spo2              2542725\n",
       "dtype: int64"
      ]
     },
     "execution_count": 28,
     "metadata": {},
     "output_type": "execute_result"
    }
   ],
   "source": [
    "merge_df.isnull().sum()"
   ]
  },
  {
   "cell_type": "code",
   "execution_count": 29,
   "metadata": {},
   "outputs": [
    {
     "data": {
      "text/plain": [
       "(8627341, 13)"
      ]
     },
     "execution_count": 29,
     "metadata": {},
     "output_type": "execute_result"
    }
   ],
   "source": [
    "merge_df.shape"
   ]
  },
  {
   "cell_type": "code",
   "execution_count": 30,
   "metadata": {},
   "outputs": [
    {
     "data": {
      "text/html": [
       "<div>\n",
       "<style scoped>\n",
       "    .dataframe tbody tr th:only-of-type {\n",
       "        vertical-align: middle;\n",
       "    }\n",
       "\n",
       "    .dataframe tbody tr th {\n",
       "        vertical-align: top;\n",
       "    }\n",
       "\n",
       "    .dataframe thead th {\n",
       "        text-align: right;\n",
       "    }\n",
       "</style>\n",
       "<table border=\"1\" class=\"dataframe\">\n",
       "  <thead>\n",
       "    <tr style=\"text-align: right;\">\n",
       "      <th></th>\n",
       "      <th>subject_id</th>\n",
       "      <th>hadm_id</th>\n",
       "      <th>age_on_admiss</th>\n",
       "      <th>length_of_stay</th>\n",
       "      <th>heartrate</th>\n",
       "      <th>sysbp</th>\n",
       "      <th>resprate</th>\n",
       "      <th>tempc</th>\n",
       "      <th>spo2</th>\n",
       "    </tr>\n",
       "  </thead>\n",
       "  <tbody>\n",
       "    <tr>\n",
       "      <th>count</th>\n",
       "      <td>8.627341e+06</td>\n",
       "      <td>8.627341e+06</td>\n",
       "      <td>8.627341e+06</td>\n",
       "      <td>8.627341e+06</td>\n",
       "      <td>7.938654e+06</td>\n",
       "      <td>5.782458e+06</td>\n",
       "      <td>6.276745e+06</td>\n",
       "      <td>1.734572e+06</td>\n",
       "      <td>6.084616e+06</td>\n",
       "    </tr>\n",
       "    <tr>\n",
       "      <th>mean</th>\n",
       "      <td>3.300434e+04</td>\n",
       "      <td>1.498434e+05</td>\n",
       "      <td>5.897300e+01</td>\n",
       "      <td>2.766516e+01</td>\n",
       "      <td>1.014212e+02</td>\n",
       "      <td>1.215081e+02</td>\n",
       "      <td>2.020785e+01</td>\n",
       "      <td>3.700469e+01</td>\n",
       "      <td>9.708009e+01</td>\n",
       "    </tr>\n",
       "    <tr>\n",
       "      <th>std</th>\n",
       "      <td>2.785872e+04</td>\n",
       "      <td>2.874910e+04</td>\n",
       "      <td>5.305239e+01</td>\n",
       "      <td>2.898572e+01</td>\n",
       "      <td>3.279940e+01</td>\n",
       "      <td>2.368802e+01</td>\n",
       "      <td>6.043783e+00</td>\n",
       "      <td>8.432616e-01</td>\n",
       "      <td>3.495221e+00</td>\n",
       "    </tr>\n",
       "    <tr>\n",
       "      <th>min</th>\n",
       "      <td>2.000000e+00</td>\n",
       "      <td>1.000010e+05</td>\n",
       "      <td>0.000000e+00</td>\n",
       "      <td>0.000000e+00</td>\n",
       "      <td>1.460000e-01</td>\n",
       "      <td>6.000000e-02</td>\n",
       "      <td>1.700000e-01</td>\n",
       "      <td>1.500000e+01</td>\n",
       "      <td>5.000000e-01</td>\n",
       "    </tr>\n",
       "    <tr>\n",
       "      <th>25%</th>\n",
       "      <td>1.156300e+04</td>\n",
       "      <td>1.253430e+05</td>\n",
       "      <td>3.700000e+01</td>\n",
       "      <td>9.000000e+00</td>\n",
       "      <td>7.800000e+01</td>\n",
       "      <td>1.040000e+02</td>\n",
       "      <td>1.600000e+01</td>\n",
       "      <td>3.644444e+01</td>\n",
       "      <td>9.600000e+01</td>\n",
       "    </tr>\n",
       "    <tr>\n",
       "      <th>50%</th>\n",
       "      <td>2.348300e+04</td>\n",
       "      <td>1.491550e+05</td>\n",
       "      <td>6.100000e+01</td>\n",
       "      <td>1.800000e+01</td>\n",
       "      <td>9.200000e+01</td>\n",
       "      <td>1.190000e+02</td>\n",
       "      <td>2.000000e+01</td>\n",
       "      <td>3.700000e+01</td>\n",
       "      <td>9.800000e+01</td>\n",
       "    </tr>\n",
       "    <tr>\n",
       "      <th>75%</th>\n",
       "      <td>5.255000e+04</td>\n",
       "      <td>1.749130e+05</td>\n",
       "      <td>7.500000e+01</td>\n",
       "      <td>3.500000e+01</td>\n",
       "      <td>1.190000e+02</td>\n",
       "      <td>1.370000e+02</td>\n",
       "      <td>2.400000e+01</td>\n",
       "      <td>3.755555e+01</td>\n",
       "      <td>9.900000e+01</td>\n",
       "    </tr>\n",
       "    <tr>\n",
       "      <th>max</th>\n",
       "      <td>9.999900e+04</td>\n",
       "      <td>1.999990e+05</td>\n",
       "      <td>3.100000e+02</td>\n",
       "      <td>2.950000e+02</td>\n",
       "      <td>2.920000e+02</td>\n",
       "      <td>3.550000e+02</td>\n",
       "      <td>6.900000e+01</td>\n",
       "      <td>4.650000e+01</td>\n",
       "      <td>1.000000e+02</td>\n",
       "    </tr>\n",
       "  </tbody>\n",
       "</table>\n",
       "</div>"
      ],
      "text/plain": [
       "         subject_id       hadm_id  age_on_admiss  length_of_stay  \\\n",
       "count  8.627341e+06  8.627341e+06   8.627341e+06    8.627341e+06   \n",
       "mean   3.300434e+04  1.498434e+05   5.897300e+01    2.766516e+01   \n",
       "std    2.785872e+04  2.874910e+04   5.305239e+01    2.898572e+01   \n",
       "min    2.000000e+00  1.000010e+05   0.000000e+00    0.000000e+00   \n",
       "25%    1.156300e+04  1.253430e+05   3.700000e+01    9.000000e+00   \n",
       "50%    2.348300e+04  1.491550e+05   6.100000e+01    1.800000e+01   \n",
       "75%    5.255000e+04  1.749130e+05   7.500000e+01    3.500000e+01   \n",
       "max    9.999900e+04  1.999990e+05   3.100000e+02    2.950000e+02   \n",
       "\n",
       "          heartrate         sysbp      resprate         tempc          spo2  \n",
       "count  7.938654e+06  5.782458e+06  6.276745e+06  1.734572e+06  6.084616e+06  \n",
       "mean   1.014212e+02  1.215081e+02  2.020785e+01  3.700469e+01  9.708009e+01  \n",
       "std    3.279940e+01  2.368802e+01  6.043783e+00  8.432616e-01  3.495221e+00  \n",
       "min    1.460000e-01  6.000000e-02  1.700000e-01  1.500000e+01  5.000000e-01  \n",
       "25%    7.800000e+01  1.040000e+02  1.600000e+01  3.644444e+01  9.600000e+01  \n",
       "50%    9.200000e+01  1.190000e+02  2.000000e+01  3.700000e+01  9.800000e+01  \n",
       "75%    1.190000e+02  1.370000e+02  2.400000e+01  3.755555e+01  9.900000e+01  \n",
       "max    2.920000e+02  3.550000e+02  6.900000e+01  4.650000e+01  1.000000e+02  "
      ]
     },
     "execution_count": 30,
     "metadata": {},
     "output_type": "execute_result"
    }
   ],
   "source": [
    "merge_df.describe()"
   ]
  },
  {
   "cell_type": "code",
   "execution_count": 36,
   "metadata": {},
   "outputs": [],
   "source": [
    "merge_agg_df = merge_df.groupby('hadm_id').agg('mean')\n"
   ]
  },
  {
   "cell_type": "code",
   "execution_count": 31,
   "metadata": {},
   "outputs": [
    {
     "data": {
      "text/plain": [
       "['subject_id',\n",
       " 'hadm_id',\n",
       " 'ethnicity',\n",
       " 'insurance',\n",
       " 'gender',\n",
       " 'age_on_admiss',\n",
       " 'length_of_stay',\n",
       " 'charttime',\n",
       " 'heartrate',\n",
       " 'sysbp',\n",
       " 'resprate',\n",
       " 'tempc',\n",
       " 'spo2']"
      ]
     },
     "execution_count": 31,
     "metadata": {},
     "output_type": "execute_result"
    }
   ],
   "source": [
    "list(merge_df)"
   ]
  },
  {
   "cell_type": "code",
   "execution_count": 37,
   "metadata": {},
   "outputs": [
    {
     "data": {
      "text/plain": [
       "subject_id           0\n",
       "age_on_admiss        0\n",
       "length_of_stay       0\n",
       "heartrate           12\n",
       "sysbp             7693\n",
       "resprate          7708\n",
       "tempc             7825\n",
       "spo2              7727\n",
       "dtype: int64"
      ]
     },
     "execution_count": 37,
     "metadata": {},
     "output_type": "execute_result"
    }
   ],
   "source": [
    "merge_agg_df.isnull().sum()"
   ]
  },
  {
   "cell_type": "code",
   "execution_count": 38,
   "metadata": {},
   "outputs": [
    {
     "data": {
      "text/html": [
       "<div>\n",
       "<style scoped>\n",
       "    .dataframe tbody tr th:only-of-type {\n",
       "        vertical-align: middle;\n",
       "    }\n",
       "\n",
       "    .dataframe tbody tr th {\n",
       "        vertical-align: top;\n",
       "    }\n",
       "\n",
       "    .dataframe thead th {\n",
       "        text-align: right;\n",
       "    }\n",
       "</style>\n",
       "<table border=\"1\" class=\"dataframe\">\n",
       "  <thead>\n",
       "    <tr style=\"text-align: right;\">\n",
       "      <th></th>\n",
       "      <th>subject_id</th>\n",
       "      <th>age_on_admiss</th>\n",
       "      <th>length_of_stay</th>\n",
       "      <th>heartrate</th>\n",
       "      <th>sysbp</th>\n",
       "      <th>resprate</th>\n",
       "      <th>tempc</th>\n",
       "      <th>spo2</th>\n",
       "    </tr>\n",
       "  </thead>\n",
       "  <tbody>\n",
       "    <tr>\n",
       "      <th>count</th>\n",
       "      <td>56725.000000</td>\n",
       "      <td>56725.000000</td>\n",
       "      <td>56725.000000</td>\n",
       "      <td>56713.000000</td>\n",
       "      <td>49032.000000</td>\n",
       "      <td>49017.000000</td>\n",
       "      <td>48900.000000</td>\n",
       "      <td>48998.000000</td>\n",
       "    </tr>\n",
       "    <tr>\n",
       "      <th>mean</th>\n",
       "      <td>33889.740467</td>\n",
       "      <td>64.718431</td>\n",
       "      <td>10.221966</td>\n",
       "      <td>92.589150</td>\n",
       "      <td>120.829083</td>\n",
       "      <td>19.118249</td>\n",
       "      <td>36.833328</td>\n",
       "      <td>96.879525</td>\n",
       "    </tr>\n",
       "    <tr>\n",
       "      <th>std</th>\n",
       "      <td>28162.107130</td>\n",
       "      <td>57.375131</td>\n",
       "      <td>12.562837</td>\n",
       "      <td>24.235403</td>\n",
       "      <td>16.310950</td>\n",
       "      <td>3.594148</td>\n",
       "      <td>0.546761</td>\n",
       "      <td>2.429015</td>\n",
       "    </tr>\n",
       "    <tr>\n",
       "      <th>min</th>\n",
       "      <td>2.000000</td>\n",
       "      <td>0.000000</td>\n",
       "      <td>0.000000</td>\n",
       "      <td>29.916667</td>\n",
       "      <td>29.166667</td>\n",
       "      <td>7.000000</td>\n",
       "      <td>30.000000</td>\n",
       "      <td>31.444444</td>\n",
       "    </tr>\n",
       "    <tr>\n",
       "      <th>25%</th>\n",
       "      <td>12028.000000</td>\n",
       "      <td>44.000000</td>\n",
       "      <td>4.000000</td>\n",
       "      <td>76.681818</td>\n",
       "      <td>109.244127</td>\n",
       "      <td>16.560606</td>\n",
       "      <td>36.501409</td>\n",
       "      <td>96.045455</td>\n",
       "    </tr>\n",
       "    <tr>\n",
       "      <th>50%</th>\n",
       "      <td>24204.000000</td>\n",
       "      <td>62.000000</td>\n",
       "      <td>7.000000</td>\n",
       "      <td>86.863636</td>\n",
       "      <td>119.056187</td>\n",
       "      <td>18.685039</td>\n",
       "      <td>36.819444</td>\n",
       "      <td>97.200000</td>\n",
       "    </tr>\n",
       "    <tr>\n",
       "      <th>75%</th>\n",
       "      <td>54247.000000</td>\n",
       "      <td>76.000000</td>\n",
       "      <td>12.000000</td>\n",
       "      <td>100.232955</td>\n",
       "      <td>131.143908</td>\n",
       "      <td>21.233129</td>\n",
       "      <td>37.162901</td>\n",
       "      <td>98.205128</td>\n",
       "    </tr>\n",
       "    <tr>\n",
       "      <th>max</th>\n",
       "      <td>99999.000000</td>\n",
       "      <td>310.000000</td>\n",
       "      <td>295.000000</td>\n",
       "      <td>244.800000</td>\n",
       "      <td>215.833333</td>\n",
       "      <td>45.500000</td>\n",
       "      <td>40.833333</td>\n",
       "      <td>100.000000</td>\n",
       "    </tr>\n",
       "  </tbody>\n",
       "</table>\n",
       "</div>"
      ],
      "text/plain": [
       "         subject_id  age_on_admiss  length_of_stay     heartrate  \\\n",
       "count  56725.000000   56725.000000    56725.000000  56713.000000   \n",
       "mean   33889.740467      64.718431       10.221966     92.589150   \n",
       "std    28162.107130      57.375131       12.562837     24.235403   \n",
       "min        2.000000       0.000000        0.000000     29.916667   \n",
       "25%    12028.000000      44.000000        4.000000     76.681818   \n",
       "50%    24204.000000      62.000000        7.000000     86.863636   \n",
       "75%    54247.000000      76.000000       12.000000    100.232955   \n",
       "max    99999.000000     310.000000      295.000000    244.800000   \n",
       "\n",
       "              sysbp      resprate         tempc          spo2  \n",
       "count  49032.000000  49017.000000  48900.000000  48998.000000  \n",
       "mean     120.829083     19.118249     36.833328     96.879525  \n",
       "std       16.310950      3.594148      0.546761      2.429015  \n",
       "min       29.166667      7.000000     30.000000     31.444444  \n",
       "25%      109.244127     16.560606     36.501409     96.045455  \n",
       "50%      119.056187     18.685039     36.819444     97.200000  \n",
       "75%      131.143908     21.233129     37.162901     98.205128  \n",
       "max      215.833333     45.500000     40.833333    100.000000  "
      ]
     },
     "execution_count": 38,
     "metadata": {},
     "output_type": "execute_result"
    }
   ],
   "source": [
    "merge_agg_df.describe()"
   ]
  },
  {
   "cell_type": "code",
   "execution_count": 43,
   "metadata": {},
   "outputs": [
    {
     "data": {
      "text/plain": [
       "subject_id         0.000000\n",
       "age_on_admiss      0.000000\n",
       "length_of_stay     0.000000\n",
       "heartrate          0.021159\n",
       "sysbp             15.689754\n",
       "resprate          15.725157\n",
       "tempc             16.002045\n",
       "spo2              15.770031\n",
       "dtype: float64"
      ]
     },
     "execution_count": 43,
     "metadata": {},
     "output_type": "execute_result"
    }
   ],
   "source": [
    "(merge_agg_df.isnull().sum()/merge_agg_df.count())* 100"
   ]
  },
  {
   "cell_type": "code",
   "execution_count": 48,
   "metadata": {},
   "outputs": [
    {
     "data": {
      "text/plain": [
       "<matplotlib.axes._subplots.AxesSubplot at 0x10dbadcc0>"
      ]
     },
     "execution_count": 48,
     "metadata": {},
     "output_type": "execute_result"
    },
    {
     "data": {
      "image/png": "[encoded data removed]",
      "text/plain": [
       "<Figure size 432x288 with 2 Axes>"
      ]
     },
     "metadata": {},
     "output_type": "display_data"
    }
   ],
   "source": [
    "import seaborn as sns\n",
    "import matplotlib\n",
    "%matplotlib inline\n",
    "corr = merge_agg_df.corr()\n",
    "sns.heatmap(corr)\n"
   ]
  },
  {
   "cell_type": "code",
   "execution_count": 54,
   "metadata": {},
   "outputs": [
    {
     "name": "stderr",
     "output_type": "stream",
     "text": [
      "/Users/michaelalbuquerque/anaconda/envs/mimic/lib/python3.6/site-packages/matplotlib/axes/_axes.py:6462: UserWarning: The 'normed' kwarg is deprecated, and has been replaced by the 'density' kwarg.\n",
      "  warnings.warn(\"The 'normed' kwarg is deprecated, and has been \"\n"
     ]
    },
    {
     "data": {
      "text/plain": [
       "<matplotlib.axes._subplots.AxesSubplot at 0x10dc0fa58>"
      ]
     },
     "execution_count": 54,
     "metadata": {},
     "output_type": "execute_result"
    },
    {
     "data": {
      "image/png": "[encoded data removed]",
      "text/plain": [
       "<Figure size 432x288 with 1 Axes>"
      ]
     },
     "metadata": {},
     "output_type": "display_data"
    }
   ],
   "source": [
    "sns.distplot(merge_agg_df['age_on_admiss'])\n"
   ]
  },
  {
   "cell_type": "code",
   "execution_count": 56,
   "metadata": {},
   "outputs": [],
   "source": [
    "import numpy as np\n",
    "merge_agg_df['age_on_admiss'] = np.where(merge_agg_df['age_on_admiss']>100, 90, merge_agg_df['age_on_admiss'])"
   ]
  },
  {
   "cell_type": "code",
   "execution_count": 57,
   "metadata": {},
   "outputs": [
    {
     "name": "stderr",
     "output_type": "stream",
     "text": [
      "/Users/michaelalbuquerque/anaconda/envs/mimic/lib/python3.6/site-packages/matplotlib/axes/_axes.py:6462: UserWarning: The 'normed' kwarg is deprecated, and has been replaced by the 'density' kwarg.\n",
      "  warnings.warn(\"The 'normed' kwarg is deprecated, and has been \"\n"
     ]
    },
    {
     "data": {
      "text/plain": [
       "<matplotlib.axes._subplots.AxesSubplot at 0x10d122e80>"
      ]
     },
     "execution_count": 57,
     "metadata": {},
     "output_type": "execute_result"
    },
    {
     "data": {
      "image/png": "[encoded data removed]",
      "text/plain": [
       "<Figure size 432x288 with 1 Axes>"
      ]
     },
     "metadata": {},
     "output_type": "display_data"
    }
   ],
   "source": [
    "sns.distplot(merge_agg_df['age_on_admiss'])\n"
   ]
  },
  {
   "cell_type": "code",
   "execution_count": null,
   "metadata": {
    "collapsed": true
   },
   "outputs": [],
   "source": []
  }
 ],
 "metadata": {
  "kernelspec": {
   "display_name": "Python (mimic)”\n",
   "language": "python",
   "name": "mimic"
  },
  "language_info": {
   "codemirror_mode": {
    "name": "ipython",
    "version": 3
   },
   "file_extension": ".py",
   "mimetype": "text/x-python",
   "name": "python",
   "nbconvert_exporter": "python",
   "pygments_lexer": "ipython3",
   "version": "3.6.5"
  }
 },
 "nbformat": 4,
 "nbformat_minor": 2
}
