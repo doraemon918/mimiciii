{
 "cells": [
  {
   "cell_type": "code",
   "execution_count": 101,
   "metadata": {},
   "outputs": [
    {
     "name": "stdout",
     "output_type": "stream",
     "text": [
      "   subject_id  hadm_id ethnicity insurance gender  age_on_admiss  \\\n",
      "0           2   163353     ASIAN   Private      M            0.0   \n",
      "1           3   145834     WHITE  Medicare      M           77.0   \n",
      "2           4   185777     WHITE   Private      F           48.0   \n",
      "3           5   178980     ASIAN   Private      M            0.0   \n",
      "4           6   107064     WHITE  Medicare      F           66.0   \n",
      "\n",
      "   length_of_stay  \n",
      "0               4  \n",
      "1              11  \n",
      "2               7  \n",
      "3               2  \n",
      "4              16  \n"
     ]
    }
   ],
   "source": [
    "import pandas as pd\n",
    "import numpy as np\n",
    "import psycopg2\n",
    "import seaborn as sns\n",
    "import matplotlib\n",
    "import matplotlib.pyplot as plt\n",
    "%matplotlib inline\n",
    "\n",
    "\n",
    "sqluser = 'postgres'\n",
    "dbname = 'mimic'\n",
    "schema_name = 'mimiciii'\n",
    "\n",
    "# Password keyword only necessary if user-specified password required to connect to database\n",
    "con = psycopg2.connect(dbname=dbname, user=sqluser, password='postgre')\n",
    "cur = con.cursor()\n",
    "\n",
    "query = \"SELECT\" \\\n",
    "        \" a.subject_id, a.hadm_id, a.ethnicity, a.insurance, p.gender\" \\\n",
    "        \", ROUND( (cast(a.admittime as date) - cast(p.dob as date)) / 365.242)\" \\\n",
    "        \" AS age_on_admiss\" \\\n",
    "        \", cast(a.dischtime as date) - cast(a.admittime as date)\" \\\n",
    "        \" AS length_of_stay\" \\\n",
    "        \" FROM admissions a\" \\\n",
    "        \" INNER JOIN patients p\" \\\n",
    "        \" ON p.subject_id = a.subject_id\" \\\n",
    "        \" GROUP BY\" \\\n",
    "        \" a.subject_id, a.hadm_id, a.ethnicity, a.insurance, p.gender, a.admittime, p.dob, a.dischtime\" \\\n",
    "        \" ORDER BY a.subject_id;\"\n",
    "\n",
    "cur.execute('SET search_path to ' + schema_name)\n",
    "df = pd.read_sql_query(query, con)\n",
    "\n",
    "print(df.head(5))"
   ]
  },
  {
   "cell_type": "markdown",
   "metadata": {},
   "source": [
    "## Pulling in CHARTEVENTS and LABEVENTS data"
   ]
  },
  {
   "cell_type": "code",
   "execution_count": 3,
   "metadata": {},
   "outputs": [
    {
     "name": "stdout",
     "output_type": "stream",
     "text": [
      "   hadm_id           charttime  heartrate  sysbp  resprate      tempc  spo2\n",
      "0   100001 2117-09-11 12:57:00      122.0    NaN      14.0        NaN   NaN\n",
      "1   100001 2117-09-11 13:00:00      118.0    NaN      22.0        NaN   NaN\n",
      "2   100001 2117-09-11 13:01:00        NaN  192.0       NaN        NaN   NaN\n",
      "3   100001 2117-09-11 13:48:00        NaN    NaN       NaN  36.666667   NaN\n",
      "4   100001 2117-09-11 13:50:00      118.0    NaN      22.0        NaN   NaN\n",
      "Wall time: 15min 26s\n"
     ]
    }
   ],
   "source": [
    "%%time\n",
    "# Pulling in vital signs data\n",
    "# Code adapted from https://github.com/MIT-LCP/mimic-code/blob/master/concepts/pivot/pivoted-vital.sql\n",
    "\n",
    "query_vitals = \"\"\" with ce as\n",
    "(\n",
    "  select ce.hadm_id\n",
    "    , ce.charttime\n",
    "    , (case when itemid in (211,220045) and valuenum > 0 and valuenum < 300 then valuenum else null end) as HeartRate\n",
    "    , (case when itemid in (51,442,455,6701,220179,220050) and valuenum > 0 and valuenum < 400 then valuenum else null end) as SysBP\n",
    "    , (case when itemid in (615,618,220210,224690) and valuenum > 0 and valuenum < 70 then valuenum else null end) as RespRate\n",
    "    , (case when itemid in (223761,678) and valuenum > 70 and valuenum < 120 then (valuenum-32)/1.8 -- converted to degC in valuenum call\n",
    "               when itemid in (223762,676) and valuenum > 10 and valuenum < 50  then valuenum else null end) as TempC\n",
    "    , (case when itemid in (646,220277) and valuenum > 0 and valuenum <= 100 then valuenum else null end) as SpO2\n",
    "  from mimiciii.chartevents ce\n",
    "  -- exclude rows marked as error\n",
    "  where ce.error IS DISTINCT FROM 1\n",
    "  and ce.itemid in\n",
    "  (\n",
    "  -- HEART RATE\n",
    "  211, --\"Heart Rate\"\n",
    "  220045, --\"Heart Rate\"\n",
    "\n",
    "  -- Systolic\n",
    "\n",
    "  51, --\tArterial BP [Systolic]\n",
    "  442, --\tManual BP [Systolic]\n",
    "  455, --\tNBP [Systolic]\n",
    "  6701, --\tArterial BP #2 [Systolic]\n",
    "  220179, --\tNon Invasive Blood Pressure systolic\n",
    "  220050, --\tArterial Blood Pressure systolic\n",
    "\n",
    "  -- RESPIRATORY RATE\n",
    "  618,--\tRespiratory Rate\n",
    "  615,--\tResp Rate (Total)\n",
    "  220210,--\tRespiratory Rate\n",
    "  224690, --\tRespiratory Rate (Total)\n",
    "\n",
    "\n",
    "  -- SPO2, peripheral\n",
    "  646, 220277,\n",
    "\n",
    "\n",
    "  -- TEMPERATURE\n",
    "  223762, -- \"Temperature Celsius\"\n",
    "  676,\t-- \"Temperature C\"\n",
    "  223761, -- \"Temperature Fahrenheit\"\n",
    "  678 --\t\"Temperature F\"\n",
    "\n",
    "  )\n",
    ")\n",
    "select\n",
    "    ce.hadm_id\n",
    "  , ce.charttime\n",
    "  , avg(HeartRate) as HeartRate\n",
    "  , avg(SysBP) as SysBP\n",
    "  , avg(RespRate) as RespRate\n",
    "  , avg(TempC) as TempC\n",
    "  , avg(SpO2) as SpO2\n",
    "from ce\n",
    "group by ce.hadm_id, ce.charttime\n",
    "order by ce.hadm_id, ce.charttime;\"\"\"\n",
    "\n",
    "df_vitals = pd.read_sql_query(query_vitals, con)\n",
    "\n",
    "print(df_vitals.head(5))"
   ]
  },
  {
   "cell_type": "code",
   "execution_count": 4,
   "metadata": {
    "scrolled": true
   },
   "outputs": [
    {
     "name": "stdout",
     "output_type": "stream",
     "text": [
      "<class 'pandas.core.frame.DataFrame'>\n",
      "RangeIndex: 8627341 entries, 0 to 8627340\n",
      "Data columns (total 7 columns):\n",
      "hadm_id      int64\n",
      "charttime    datetime64[ns]\n",
      "heartrate    float64\n",
      "sysbp        float64\n",
      "resprate     float64\n",
      "tempc        float64\n",
      "spo2         float64\n",
      "dtypes: datetime64[ns](1), float64(5), int64(1)\n",
      "memory usage: 460.7 MB\n"
     ]
    }
   ],
   "source": [
    "df_vitals.info()"
   ]
  },
  {
   "cell_type": "code",
   "execution_count": 32,
   "metadata": {},
   "outputs": [
    {
     "name": "stdout",
     "output_type": "stream",
     "text": [
      "    hadm_id           charttime  bilirubin  creatinine  hematocrit  \\\n",
      "0  100001.0 2117-09-11 08:22:00        0.5         2.7        36.5   \n",
      "1  100001.0 2117-09-11 08:32:00        NaN         NaN         NaN   \n",
      "2  100001.0 2117-09-11 09:24:00        NaN         NaN         NaN   \n",
      "3  100001.0 2117-09-11 10:32:00        NaN         2.5         NaN   \n",
      "4  100001.0 2117-09-11 14:50:00        NaN         2.3         NaN   \n",
      "\n",
      "   hemoglobin  lactate  platelet   ptt  inr   wbc   rdw  \n",
      "0        13.0      NaN     466.0   NaN  NaN  11.9  13.6  \n",
      "1         NaN      1.9       NaN   NaN  NaN   NaN   NaN  \n",
      "2         NaN      NaN       NaN  27.0  1.0   NaN   NaN  \n",
      "3         NaN      NaN       NaN   NaN  NaN   NaN   NaN  \n",
      "4         NaN      NaN       NaN   NaN  NaN   NaN   NaN  \n",
      "Wall time: 1min 49s\n"
     ]
    }
   ],
   "source": [
    "%%time\n",
    "# Pulling in lab data\n",
    "# Code adapted from https://github.com/MIT-LCP/mimic-code/blob/master/concepts/pivot/pivoted-lab.sql, added RDW values\n",
    "\n",
    "query_lab = \"\"\"\n",
    "SELECT\n",
    "    pvt.hadm_id, pvt.charttime\n",
    "  , avg(CASE WHEN label = 'BILIRUBIN' THEN valuenum ELSE null END) as BILIRUBIN\n",
    "  , avg(CASE WHEN label = 'CREATININE' THEN valuenum ELSE null END) as CREATININE\n",
    "  , avg(CASE WHEN label = 'HEMATOCRIT' THEN valuenum ELSE null END) as HEMATOCRIT\n",
    "  , avg(CASE WHEN label = 'HEMOGLOBIN' THEN valuenum ELSE null END) as HEMOGLOBIN\n",
    "  , avg(CASE WHEN label = 'LACTATE' THEN valuenum ELSE null END) as LACTATE\n",
    "  , avg(CASE WHEN label = 'PLATELET' THEN valuenum ELSE null END) as PLATELET\n",
    "  , avg(CASE WHEN label = 'PTT' THEN valuenum ELSE null END) as PTT\n",
    "  , avg(CASE WHEN label = 'INR' THEN valuenum ELSE null END) as INR\n",
    "  , avg(CASE WHEN label = 'WBC' THEN valuenum ELSE null end) as WBC\n",
    "  , avg(CASE WHEN label = 'RDW' THEN valuenum ELSE null end) as RDW\n",
    "FROM\n",
    "( -- begin query that extracts the data\n",
    "  SELECT le.hadm_id, le.charttime\n",
    "  -- here we assign labels to ITEMIDs\n",
    "  -- this also fuses together multiple ITEMIDs containing the same data\n",
    "  , CASE\n",
    "        WHEN itemid = 50885 THEN 'BILIRUBIN'\n",
    "        WHEN itemid = 50912 THEN 'CREATININE'\n",
    "        WHEN itemid = 50810 THEN 'HEMATOCRIT'\n",
    "        WHEN itemid = 51221 THEN 'HEMATOCRIT'\n",
    "        WHEN itemid = 50811 THEN 'HEMOGLOBIN'\n",
    "        WHEN itemid = 51222 THEN 'HEMOGLOBIN'\n",
    "        WHEN itemid = 50813 THEN 'LACTATE'\n",
    "        WHEN itemid = 51265 THEN 'PLATELET'\n",
    "        WHEN itemid = 51275 THEN 'PTT'\n",
    "        WHEN itemid = 51237 THEN 'INR'\n",
    "        WHEN itemid = 51300 THEN 'WBC'\n",
    "        WHEN itemid = 51301 THEN 'WBC'\n",
    "        WHEN itemid = 51277 THEN 'RDW'\n",
    "      ELSE null\n",
    "    END AS label\n",
    "  , -- add in some sanity checks on the values\n",
    "  -- the where clause below requires all valuenum to be > 0, so these are only upper limit checks\n",
    "    CASE\n",
    "      WHEN itemid = 50885 and valuenum >   150 THEN null -- mg/dL 'BILIRUBIN'\n",
    "      WHEN itemid = 50912 and valuenum >   150 THEN null -- mg/dL 'CREATININE'\n",
    "      WHEN itemid = 50810 and valuenum >   100 THEN null -- % 'HEMATOCRIT'\n",
    "      WHEN itemid = 51221 and valuenum >   100 THEN null -- % 'HEMATOCRIT'\n",
    "      WHEN itemid = 50811 and valuenum >    50 THEN null -- g/dL 'HEMOGLOBIN'\n",
    "      WHEN itemid = 51222 and valuenum >    50 THEN null -- g/dL 'HEMOGLOBIN'\n",
    "      WHEN itemid = 50813 and valuenum >    50 THEN null -- mmol/L 'LACTATE'\n",
    "      WHEN itemid = 51265 and valuenum > 10000 THEN null -- K/uL 'PLATELET'\n",
    "      WHEN itemid = 51275 and valuenum >   150 THEN null -- sec 'PTT'\n",
    "      WHEN itemid = 51237 and valuenum >    50 THEN null -- 'INR'\n",
    "      WHEN itemid = 51300 and valuenum >  1000 THEN null -- 'WBC'\n",
    "      WHEN itemid = 51301 and valuenum >  1000 THEN null -- 'WBC'\n",
    "      WHEN itemid = 51277 and valuenum >   100 THEN null -- % 'RDW'\n",
    "    ELSE le.valuenum\n",
    "    END AS valuenum\n",
    "  FROM labevents le\n",
    "  WHERE le.ITEMID in\n",
    "  (\n",
    "    -- comment is: LABEL | CATEGORY | FLUID | NUMBER OF ROWS IN LABEVENTS\n",
    "    50885, -- BILIRUBIN, TOTAL | CHEMISTRY | BLOOD | 238277\n",
    "    50912, -- CREATININE | CHEMISTRY | BLOOD | 797476\n",
    "    51221, -- HEMATOCRIT | HEMATOLOGY | BLOOD | 881846\n",
    "    50810, -- HEMATOCRIT, CALCULATED | BLOOD GAS | BLOOD | 89715\n",
    "    51222, -- HEMOGLOBIN | HEMATOLOGY | BLOOD | 752523\n",
    "    50811, -- HEMOGLOBIN | BLOOD GAS | BLOOD | 89712\n",
    "    50813, -- LACTATE | BLOOD GAS | BLOOD | 187124\n",
    "    51265, -- PLATELET COUNT | HEMATOLOGY | BLOOD | 778444\n",
    "    51275, -- PTT | HEMATOLOGY | BLOOD | 474937\n",
    "    51237, -- INR(PT) | HEMATOLOGY | BLOOD | 471183\n",
    "    51301, -- WHITE BLOOD CELLS | HEMATOLOGY | BLOOD | 753301\n",
    "    51300, -- WBC COUNT | HEMATOLOGY | BLOOD | 2371\n",
    "    51277  -- RDW | HEMATOLOGY | BLOOD | 746817\n",
    "  )\n",
    "  AND valuenum IS NOT NULL AND valuenum > 0 -- lab values cannot be 0 and cannot be negative\n",
    ") pvt\n",
    "GROUP BY pvt.hadm_id, pvt.charttime\n",
    "ORDER BY pvt.hadm_id, pvt.charttime;\"\"\"\n",
    "\n",
    "df_lab = pd.read_sql_query(query_lab, con)\n",
    "\n",
    "print(df_lab.head(5))"
   ]
  },
  {
   "cell_type": "code",
   "execution_count": 33,
   "metadata": {
    "scrolled": true
   },
   "outputs": [
    {
     "name": "stdout",
     "output_type": "stream",
     "text": [
      "<class 'pandas.core.frame.DataFrame'>\n",
      "RangeIndex: 1379506 entries, 0 to 1379505\n",
      "Data columns (total 12 columns):\n",
      "hadm_id       1128033 non-null float64\n",
      "charttime     1379506 non-null datetime64[ns]\n",
      "bilirubin     237774 non-null float64\n",
      "creatinine    794882 non-null float64\n",
      "hematocrit    967387 non-null float64\n",
      "hemoglobin    838257 non-null float64\n",
      "lactate       187013 non-null float64\n",
      "platelet      775825 non-null float64\n",
      "ptt           473092 non-null float64\n",
      "inr           470161 non-null float64\n",
      "wbc           750953 non-null float64\n",
      "rdw           744128 non-null float64\n",
      "dtypes: datetime64[ns](1), float64(11)\n",
      "memory usage: 126.3 MB\n"
     ]
    }
   ],
   "source": [
    "df_lab.info()"
   ]
  },
  {
   "cell_type": "code",
   "execution_count": 39,
   "metadata": {},
   "outputs": [
    {
     "name": "stdout",
     "output_type": "stream",
     "text": [
      "<class 'pandas.core.frame.DataFrame'>\n",
      "Int64Index: 1128033 entries, 0 to 1128032\n",
      "Data columns (total 12 columns):\n",
      "hadm_id       1128033 non-null float64\n",
      "charttime     1128033 non-null datetime64[ns]\n",
      "bilirubin     173784 non-null float64\n",
      "creatinine    619458 non-null float64\n",
      "hematocrit    778954 non-null float64\n",
      "hemoglobin    662224 non-null float64\n",
      "lactate       177956 non-null float64\n",
      "platelet      598837 non-null float64\n",
      "ptt           402346 non-null float64\n",
      "inr           378278 non-null float64\n",
      "wbc           577532 non-null float64\n",
      "rdw           572042 non-null float64\n",
      "dtypes: datetime64[ns](1), float64(11)\n",
      "memory usage: 111.9 MB\n"
     ]
    }
   ],
   "source": [
    "# Dropping rows where hadm_id is null\n",
    "\n",
    "df2_lab = df_lab.dropna(axis=0, how='any', subset=['hadm_id'])\n",
    "df2_lab.info()"
   ]
  },
  {
   "cell_type": "markdown",
   "metadata": {},
   "source": [
    "### What is the average number of each type of measurement per stay?"
   ]
  },
  {
   "cell_type": "code",
   "execution_count": 89,
   "metadata": {},
   "outputs": [
    {
     "name": "stdout",
     "output_type": "stream",
     "text": [
      "Ave. number of bilirubin measurements per hospital stay: 2.991685172752156\n",
      "Std. dev of bilirubin measurements per hospital stay: 6.69231124103759\n",
      "Min. number of bilirubin measurements per hospital stay: 0\n",
      "Max. number of bilirubin measurements per hospital stay: 191\n",
      "          bilirubin\n",
      "hadm_id            \n",
      "100001.0          1\n",
      "100003.0          5\n",
      "100006.0          0\n",
      "100007.0          1\n",
      "100009.0          1\n",
      "Ave. number of creatinine measurements per hospital stay: 10.66394670247379\n",
      "Std. dev of creatinine measurements per hospital stay: 13.123923938928339\n",
      "Min. number of creatinine measurements per hospital stay: 0\n",
      "Max. number of creatinine measurements per hospital stay: 351\n",
      "          creatinine\n",
      "hadm_id             \n",
      "100001.0          14\n",
      "100003.0           6\n",
      "100006.0          13\n",
      "100007.0           9\n",
      "100009.0           6\n",
      "Ave. number of hematocrit measurements per hospital stay: 13.409664480366335\n",
      "Std. dev of hematocrit measurements per hospital stay: 15.64153640272455\n",
      "Min. number of hematocrit measurements per hospital stay: 0\n",
      "Max. number of hematocrit measurements per hospital stay: 371\n",
      "          hematocrit\n",
      "hadm_id             \n",
      "100001.0           7\n",
      "100003.0          12\n",
      "100006.0          13\n",
      "100007.0           8\n",
      "100009.0          10\n",
      "Ave. number of hemoglobin measurements per hospital stay: 11.400161820654512\n",
      "Std. dev of hemoglobin measurements per hospital stay: 13.2188165081452\n",
      "Min. number of hemoglobin measurements per hospital stay: 0\n",
      "Max. number of hemoglobin measurements per hospital stay: 342\n",
      "          hemoglobin\n",
      "hadm_id             \n",
      "100001.0           7\n",
      "100003.0           8\n",
      "100006.0          13\n",
      "100007.0           8\n",
      "100009.0          10\n",
      "Ave. number of lactate measurements per hospital stay: 3.063505999414691\n",
      "Std. dev of lactate measurements per hospital stay: 6.673596301147627\n",
      "Min. number of lactate measurements per hospital stay: 0\n",
      "Max. number of lactate measurements per hospital stay: 180\n",
      "          lactate\n",
      "hadm_id          \n",
      "100001.0        1\n",
      "100003.0        1\n",
      "100006.0        1\n",
      "100007.0        2\n",
      "100009.0        2\n",
      "Ave. number of platelet measurements per hospital stay: 10.308956945376922\n",
      "Std. dev of platelet measurements per hospital stay: 12.943644966133002\n",
      "Min. number of platelet measurements per hospital stay: 0\n",
      "Max. number of platelet measurements per hospital stay: 358\n",
      "          platelet\n",
      "hadm_id           \n",
      "100001.0         7\n",
      "100003.0         7\n",
      "100006.0        13\n",
      "100007.0         8\n",
      "100009.0         7\n",
      "Ave. number of ptt measurements per hospital stay: 6.926371602196629\n",
      "Std. dev of ptt measurements per hospital stay: 11.311062147278527\n",
      "Min. number of ptt measurements per hospital stay: 0\n",
      "Max. number of ptt measurements per hospital stay: 279\n",
      "          ptt\n",
      "hadm_id      \n",
      "100001.0    1\n",
      "100003.0    5\n",
      "100006.0   15\n",
      "100007.0    1\n",
      "100009.0    5\n",
      "Ave. number of inr measurements per hospital stay: 6.512041866790614\n",
      "Std. dev of inr measurements per hospital stay: 10.067028344075768\n",
      "Min. number of inr measurements per hospital stay: 0\n",
      "Max. number of inr measurements per hospital stay: 215\n",
      "          inr\n",
      "hadm_id      \n",
      "100001.0    1\n",
      "100003.0    5\n",
      "100006.0   13\n",
      "100007.0    1\n",
      "100009.0    4\n",
      "Ave. number of wbc measurements per hospital stay: 9.942192153419752\n",
      "Std. dev of wbc measurements per hospital stay: 11.82935690456973\n",
      "Min. number of wbc measurements per hospital stay: 0\n",
      "Max. number of wbc measurements per hospital stay: 319\n",
      "          wbc\n",
      "hadm_id      \n",
      "100001.0    7\n",
      "100003.0    7\n",
      "100006.0   13\n",
      "100007.0    8\n",
      "100009.0    7\n",
      "Ave. number of rdw measurements per hospital stay: 9.84768200519892\n",
      "Std. dev of rdw measurements per hospital stay: 11.736416113974325\n",
      "Min. number of rdw measurements per hospital stay: 0\n",
      "Max. number of rdw measurements per hospital stay: 319\n",
      "          rdw\n",
      "hadm_id      \n",
      "100001.0    7\n",
      "100003.0    7\n",
      "100006.0   13\n",
      "100007.0    8\n",
      "100009.0    7\n"
     ]
    }
   ],
   "source": [
    "def labStats(feature):\n",
    "    df_labStat = df2_lab[['hadm_id', feature]]\n",
    "    labStat_sorted = df_labStat.set_index('hadm_id').sort_index()\n",
    "    labStat_grouped = labStat_sorted.groupby(labStat_sorted.index).count()\n",
    "    print('Ave. number of', feature, 'measurements per hospital stay:', labStat_grouped.mean()[0])\n",
    "    print('Std. dev of', feature, 'measurements per hospital stay:', labStat_grouped.std()[0])\n",
    "    print('Min. number of', feature, 'measurements per hospital stay:', labStat_grouped.min()[0])\n",
    "    print('Max. number of', feature, 'measurements per hospital stay:', labStat_grouped.max()[0])\n",
    "    return labStat_grouped.head()\n",
    "\n",
    "for i in df_lab.columns[2:]:\n",
    "    print(labStats(i))"
   ]
  },
  {
   "cell_type": "markdown",
   "metadata": {},
   "source": [
    "Looks like there is large variation in terms of number of each measurement per hospital stay."
   ]
  },
  {
   "cell_type": "markdown",
   "metadata": {},
   "source": [
    "## Distributions for lab features"
   ]
  },
  {
   "cell_type": "code",
   "execution_count": 104,
   "metadata": {},
   "outputs": [
    {
     "data": {
      "text/plain": [
       "<matplotlib.figure.Figure at 0x2d8a97c8f60>"
      ]
     },
     "metadata": {},
     "output_type": "display_data"
    },
    {
     "name": "stdout",
     "output_type": "stream",
     "text": [
      "AxesSubplot(0.125,0.125;0.775x0.755)\n"
     ]
    },
    {
     "data": {
      "image/png": "[encoded data removed]",
      "text/plain": [
       "<matplotlib.figure.Figure at 0x2d89f121e80>"
      ]
     },
     "metadata": {},
     "output_type": "display_data"
    },
    {
     "data": {
      "text/plain": [
       "<matplotlib.figure.Figure at 0x2d8a6c2c710>"
      ]
     },
     "metadata": {},
     "output_type": "display_data"
    },
    {
     "name": "stdout",
     "output_type": "stream",
     "text": [
      "AxesSubplot(0.125,0.125;0.775x0.755)\n"
     ]
    },
    {
     "data": {
      "image/png": "[encoded data removed]",
      "text/plain": [
       "<matplotlib.figure.Figure at 0x2d8a5e626d8>"
      ]
     },
     "metadata": {},
     "output_type": "display_data"
    },
    {
     "data": {
      "text/plain": [
       "<matplotlib.figure.Figure at 0x2d8a8608a90>"
      ]
     },
     "metadata": {},
     "output_type": "display_data"
    },
    {
     "name": "stdout",
     "output_type": "stream",
     "text": [
      "AxesSubplot(0.125,0.125;0.775x0.755)\n"
     ]
    },
    {
     "data": {
      "image/png": "[encoded data removed]",
      "text/plain": [
       "<matplotlib.figure.Figure at 0x2d8a90dbcf8>"
      ]
     },
     "metadata": {},
     "output_type": "display_data"
    },
    {
     "data": {
      "text/plain": [
       "<matplotlib.figure.Figure at 0x2d8a6c18160>"
      ]
     },
     "metadata": {},
     "output_type": "display_data"
    },
    {
     "name": "stdout",
     "output_type": "stream",
     "text": [
      "AxesSubplot(0.125,0.125;0.775x0.755)\n"
     ]
    },
    {
     "data": {
      "image/png": "[encoded data removed]",
      "text/plain": [
       "<matplotlib.figure.Figure at 0x2d8a90dbcf8>"
      ]
     },
     "metadata": {},
     "output_type": "display_data"
    },
    {
     "data": {
      "text/plain": [
       "<matplotlib.figure.Figure at 0x2d8a6c36dd8>"
      ]
     },
     "metadata": {},
     "output_type": "display_data"
    },
    {
     "name": "stdout",
     "output_type": "stream",
     "text": [
      "AxesSubplot(0.125,0.125;0.775x0.755)\n"
     ]
    },
    {
     "data": {
      "image/png": "[encoded data removed]",
      "text/plain": [
       "<matplotlib.figure.Figure at 0x2d8a6b50240>"
      ]
     },
     "metadata": {},
     "output_type": "display_data"
    },
    {
     "data": {
      "text/plain": [
       "<matplotlib.figure.Figure at 0x2d8a6a8d278>"
      ]
     },
     "metadata": {},
     "output_type": "display_data"
    },
    {
     "name": "stdout",
     "output_type": "stream",
     "text": [
      "AxesSubplot(0.125,0.125;0.775x0.755)\n"
     ]
    },
    {
     "data": {
      "image/png": "[encoded data removed]",
      "text/plain": [
       "<matplotlib.figure.Figure at 0x2d8a8660240>"
      ]
     },
     "metadata": {},
     "output_type": "display_data"
    },
    {
     "data": {
      "text/plain": [
       "<matplotlib.figure.Figure at 0x2d8a6c3f048>"
      ]
     },
     "metadata": {},
     "output_type": "display_data"
    },
    {
     "name": "stdout",
     "output_type": "stream",
     "text": [
      "AxesSubplot(0.125,0.125;0.775x0.755)\n"
     ]
    },
    {
     "data": {
      "image/png": "[encoded data removed]",
      "text/plain": [
       "<matplotlib.figure.Figure at 0x2d8a85ba978>"
      ]
     },
     "metadata": {},
     "output_type": "display_data"
    },
    {
     "data": {
      "text/plain": [
       "<matplotlib.figure.Figure at 0x2d8a6c18da0>"
      ]
     },
     "metadata": {},
     "output_type": "display_data"
    },
    {
     "name": "stdout",
     "output_type": "stream",
     "text": [
      "AxesSubplot(0.125,0.125;0.775x0.755)\n"
     ]
    },
    {
     "data": {
      "image/png": "[encoded data removed]",
      "text/plain": [
       "<matplotlib.figure.Figure at 0x2d8a8675c88>"
      ]
     },
     "metadata": {},
     "output_type": "display_data"
    },
    {
     "data": {
      "text/plain": [
       "<matplotlib.figure.Figure at 0x2d8a6c23390>"
      ]
     },
     "metadata": {},
     "output_type": "display_data"
    },
    {
     "name": "stdout",
     "output_type": "stream",
     "text": [
      "AxesSubplot(0.125,0.125;0.775x0.755)\n"
     ]
    },
    {
     "data": {
      "image/png": "[encoded data removed]",
      "text/plain": [
       "<matplotlib.figure.Figure at 0x2d8a85ba978>"
      ]
     },
     "metadata": {},
     "output_type": "display_data"
    },
    {
     "data": {
      "text/plain": [
       "<matplotlib.figure.Figure at 0x2d89f121e80>"
      ]
     },
     "metadata": {},
     "output_type": "display_data"
    },
    {
     "name": "stdout",
     "output_type": "stream",
     "text": [
      "AxesSubplot(0.125,0.125;0.775x0.755)\n"
     ]
    },
    {
     "data": {
      "image/png": "[encoded data removed]",
      "text/plain": [
       "<matplotlib.figure.Figure at 0x2d8a8660240>"
      ]
     },
     "metadata": {},
     "output_type": "display_data"
    }
   ],
   "source": [
    "def labDistr(feature):\n",
    "    feature_data = df_lab[feature].dropna()\n",
    "    plt.figure()\n",
    "    plt.show()\n",
    "    return sns.distplot(feature_data)\n",
    "\n",
    "for i in df_lab.columns[2:]:\n",
    "    print(labDistr(i))"
   ]
  },
  {
   "cell_type": "markdown",
   "metadata": {},
   "source": [
    "## Pulling in prescription data"
   ]
  },
  {
   "cell_type": "code",
   "execution_count": 14,
   "metadata": {},
   "outputs": [
    {
     "name": "stdout",
     "output_type": "stream",
     "text": [
      "Wall time: 45 s\n"
     ]
    }
   ],
   "source": [
    "%%time\n",
    "# Creating one dataframe per drug (we can consolidate after feature selection?)\n",
    "\n",
    "def query_prescrip(drug_desc):\n",
    "    general_query = \"\"\" \n",
    "        SELECT p.subject_id, p.hadm_id, p.startdate, p.enddate,\n",
    "        p.drug, p.drug_name_poe, p.drug_name_generic, a.admittime, a.dischtime\n",
    "        FROM mimiciii.prescriptions p\n",
    "        INNER JOIN mimiciii.admissions a\n",
    "        ON p.hadm_id = a.hadm_id\n",
    "        WHERE startdate < dischtime\n",
    "        AND \"\"\"\n",
    "    drug_specific = drug_desc\n",
    "    whole_query = general_query + drug_specific\n",
    "    return pd.read_sql_query(whole_query, con)\n",
    "\n",
    "# Vancomycin and neo-synephrine require special queries\n",
    "df_vanco = query_prescrip(\"\"\"(lower(drug) LIKE '%vancomycin%' \n",
    "OR lower(drug) LIKE '%vancocin%' \n",
    "OR lower(drug_name_poe) LIKE '%vancomycin%'\n",
    "OR lower(drug_name_generic) LIKE '%vancomycin%');\"\"\")\n",
    "\n",
    "df_neosyn = query_prescrip(\"\"\"(lower(drug) LIKE 'neo%ephrine%'\n",
    "      OR lower(drug) LIKE 'phenylephrine%');\"\"\")\n",
    "\n",
    "# Other drugs use same query format\n",
    "def gen_drug_desc(drug):\n",
    "    gen_drug_query = \"(lower(drug) LIKE '%\" + drug + \"%' OR lower(drug_name_poe) LIKE '%\"\\\n",
    "                        + drug + \"%' OR lower(drug_name_generic) LIKE '%\" + drug + \"%');\"\n",
    "    return gen_drug_query\n",
    "\n",
    "df_neostig = query_prescrip(gen_drug_desc('neostigmine'))\n",
    "df_glycopyr = query_prescrip(gen_drug_desc('glycopyrrolate'))\n",
    "df_ceftriax = query_prescrip(gen_drug_desc('ceftriaxone'))\n",
    "df_atropsulf = query_prescrip(gen_drug_desc('atropine sulfate'))\n",
    "df_chlorhex = query_prescrip(gen_drug_desc('chlorhexidine'))\n",
    "df_nitroglyc = query_prescrip(gen_drug_desc('nitroglycerin'))\n",
    "df_nitropruss = query_prescrip(gen_drug_desc('nitroprusside'))\n",
    "df_lansopraz = query_prescrip(gen_drug_desc('lansoprazole'))\n",
    "    \n",
    "\n",
    "#df_vanco = query_prescrip(vanco_desc)\n",
    "#query_prescrip(neosyn_desc)\n"
   ]
  },
  {
   "cell_type": "code",
   "execution_count": 24,
   "metadata": {},
   "outputs": [
    {
     "name": "stdout",
     "output_type": "stream",
     "text": [
      "vancomycin: 68734 rows\n",
      "neosynephrine: 22312 rows\n",
      "neostigmine: 6812 rows\n",
      "glycopyrrolate: 8036 rows\n",
      "ceftriaxone: 8722 rows\n",
      "atropine sulfate: 5119 rows\n",
      "chlorhexidine: 12124 rows\n",
      "nitroglycerin: 21892 rows\n",
      "nitroprusside: 4896 rows\n",
      "lansoprazole: 7424 rows\n"
     ]
    }
   ],
   "source": [
    "# How many rows in each dataframe?\n",
    "\n",
    "#drug_list = ['vancomycin', 'neosynephrine', 'neostigmine', 'glycopyrrolate', 'ceftriaxone', \n",
    "#'atropine sulfate', 'chlorhexidine', 'nitroglycerin', 'nitroprusside', 'lansoprazole']\n",
    "print('vancomycin:', df_vanco.shape[0], 'rows')\n",
    "print('neosynephrine:', df_neosyn.shape[0], 'rows')\n",
    "print('neostigmine:', df_neostig.shape[0], 'rows')\n",
    "print('glycopyrrolate:', df_glycopyr.shape[0], 'rows')\n",
    "print('ceftriaxone:', df_ceftriax.shape[0], 'rows')\n",
    "print('atropine sulfate:', df_atropsulf.shape[0], 'rows')\n",
    "print('chlorhexidine:', df_chlorhex.shape[0], 'rows')\n",
    "print('nitroglycerin:', df_nitroglyc.shape[0], 'rows')\n",
    "print('nitroprusside:', df_nitropruss.shape[0], 'rows')\n",
    "print('lansoprazole:', df_lansopraz.shape[0], 'rows')"
   ]
  },
  {
   "cell_type": "markdown",
   "metadata": {},
   "source": [
    "## Pulling in procedure data"
   ]
  },
  {
   "cell_type": "code",
   "execution_count": 27,
   "metadata": {},
   "outputs": [
    {
     "name": "stdout",
     "output_type": "stream",
     "text": [
      "Wall time: 148 ms\n"
     ]
    }
   ],
   "source": [
    "%%time\n",
    "# Creating one dataframe per procedure (we can consolidate after feature selection?)\n",
    "\n",
    "def query_proc(proc_desc):\n",
    "    general_query = \"\"\" \n",
    "        SELECT pr.subject_id, pr.hadm_id, d.icd9_code, d.short_title, d.long_title\n",
    "        FROM mimiciii.procedures_icd pr\n",
    "        INNER JOIN mimiciii.d_icd_procedures d\n",
    "        ON pr.icd9_code = d.icd9_code\n",
    "        WHERE \"\"\"\n",
    "    proc_specific = proc_desc\n",
    "    whole_query = general_query + proc_specific\n",
    "    return pd.read_sql_query(whole_query, con)\n",
    "\n",
    "df_parentinf = query_proc(\"short_title = 'Parent infus nutrit sub';\")\n",
    "df_serumtransf = query_proc(\"short_title = 'Serum transfusion NEC';\")\n",
    "df_skinsut = query_proc(\"short_title = 'Skin closure NEC';\")\n",
    "df_vasopress = query_proc(\"short_title = 'Infusion of vasopressor';\")\n",
    "df_mammCAB = query_proc(\"short_title = '1 int mam-cor art bypass';\")\n",
    "df_aortoCBT = query_proc(\"short_title = 'Aortocor bypas-2 cor art' OR short_title = 'Aortocor bypas-3 cor art';\")\n",
    "df_platetransf = query_proc(\"short_title = 'Platelet transfusion';\")\n",
    "df_intercath = query_proc(\"short_title = 'Insert intercostal cath';\")"
   ]
  },
  {
   "cell_type": "code",
   "execution_count": 30,
   "metadata": {},
   "outputs": [
    {
     "name": "stdout",
     "output_type": "stream",
     "text": [
      "parenteral infusion: 4244 rows\n",
      "serum transfusion: 2028 rows\n",
      "skin suture: 719 rows\n",
      "infusion of vasopressor: 832 rows\n",
      "single internal mammary-coronary artery bypass: 4401 rows\n",
      "aortocoronary bypass T: 3407 rows\n",
      "platelet transfusion: 1235 rows\n",
      "insertion of intercostal catheter: 1717 rows\n"
     ]
    }
   ],
   "source": [
    "# How many rows in each dataframe?\n",
    "\n",
    "print('parenteral infusion:', df_parentinf.shape[0], 'rows')\n",
    "print('serum transfusion:', df_serumtransf.shape[0], 'rows')\n",
    "print('skin suture:', df_skinsut.shape[0], 'rows')\n",
    "print('infusion of vasopressor:', df_vasopress.shape[0], 'rows')\n",
    "print('single internal mammary-coronary artery bypass:', df_mammCAB.shape[0], 'rows')\n",
    "print('aortocoronary bypass T:', df_aortoCBT.shape[0], 'rows')\n",
    "print('platelet transfusion:', df_platetransf.shape[0], 'rows')\n",
    "print('insertion of intercostal catheter:', df_intercath.shape[0], 'rows')\n"
   ]
  },
  {
   "cell_type": "markdown",
   "metadata": {},
   "source": [
    "## Merging dataframes"
   ]
  },
  {
   "cell_type": "code",
   "execution_count": 26,
   "metadata": {
    "collapsed": true
   },
   "outputs": [],
   "source": [
    "merge_df = df.merge(df_vitals, on = \"hadm_id\", how = \"inner\")"
   ]
  },
  {
   "cell_type": "code",
   "execution_count": 27,
   "metadata": {},
   "outputs": [
    {
     "data": {
      "text/html": [
       "<div>\n",
       "<style scoped>\n",
       "    .dataframe tbody tr th:only-of-type {\n",
       "        vertical-align: middle;\n",
       "    }\n",
       "\n",
       "    .dataframe tbody tr th {\n",
       "        vertical-align: top;\n",
       "    }\n",
       "\n",
       "    .dataframe thead th {\n",
       "        text-align: right;\n",
       "    }\n",
       "</style>\n",
       "<table border=\"1\" class=\"dataframe\">\n",
       "  <thead>\n",
       "    <tr style=\"text-align: right;\">\n",
       "      <th></th>\n",
       "      <th>subject_id</th>\n",
       "      <th>hadm_id</th>\n",
       "      <th>ethnicity</th>\n",
       "      <th>insurance</th>\n",
       "      <th>gender</th>\n",
       "      <th>age_on_admiss</th>\n",
       "      <th>length_of_stay</th>\n",
       "      <th>charttime</th>\n",
       "      <th>heartrate</th>\n",
       "      <th>sysbp</th>\n",
       "      <th>resprate</th>\n",
       "      <th>tempc</th>\n",
       "      <th>spo2</th>\n",
       "    </tr>\n",
       "  </thead>\n",
       "  <tbody>\n",
       "    <tr>\n",
       "      <th>0</th>\n",
       "      <td>2</td>\n",
       "      <td>163353</td>\n",
       "      <td>ASIAN</td>\n",
       "      <td>Private</td>\n",
       "      <td>M</td>\n",
       "      <td>0.0</td>\n",
       "      <td>4</td>\n",
       "      <td>2138-07-17 20:20:00</td>\n",
       "      <td>148.0</td>\n",
       "      <td>NaN</td>\n",
       "      <td>NaN</td>\n",
       "      <td>NaN</td>\n",
       "      <td>NaN</td>\n",
       "    </tr>\n",
       "    <tr>\n",
       "      <th>1</th>\n",
       "      <td>2</td>\n",
       "      <td>163353</td>\n",
       "      <td>ASIAN</td>\n",
       "      <td>Private</td>\n",
       "      <td>M</td>\n",
       "      <td>0.0</td>\n",
       "      <td>4</td>\n",
       "      <td>2138-07-17 20:30:00</td>\n",
       "      <td>131.0</td>\n",
       "      <td>NaN</td>\n",
       "      <td>NaN</td>\n",
       "      <td>NaN</td>\n",
       "      <td>NaN</td>\n",
       "    </tr>\n",
       "    <tr>\n",
       "      <th>2</th>\n",
       "      <td>2</td>\n",
       "      <td>163353</td>\n",
       "      <td>ASIAN</td>\n",
       "      <td>Private</td>\n",
       "      <td>M</td>\n",
       "      <td>0.0</td>\n",
       "      <td>4</td>\n",
       "      <td>2138-07-17 21:00:00</td>\n",
       "      <td>144.0</td>\n",
       "      <td>NaN</td>\n",
       "      <td>NaN</td>\n",
       "      <td>NaN</td>\n",
       "      <td>NaN</td>\n",
       "    </tr>\n",
       "    <tr>\n",
       "      <th>3</th>\n",
       "      <td>2</td>\n",
       "      <td>163353</td>\n",
       "      <td>ASIAN</td>\n",
       "      <td>Private</td>\n",
       "      <td>M</td>\n",
       "      <td>0.0</td>\n",
       "      <td>4</td>\n",
       "      <td>2138-07-17 22:00:00</td>\n",
       "      <td>140.0</td>\n",
       "      <td>NaN</td>\n",
       "      <td>NaN</td>\n",
       "      <td>NaN</td>\n",
       "      <td>NaN</td>\n",
       "    </tr>\n",
       "    <tr>\n",
       "      <th>4</th>\n",
       "      <td>3</td>\n",
       "      <td>145834</td>\n",
       "      <td>WHITE</td>\n",
       "      <td>Medicare</td>\n",
       "      <td>M</td>\n",
       "      <td>77.0</td>\n",
       "      <td>11</td>\n",
       "      <td>2101-10-20 18:30:00</td>\n",
       "      <td>NaN</td>\n",
       "      <td>NaN</td>\n",
       "      <td>NaN</td>\n",
       "      <td>36.055556</td>\n",
       "      <td>NaN</td>\n",
       "    </tr>\n",
       "  </tbody>\n",
       "</table>\n",
       "</div>"
      ],
      "text/plain": [
       "   subject_id  hadm_id ethnicity insurance gender  age_on_admiss  \\\n",
       "0           2   163353     ASIAN   Private      M            0.0   \n",
       "1           2   163353     ASIAN   Private      M            0.0   \n",
       "2           2   163353     ASIAN   Private      M            0.0   \n",
       "3           2   163353     ASIAN   Private      M            0.0   \n",
       "4           3   145834     WHITE  Medicare      M           77.0   \n",
       "\n",
       "   length_of_stay           charttime  heartrate  sysbp  resprate      tempc  \\\n",
       "0               4 2138-07-17 20:20:00      148.0    NaN       NaN        NaN   \n",
       "1               4 2138-07-17 20:30:00      131.0    NaN       NaN        NaN   \n",
       "2               4 2138-07-17 21:00:00      144.0    NaN       NaN        NaN   \n",
       "3               4 2138-07-17 22:00:00      140.0    NaN       NaN        NaN   \n",
       "4              11 2101-10-20 18:30:00        NaN    NaN       NaN  36.055556   \n",
       "\n",
       "   spo2  \n",
       "0   NaN  \n",
       "1   NaN  \n",
       "2   NaN  \n",
       "3   NaN  \n",
       "4   NaN  "
      ]
     },
     "execution_count": 27,
     "metadata": {},
     "output_type": "execute_result"
    }
   ],
   "source": [
    "merge_df.head(5)"
   ]
  },
  {
   "cell_type": "code",
   "execution_count": 28,
   "metadata": {},
   "outputs": [
    {
     "data": {
      "text/plain": [
       "subject_id              0\n",
       "hadm_id                 0\n",
       "ethnicity               0\n",
       "insurance               0\n",
       "gender                  0\n",
       "age_on_admiss           0\n",
       "length_of_stay          0\n",
       "charttime               0\n",
       "heartrate          688687\n",
       "sysbp             2844883\n",
       "resprate          2350596\n",
       "tempc             6892769\n",
       "spo2              2542725\n",
       "dtype: int64"
      ]
     },
     "execution_count": 28,
     "metadata": {},
     "output_type": "execute_result"
    }
   ],
   "source": [
    "merge_df.isnull().sum()"
   ]
  },
  {
   "cell_type": "code",
   "execution_count": 29,
   "metadata": {},
   "outputs": [
    {
     "data": {
      "text/plain": [
       "(8627341, 13)"
      ]
     },
     "execution_count": 29,
     "metadata": {},
     "output_type": "execute_result"
    }
   ],
   "source": [
    "merge_df.shape"
   ]
  },
  {
   "cell_type": "code",
   "execution_count": 30,
   "metadata": {},
   "outputs": [
    {
     "data": {
      "text/html": [
       "<div>\n",
       "<style scoped>\n",
       "    .dataframe tbody tr th:only-of-type {\n",
       "        vertical-align: middle;\n",
       "    }\n",
       "\n",
       "    .dataframe tbody tr th {\n",
       "        vertical-align: top;\n",
       "    }\n",
       "\n",
       "    .dataframe thead th {\n",
       "        text-align: right;\n",
       "    }\n",
       "</style>\n",
       "<table border=\"1\" class=\"dataframe\">\n",
       "  <thead>\n",
       "    <tr style=\"text-align: right;\">\n",
       "      <th></th>\n",
       "      <th>subject_id</th>\n",
       "      <th>hadm_id</th>\n",
       "      <th>age_on_admiss</th>\n",
       "      <th>length_of_stay</th>\n",
       "      <th>heartrate</th>\n",
       "      <th>sysbp</th>\n",
       "      <th>resprate</th>\n",
       "      <th>tempc</th>\n",
       "      <th>spo2</th>\n",
       "    </tr>\n",
       "  </thead>\n",
       "  <tbody>\n",
       "    <tr>\n",
       "      <th>count</th>\n",
       "      <td>8.627341e+06</td>\n",
       "      <td>8.627341e+06</td>\n",
       "      <td>8.627341e+06</td>\n",
       "      <td>8.627341e+06</td>\n",
       "      <td>7.938654e+06</td>\n",
       "      <td>5.782458e+06</td>\n",
       "      <td>6.276745e+06</td>\n",
       "      <td>1.734572e+06</td>\n",
       "      <td>6.084616e+06</td>\n",
       "    </tr>\n",
       "    <tr>\n",
       "      <th>mean</th>\n",
       "      <td>3.300434e+04</td>\n",
       "      <td>1.498434e+05</td>\n",
       "      <td>5.897300e+01</td>\n",
       "      <td>2.766516e+01</td>\n",
       "      <td>1.014212e+02</td>\n",
       "      <td>1.215081e+02</td>\n",
       "      <td>2.020785e+01</td>\n",
       "      <td>3.700469e+01</td>\n",
       "      <td>9.708009e+01</td>\n",
       "    </tr>\n",
       "    <tr>\n",
       "      <th>std</th>\n",
       "      <td>2.785872e+04</td>\n",
       "      <td>2.874910e+04</td>\n",
       "      <td>5.305239e+01</td>\n",
       "      <td>2.898572e+01</td>\n",
       "      <td>3.279940e+01</td>\n",
       "      <td>2.368802e+01</td>\n",
       "      <td>6.043783e+00</td>\n",
       "      <td>8.432616e-01</td>\n",
       "      <td>3.495221e+00</td>\n",
       "    </tr>\n",
       "    <tr>\n",
       "      <th>min</th>\n",
       "      <td>2.000000e+00</td>\n",
       "      <td>1.000010e+05</td>\n",
       "      <td>0.000000e+00</td>\n",
       "      <td>0.000000e+00</td>\n",
       "      <td>1.460000e-01</td>\n",
       "      <td>6.000000e-02</td>\n",
       "      <td>1.700000e-01</td>\n",
       "      <td>1.500000e+01</td>\n",
       "      <td>5.000000e-01</td>\n",
       "    </tr>\n",
       "    <tr>\n",
       "      <th>25%</th>\n",
       "      <td>1.156300e+04</td>\n",
       "      <td>1.253430e+05</td>\n",
       "      <td>3.700000e+01</td>\n",
       "      <td>9.000000e+00</td>\n",
       "      <td>7.800000e+01</td>\n",
       "      <td>1.040000e+02</td>\n",
       "      <td>1.600000e+01</td>\n",
       "      <td>3.644444e+01</td>\n",
       "      <td>9.600000e+01</td>\n",
       "    </tr>\n",
       "    <tr>\n",
       "      <th>50%</th>\n",
       "      <td>2.348300e+04</td>\n",
       "      <td>1.491550e+05</td>\n",
       "      <td>6.100000e+01</td>\n",
       "      <td>1.800000e+01</td>\n",
       "      <td>9.200000e+01</td>\n",
       "      <td>1.190000e+02</td>\n",
       "      <td>2.000000e+01</td>\n",
       "      <td>3.700000e+01</td>\n",
       "      <td>9.800000e+01</td>\n",
       "    </tr>\n",
       "    <tr>\n",
       "      <th>75%</th>\n",
       "      <td>5.255000e+04</td>\n",
       "      <td>1.749130e+05</td>\n",
       "      <td>7.500000e+01</td>\n",
       "      <td>3.500000e+01</td>\n",
       "      <td>1.190000e+02</td>\n",
       "      <td>1.370000e+02</td>\n",
       "      <td>2.400000e+01</td>\n",
       "      <td>3.755555e+01</td>\n",
       "      <td>9.900000e+01</td>\n",
       "    </tr>\n",
       "    <tr>\n",
       "      <th>max</th>\n",
       "      <td>9.999900e+04</td>\n",
       "      <td>1.999990e+05</td>\n",
       "      <td>3.100000e+02</td>\n",
       "      <td>2.950000e+02</td>\n",
       "      <td>2.920000e+02</td>\n",
       "      <td>3.550000e+02</td>\n",
       "      <td>6.900000e+01</td>\n",
       "      <td>4.650000e+01</td>\n",
       "      <td>1.000000e+02</td>\n",
       "    </tr>\n",
       "  </tbody>\n",
       "</table>\n",
       "</div>"
      ],
      "text/plain": [
       "         subject_id       hadm_id  age_on_admiss  length_of_stay  \\\n",
       "count  8.627341e+06  8.627341e+06   8.627341e+06    8.627341e+06   \n",
       "mean   3.300434e+04  1.498434e+05   5.897300e+01    2.766516e+01   \n",
       "std    2.785872e+04  2.874910e+04   5.305239e+01    2.898572e+01   \n",
       "min    2.000000e+00  1.000010e+05   0.000000e+00    0.000000e+00   \n",
       "25%    1.156300e+04  1.253430e+05   3.700000e+01    9.000000e+00   \n",
       "50%    2.348300e+04  1.491550e+05   6.100000e+01    1.800000e+01   \n",
       "75%    5.255000e+04  1.749130e+05   7.500000e+01    3.500000e+01   \n",
       "max    9.999900e+04  1.999990e+05   3.100000e+02    2.950000e+02   \n",
       "\n",
       "          heartrate         sysbp      resprate         tempc          spo2  \n",
       "count  7.938654e+06  5.782458e+06  6.276745e+06  1.734572e+06  6.084616e+06  \n",
       "mean   1.014212e+02  1.215081e+02  2.020785e+01  3.700469e+01  9.708009e+01  \n",
       "std    3.279940e+01  2.368802e+01  6.043783e+00  8.432616e-01  3.495221e+00  \n",
       "min    1.460000e-01  6.000000e-02  1.700000e-01  1.500000e+01  5.000000e-01  \n",
       "25%    7.800000e+01  1.040000e+02  1.600000e+01  3.644444e+01  9.600000e+01  \n",
       "50%    9.200000e+01  1.190000e+02  2.000000e+01  3.700000e+01  9.800000e+01  \n",
       "75%    1.190000e+02  1.370000e+02  2.400000e+01  3.755555e+01  9.900000e+01  \n",
       "max    2.920000e+02  3.550000e+02  6.900000e+01  4.650000e+01  1.000000e+02  "
      ]
     },
     "execution_count": 30,
     "metadata": {},
     "output_type": "execute_result"
    }
   ],
   "source": [
    "merge_df.describe()"
   ]
  },
  {
   "cell_type": "code",
   "execution_count": 36,
   "metadata": {},
   "outputs": [],
   "source": [
    "merge_agg_df = merge_df.groupby('hadm_id').agg('mean')\n"
   ]
  },
  {
   "cell_type": "code",
   "execution_count": 31,
   "metadata": {},
   "outputs": [
    {
     "data": {
      "text/plain": [
       "['subject_id',\n",
       " 'hadm_id',\n",
       " 'ethnicity',\n",
       " 'insurance',\n",
       " 'gender',\n",
       " 'age_on_admiss',\n",
       " 'length_of_stay',\n",
       " 'charttime',\n",
       " 'heartrate',\n",
       " 'sysbp',\n",
       " 'resprate',\n",
       " 'tempc',\n",
       " 'spo2']"
      ]
     },
     "execution_count": 31,
     "metadata": {},
     "output_type": "execute_result"
    }
   ],
   "source": [
    "list(merge_df)"
   ]
  },
  {
   "cell_type": "code",
   "execution_count": 37,
   "metadata": {},
   "outputs": [
    {
     "data": {
      "text/plain": [
       "subject_id           0\n",
       "age_on_admiss        0\n",
       "length_of_stay       0\n",
       "heartrate           12\n",
       "sysbp             7693\n",
       "resprate          7708\n",
       "tempc             7825\n",
       "spo2              7727\n",
       "dtype: int64"
      ]
     },
     "execution_count": 37,
     "metadata": {},
     "output_type": "execute_result"
    }
   ],
   "source": [
    "merge_agg_df.isnull().sum()"
   ]
  },
  {
   "cell_type": "code",
   "execution_count": 38,
   "metadata": {},
   "outputs": [
    {
     "data": {
      "text/html": [
       "<div>\n",
       "<style scoped>\n",
       "    .dataframe tbody tr th:only-of-type {\n",
       "        vertical-align: middle;\n",
       "    }\n",
       "\n",
       "    .dataframe tbody tr th {\n",
       "        vertical-align: top;\n",
       "    }\n",
       "\n",
       "    .dataframe thead th {\n",
       "        text-align: right;\n",
       "    }\n",
       "</style>\n",
       "<table border=\"1\" class=\"dataframe\">\n",
       "  <thead>\n",
       "    <tr style=\"text-align: right;\">\n",
       "      <th></th>\n",
       "      <th>subject_id</th>\n",
       "      <th>age_on_admiss</th>\n",
       "      <th>length_of_stay</th>\n",
       "      <th>heartrate</th>\n",
       "      <th>sysbp</th>\n",
       "      <th>resprate</th>\n",
       "      <th>tempc</th>\n",
       "      <th>spo2</th>\n",
       "    </tr>\n",
       "  </thead>\n",
       "  <tbody>\n",
       "    <tr>\n",
       "      <th>count</th>\n",
       "      <td>56725.000000</td>\n",
       "      <td>56725.000000</td>\n",
       "      <td>56725.000000</td>\n",
       "      <td>56713.000000</td>\n",
       "      <td>49032.000000</td>\n",
       "      <td>49017.000000</td>\n",
       "      <td>48900.000000</td>\n",
       "      <td>48998.000000</td>\n",
       "    </tr>\n",
       "    <tr>\n",
       "      <th>mean</th>\n",
       "      <td>33889.740467</td>\n",
       "      <td>64.718431</td>\n",
       "      <td>10.221966</td>\n",
       "      <td>92.589150</td>\n",
       "      <td>120.829083</td>\n",
       "      <td>19.118249</td>\n",
       "      <td>36.833328</td>\n",
       "      <td>96.879525</td>\n",
       "    </tr>\n",
       "    <tr>\n",
       "      <th>std</th>\n",
       "      <td>28162.107130</td>\n",
       "      <td>57.375131</td>\n",
       "      <td>12.562837</td>\n",
       "      <td>24.235403</td>\n",
       "      <td>16.310950</td>\n",
       "      <td>3.594148</td>\n",
       "      <td>0.546761</td>\n",
       "      <td>2.429015</td>\n",
       "    </tr>\n",
       "    <tr>\n",
       "      <th>min</th>\n",
       "      <td>2.000000</td>\n",
       "      <td>0.000000</td>\n",
       "      <td>0.000000</td>\n",
       "      <td>29.916667</td>\n",
       "      <td>29.166667</td>\n",
       "      <td>7.000000</td>\n",
       "      <td>30.000000</td>\n",
       "      <td>31.444444</td>\n",
       "    </tr>\n",
       "    <tr>\n",
       "      <th>25%</th>\n",
       "      <td>12028.000000</td>\n",
       "      <td>44.000000</td>\n",
       "      <td>4.000000</td>\n",
       "      <td>76.681818</td>\n",
       "      <td>109.244127</td>\n",
       "      <td>16.560606</td>\n",
       "      <td>36.501409</td>\n",
       "      <td>96.045455</td>\n",
       "    </tr>\n",
       "    <tr>\n",
       "      <th>50%</th>\n",
       "      <td>24204.000000</td>\n",
       "      <td>62.000000</td>\n",
       "      <td>7.000000</td>\n",
       "      <td>86.863636</td>\n",
       "      <td>119.056187</td>\n",
       "      <td>18.685039</td>\n",
       "      <td>36.819444</td>\n",
       "      <td>97.200000</td>\n",
       "    </tr>\n",
       "    <tr>\n",
       "      <th>75%</th>\n",
       "      <td>54247.000000</td>\n",
       "      <td>76.000000</td>\n",
       "      <td>12.000000</td>\n",
       "      <td>100.232955</td>\n",
       "      <td>131.143908</td>\n",
       "      <td>21.233129</td>\n",
       "      <td>37.162901</td>\n",
       "      <td>98.205128</td>\n",
       "    </tr>\n",
       "    <tr>\n",
       "      <th>max</th>\n",
       "      <td>99999.000000</td>\n",
       "      <td>310.000000</td>\n",
       "      <td>295.000000</td>\n",
       "      <td>244.800000</td>\n",
       "      <td>215.833333</td>\n",
       "      <td>45.500000</td>\n",
       "      <td>40.833333</td>\n",
       "      <td>100.000000</td>\n",
       "    </tr>\n",
       "  </tbody>\n",
       "</table>\n",
       "</div>"
      ],
      "text/plain": [
       "         subject_id  age_on_admiss  length_of_stay     heartrate  \\\n",
       "count  56725.000000   56725.000000    56725.000000  56713.000000   \n",
       "mean   33889.740467      64.718431       10.221966     92.589150   \n",
       "std    28162.107130      57.375131       12.562837     24.235403   \n",
       "min        2.000000       0.000000        0.000000     29.916667   \n",
       "25%    12028.000000      44.000000        4.000000     76.681818   \n",
       "50%    24204.000000      62.000000        7.000000     86.863636   \n",
       "75%    54247.000000      76.000000       12.000000    100.232955   \n",
       "max    99999.000000     310.000000      295.000000    244.800000   \n",
       "\n",
       "              sysbp      resprate         tempc          spo2  \n",
       "count  49032.000000  49017.000000  48900.000000  48998.000000  \n",
       "mean     120.829083     19.118249     36.833328     96.879525  \n",
       "std       16.310950      3.594148      0.546761      2.429015  \n",
       "min       29.166667      7.000000     30.000000     31.444444  \n",
       "25%      109.244127     16.560606     36.501409     96.045455  \n",
       "50%      119.056187     18.685039     36.819444     97.200000  \n",
       "75%      131.143908     21.233129     37.162901     98.205128  \n",
       "max      215.833333     45.500000     40.833333    100.000000  "
      ]
     },
     "execution_count": 38,
     "metadata": {},
     "output_type": "execute_result"
    }
   ],
   "source": [
    "merge_agg_df.describe()"
   ]
  },
  {
   "cell_type": "code",
   "execution_count": 43,
   "metadata": {},
   "outputs": [
    {
     "data": {
      "text/plain": [
       "subject_id         0.000000\n",
       "age_on_admiss      0.000000\n",
       "length_of_stay     0.000000\n",
       "heartrate          0.021159\n",
       "sysbp             15.689754\n",
       "resprate          15.725157\n",
       "tempc             16.002045\n",
       "spo2              15.770031\n",
       "dtype: float64"
      ]
     },
     "execution_count": 43,
     "metadata": {},
     "output_type": "execute_result"
    }
   ],
   "source": [
    "(merge_agg_df.isnull().sum()/merge_agg_df.count())* 100"
   ]
  },
  {
   "cell_type": "code",
   "execution_count": 48,
   "metadata": {},
   "outputs": [
    {
     "data": {
      "text/plain": [
       "<matplotlib.axes._subplots.AxesSubplot at 0x10dbadcc0>"
      ]
     },
     "execution_count": 48,
     "metadata": {},
     "output_type": "execute_result"
    },
    {
     "data": {
      "image/png": "[encoded data removed]",
      "text/plain": [
       "<Figure size 432x288 with 2 Axes>"
      ]
     },
     "metadata": {},
     "output_type": "display_data"
    }
   ],
   "source": [
    "corr = merge_agg_df.corr()\n",
    "sns.heatmap(corr)\n"
   ]
  },
  {
   "cell_type": "code",
   "execution_count": 54,
   "metadata": {},
   "outputs": [
    {
     "name": "stderr",
     "output_type": "stream",
     "text": [
      "/Users/michaelalbuquerque/anaconda/envs/mimic/lib/python3.6/site-packages/matplotlib/axes/_axes.py:6462: UserWarning: The 'normed' kwarg is deprecated, and has been replaced by the 'density' kwarg.\n",
      "  warnings.warn(\"The 'normed' kwarg is deprecated, and has been \"\n"
     ]
    },
    {
     "data": {
      "text/plain": [
       "<matplotlib.axes._subplots.AxesSubplot at 0x10dc0fa58>"
      ]
     },
     "execution_count": 54,
     "metadata": {},
     "output_type": "execute_result"
    },
    {
     "data": {
      "image/png": "[encoded data removed]",
      "text/plain": [
       "<Figure size 432x288 with 1 Axes>"
      ]
     },
     "metadata": {},
     "output_type": "display_data"
    }
   ],
   "source": [
    "sns.distplot(merge_agg_df['age_on_admiss'])\n"
   ]
  },
  {
   "cell_type": "code",
   "execution_count": 56,
   "metadata": {},
   "outputs": [],
   "source": [
    "merge_agg_df['age_on_admiss'] = np.where(merge_agg_df['age_on_admiss']>100, 90, merge_agg_df['age_on_admiss'])"
   ]
  },
  {
   "cell_type": "code",
   "execution_count": 57,
   "metadata": {},
   "outputs": [
    {
     "name": "stderr",
     "output_type": "stream",
     "text": [
      "/Users/michaelalbuquerque/anaconda/envs/mimic/lib/python3.6/site-packages/matplotlib/axes/_axes.py:6462: UserWarning: The 'normed' kwarg is deprecated, and has been replaced by the 'density' kwarg.\n",
      "  warnings.warn(\"The 'normed' kwarg is deprecated, and has been \"\n"
     ]
    },
    {
     "data": {
      "text/plain": [
       "<matplotlib.axes._subplots.AxesSubplot at 0x10d122e80>"
      ]
     },
     "execution_count": 57,
     "metadata": {},
     "output_type": "execute_result"
    },
    {
     "data": {
      "image/png": "[encoded data removed]",
      "text/plain": [
       "<Figure size 432x288 with 1 Axes>"
      ]
     },
     "metadata": {},
     "output_type": "display_data"
    }
   ],
   "source": [
    "sns.distplot(merge_agg_df['age_on_admiss'])\n"
   ]
  },
  {
   "cell_type": "code",
   "execution_count": null,
   "metadata": {
    "collapsed": true
   },
   "outputs": [],
   "source": []
  }
 ],
 "metadata": {
  "kernelspec": {
   "display_name": "Python 3",
   "language": "python",
   "name": "python3"
  },
  "language_info": {
   "codemirror_mode": {
    "name": "ipython",
    "version": 3
   },
   "file_extension": ".py",
   "mimetype": "text/x-python",
   "name": "python",
   "nbconvert_exporter": "python",
   "pygments_lexer": "ipython3",
   "version": "3.6.4"
  }
 },
 "nbformat": 4,
 "nbformat_minor": 2
}
