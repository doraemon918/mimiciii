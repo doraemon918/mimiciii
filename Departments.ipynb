{
 "cells": [
  {
   "cell_type": "code",
   "execution_count": 62,
   "metadata": {
    "collapsed": true
   },
   "outputs": [],
   "source": [
    "import pandas as pd\n",
    "import psycopg2\n",
    "import numpy as np\n",
    "\n",
    "\n",
    "sqluser = 'mimicuser'\n",
    "dbname = 'mimic'\n",
    "con = psycopg2.connect(dbname=dbname, user=sqluser)\n",
    "cur = con.cursor()\n",
    "\n",
    "q_departments = \"\"\"SELECT count(*) from d_icd_diagnoses;\"\"\"\n",
    "\n",
    "df_departments = pd.read_sql_query(q_departments, con)"
   ]
  },
  {
   "cell_type": "code",
   "execution_count": 4,
   "metadata": {},
   "outputs": [
    {
     "data": {
      "text/html": [
       "<div>\n",
       "<style scoped>\n",
       "    .dataframe tbody tr th:only-of-type {\n",
       "        vertical-align: middle;\n",
       "    }\n",
       "\n",
       "    .dataframe tbody tr th {\n",
       "        vertical-align: top;\n",
       "    }\n",
       "\n",
       "    .dataframe thead th {\n",
       "        text-align: right;\n",
       "    }\n",
       "</style>\n",
       "<table border=\"1\" class=\"dataframe\">\n",
       "  <thead>\n",
       "    <tr style=\"text-align: right;\">\n",
       "      <th></th>\n",
       "      <th>count</th>\n",
       "    </tr>\n",
       "  </thead>\n",
       "  <tbody>\n",
       "    <tr>\n",
       "      <th>0</th>\n",
       "      <td>14567</td>\n",
       "    </tr>\n",
       "  </tbody>\n",
       "</table>\n",
       "</div>"
      ],
      "text/plain": [
       "   count\n",
       "0  14567"
      ]
     },
     "execution_count": 4,
     "metadata": {},
     "output_type": "execute_result"
    }
   ],
   "source": [
    "df_departments"
   ]
  },
  {
   "cell_type": "code",
   "execution_count": 11,
   "metadata": {
    "collapsed": true
   },
   "outputs": [],
   "source": [
    "import pandas as pd\n",
    "import psycopg2\n",
    "\n",
    "\n",
    "sqluser = 'mimicuser'\n",
    "dbname = 'mimic'\n",
    "con = psycopg2.connect(dbname=dbname, user=sqluser)\n",
    "cur = con.cursor()\n",
    "\n",
    "q_diagnoses = \"\"\"SELECT count(*) from DIAGNOSES_ICD;\"\"\"\n",
    "\n",
    "df_diagnoses = pd.read_sql_query(q_diagnoses, con)"
   ]
  },
  {
   "cell_type": "code",
   "execution_count": 13,
   "metadata": {},
   "outputs": [
    {
     "data": {
      "text/html": [
       "<div>\n",
       "<style scoped>\n",
       "    .dataframe tbody tr th:only-of-type {\n",
       "        vertical-align: middle;\n",
       "    }\n",
       "\n",
       "    .dataframe tbody tr th {\n",
       "        vertical-align: top;\n",
       "    }\n",
       "\n",
       "    .dataframe thead th {\n",
       "        text-align: right;\n",
       "    }\n",
       "</style>\n",
       "<table border=\"1\" class=\"dataframe\">\n",
       "  <thead>\n",
       "    <tr style=\"text-align: right;\">\n",
       "      <th></th>\n",
       "      <th>count</th>\n",
       "    </tr>\n",
       "  </thead>\n",
       "  <tbody>\n",
       "    <tr>\n",
       "      <th>0</th>\n",
       "      <td>651047</td>\n",
       "    </tr>\n",
       "  </tbody>\n",
       "</table>\n",
       "</div>"
      ],
      "text/plain": [
       "    count\n",
       "0  651047"
      ]
     },
     "execution_count": 13,
     "metadata": {},
     "output_type": "execute_result"
    }
   ],
   "source": [
    "df_diagnoses"
   ]
  },
  {
   "cell_type": "code",
   "execution_count": 14,
   "metadata": {
    "collapsed": true
   },
   "outputs": [],
   "source": [
    "import pandas as pd\n",
    "import psycopg2\n",
    "\n",
    "\n",
    "sqluser = 'mimicuser'\n",
    "dbname = 'mimic'\n",
    "con = psycopg2.connect(dbname=dbname, user=sqluser)\n",
    "cur = con.cursor()\n",
    "\n",
    "q_merge = \"\"\"SELECT d.SUBJECT_ID, d.HADM_ID, d.ICD9_CODE, lookup.SHORT_TITLE, lookup.LONG_TITLE \n",
    "                from DIAGNOSES_ICD d\n",
    "                left join d_icd_diagnoses lookup \n",
    "                on d.ICD9_CODE = lookup.ICD9_CODE;\"\"\"\n",
    "\n",
    "df_merge = pd.read_sql_query(q_merge, con)"
   ]
  },
  {
   "cell_type": "code",
   "execution_count": 15,
   "metadata": {},
   "outputs": [
    {
     "data": {
      "text/plain": [
       "651047"
      ]
     },
     "execution_count": 15,
     "metadata": {},
     "output_type": "execute_result"
    }
   ],
   "source": [
    "len(df_merge)"
   ]
  },
  {
   "cell_type": "code",
   "execution_count": 16,
   "metadata": {},
   "outputs": [
    {
     "data": {
      "text/html": [
       "<div>\n",
       "<style scoped>\n",
       "    .dataframe tbody tr th:only-of-type {\n",
       "        vertical-align: middle;\n",
       "    }\n",
       "\n",
       "    .dataframe tbody tr th {\n",
       "        vertical-align: top;\n",
       "    }\n",
       "\n",
       "    .dataframe thead th {\n",
       "        text-align: right;\n",
       "    }\n",
       "</style>\n",
       "<table border=\"1\" class=\"dataframe\">\n",
       "  <thead>\n",
       "    <tr style=\"text-align: right;\">\n",
       "      <th></th>\n",
       "      <th>subject_id</th>\n",
       "      <th>hadm_id</th>\n",
       "      <th>icd9_code</th>\n",
       "      <th>short_title</th>\n",
       "      <th>long_title</th>\n",
       "    </tr>\n",
       "  </thead>\n",
       "  <tbody>\n",
       "    <tr>\n",
       "      <th>0</th>\n",
       "      <td>109</td>\n",
       "      <td>172335</td>\n",
       "      <td>40301</td>\n",
       "      <td>Mal hyp kid w cr kid V</td>\n",
       "      <td>Hypertensive chronic kidney disease, malignant...</td>\n",
       "    </tr>\n",
       "    <tr>\n",
       "      <th>1</th>\n",
       "      <td>109</td>\n",
       "      <td>172335</td>\n",
       "      <td>486</td>\n",
       "      <td>Pneumonia, organism NOS</td>\n",
       "      <td>Pneumonia, organism unspecified</td>\n",
       "    </tr>\n",
       "    <tr>\n",
       "      <th>2</th>\n",
       "      <td>109</td>\n",
       "      <td>172335</td>\n",
       "      <td>58281</td>\n",
       "      <td>Chr nephritis in oth dis</td>\n",
       "      <td>Chronic glomerulonephritis in diseases classif...</td>\n",
       "    </tr>\n",
       "    <tr>\n",
       "      <th>3</th>\n",
       "      <td>109</td>\n",
       "      <td>172335</td>\n",
       "      <td>5855</td>\n",
       "      <td>Chron kidney dis stage V</td>\n",
       "      <td>Chronic kidney disease, Stage V</td>\n",
       "    </tr>\n",
       "    <tr>\n",
       "      <th>4</th>\n",
       "      <td>109</td>\n",
       "      <td>172335</td>\n",
       "      <td>4254</td>\n",
       "      <td>Prim cardiomyopathy NEC</td>\n",
       "      <td>Other primary cardiomyopathies</td>\n",
       "    </tr>\n",
       "  </tbody>\n",
       "</table>\n",
       "</div>"
      ],
      "text/plain": [
       "   subject_id  hadm_id icd9_code               short_title  \\\n",
       "0         109   172335     40301    Mal hyp kid w cr kid V   \n",
       "1         109   172335       486   Pneumonia, organism NOS   \n",
       "2         109   172335     58281  Chr nephritis in oth dis   \n",
       "3         109   172335      5855  Chron kidney dis stage V   \n",
       "4         109   172335      4254   Prim cardiomyopathy NEC   \n",
       "\n",
       "                                          long_title  \n",
       "0  Hypertensive chronic kidney disease, malignant...  \n",
       "1                    Pneumonia, organism unspecified  \n",
       "2  Chronic glomerulonephritis in diseases classif...  \n",
       "3                    Chronic kidney disease, Stage V  \n",
       "4                     Other primary cardiomyopathies  "
      ]
     },
     "execution_count": 16,
     "metadata": {},
     "output_type": "execute_result"
    }
   ],
   "source": [
    "df_merge.head()"
   ]
  },
  {
   "cell_type": "code",
   "execution_count": 23,
   "metadata": {},
   "outputs": [
    {
     "data": {
      "text/plain": [
       "4019     20703\n",
       "4280     13111\n",
       "42731    12891\n",
       "41401    12429\n",
       "5849      9119\n",
       "25000     9058\n",
       "2724      8690\n",
       "51881     7497\n",
       "5990      6555\n",
       "53081     6326\n",
       "2720      5930\n",
       "V053      5779\n",
       "V290      5519\n",
       "2859      5406\n",
       "2449      4917\n",
       "486       4839\n",
       "2851      4552\n",
       "2762      4528\n",
       "496       4431\n",
       "99592     3912\n",
       "V5861     3806\n",
       "0389      3725\n",
       "5070      3680\n",
       "V3000     3566\n",
       "5859      3435\n",
       "311       3431\n",
       "40390     3421\n",
       "3051      3358\n",
       "412       3278\n",
       "2875      3065\n",
       "         ...  \n",
       "45374        1\n",
       "84512        1\n",
       "37500        1\n",
       "2161         1\n",
       "37489        1\n",
       "E8219        1\n",
       "67204        1\n",
       "9593         1\n",
       "9949         1\n",
       "37182        1\n",
       "37612        1\n",
       "1429         1\n",
       "9125         1\n",
       "36217        1\n",
       "5262         1\n",
       "6182         1\n",
       "80146        1\n",
       "8977         1\n",
       "V4363        1\n",
       "8363         1\n",
       "38908        1\n",
       "71515        1\n",
       "75016        1\n",
       "9048         1\n",
       "0470         1\n",
       "24991        1\n",
       "2541         1\n",
       "1308         1\n",
       "E9499        1\n",
       "32724        1\n",
       "Name: icd9_code, Length: 6984, dtype: int64"
      ]
     },
     "execution_count": 23,
     "metadata": {},
     "output_type": "execute_result"
    }
   ],
   "source": [
    "df_merge['icd9_code'].value_counts()"
   ]
  },
  {
   "cell_type": "code",
   "execution_count": 30,
   "metadata": {
    "collapsed": true
   },
   "outputs": [],
   "source": [
    "# Reading the ICD 9 Codes. First three digit are important. Last two if available are supplementary\n",
    "df_merge['ICD_PC'] = df_merge['icd9_code'].astype(str).str[:3]"
   ]
  },
  {
   "cell_type": "code",
   "execution_count": 33,
   "metadata": {},
   "outputs": [
    {
     "data": {
      "text/html": [
       "<div>\n",
       "<style scoped>\n",
       "    .dataframe tbody tr th:only-of-type {\n",
       "        vertical-align: middle;\n",
       "    }\n",
       "\n",
       "    .dataframe tbody tr th {\n",
       "        vertical-align: top;\n",
       "    }\n",
       "\n",
       "    .dataframe thead th {\n",
       "        text-align: right;\n",
       "    }\n",
       "</style>\n",
       "<table border=\"1\" class=\"dataframe\">\n",
       "  <thead>\n",
       "    <tr style=\"text-align: right;\">\n",
       "      <th></th>\n",
       "      <th>subject_id</th>\n",
       "      <th>hadm_id</th>\n",
       "      <th>icd9_code</th>\n",
       "      <th>short_title</th>\n",
       "      <th>long_title</th>\n",
       "      <th>ICD_PC</th>\n",
       "    </tr>\n",
       "  </thead>\n",
       "  <tbody>\n",
       "    <tr>\n",
       "      <th>0</th>\n",
       "      <td>109</td>\n",
       "      <td>172335</td>\n",
       "      <td>40301</td>\n",
       "      <td>Mal hyp kid w cr kid V</td>\n",
       "      <td>Hypertensive chronic kidney disease, malignant...</td>\n",
       "      <td>403</td>\n",
       "    </tr>\n",
       "    <tr>\n",
       "      <th>1</th>\n",
       "      <td>109</td>\n",
       "      <td>172335</td>\n",
       "      <td>486</td>\n",
       "      <td>Pneumonia, organism NOS</td>\n",
       "      <td>Pneumonia, organism unspecified</td>\n",
       "      <td>486</td>\n",
       "    </tr>\n",
       "    <tr>\n",
       "      <th>2</th>\n",
       "      <td>109</td>\n",
       "      <td>172335</td>\n",
       "      <td>58281</td>\n",
       "      <td>Chr nephritis in oth dis</td>\n",
       "      <td>Chronic glomerulonephritis in diseases classif...</td>\n",
       "      <td>582</td>\n",
       "    </tr>\n",
       "    <tr>\n",
       "      <th>3</th>\n",
       "      <td>109</td>\n",
       "      <td>172335</td>\n",
       "      <td>5855</td>\n",
       "      <td>Chron kidney dis stage V</td>\n",
       "      <td>Chronic kidney disease, Stage V</td>\n",
       "      <td>585</td>\n",
       "    </tr>\n",
       "    <tr>\n",
       "      <th>4</th>\n",
       "      <td>109</td>\n",
       "      <td>172335</td>\n",
       "      <td>4254</td>\n",
       "      <td>Prim cardiomyopathy NEC</td>\n",
       "      <td>Other primary cardiomyopathies</td>\n",
       "      <td>425</td>\n",
       "    </tr>\n",
       "  </tbody>\n",
       "</table>\n",
       "</div>"
      ],
      "text/plain": [
       "   subject_id  hadm_id icd9_code               short_title  \\\n",
       "0         109   172335     40301    Mal hyp kid w cr kid V   \n",
       "1         109   172335       486   Pneumonia, organism NOS   \n",
       "2         109   172335     58281  Chr nephritis in oth dis   \n",
       "3         109   172335      5855  Chron kidney dis stage V   \n",
       "4         109   172335      4254   Prim cardiomyopathy NEC   \n",
       "\n",
       "                                          long_title ICD_PC  \n",
       "0  Hypertensive chronic kidney disease, malignant...    403  \n",
       "1                    Pneumonia, organism unspecified    486  \n",
       "2  Chronic glomerulonephritis in diseases classif...    582  \n",
       "3                    Chronic kidney disease, Stage V    585  \n",
       "4                     Other primary cardiomyopathies    425  "
      ]
     },
     "execution_count": 33,
     "metadata": {},
     "output_type": "execute_result"
    }
   ],
   "source": [
    "df_merge.head()"
   ]
  },
  {
   "cell_type": "code",
   "execution_count": 47,
   "metadata": {
    "collapsed": true
   },
   "outputs": [],
   "source": [
    "#converting to numeric\n",
    "df_merge['int_icd9']=pd.to_numeric(df_merge.ICD_PC, errors='coerce')"
   ]
  },
  {
   "cell_type": "code",
   "execution_count": 112,
   "metadata": {
    "collapsed": true
   },
   "outputs": [],
   "source": [
    "conditions = [\n",
    "    (df_merge['int_icd9'] > 0) & (df_merge['int_icd9'] <= 139),\n",
    "    (df_merge['int_icd9'] >= 140) & (df_merge['int_icd9'] <= 239),\n",
    "    (df_merge['int_icd9'] >= 240) & (df_merge['int_icd9'] <= 279),\n",
    "    (df_merge['int_icd9'] >= 280) & (df_merge['int_icd9'] <= 289),\n",
    "    (df_merge['int_icd9'] >= 290) & (df_merge['int_icd9'] <= 319),\n",
    "    (df_merge['int_icd9'] >= 320) & (df_merge['int_icd9'] <= 389),\n",
    "    (df_merge['int_icd9'] >= 390) & (df_merge['int_icd9'] <= 459),\n",
    "    (df_merge['int_icd9'] >= 460) & (df_merge['int_icd9'] <= 519),\n",
    "    (df_merge['int_icd9'] >= 520) & (df_merge['int_icd9'] <= 579),\n",
    "    (df_merge['int_icd9'] >= 580) & (df_merge['int_icd9'] <= 629),\n",
    "    (df_merge['int_icd9'] >= 630) & (df_merge['int_icd9'] <= 679),\n",
    "    (df_merge['int_icd9'] >= 680) & (df_merge['int_icd9'] <= 709),\n",
    "    (df_merge['int_icd9'] >= 710) & (df_merge['int_icd9'] <= 739),\n",
    "    (df_merge['int_icd9'] >= 740) & (df_merge['int_icd9'] <= 759),\n",
    "    (df_merge['int_icd9'] >= 760) & (df_merge['int_icd9'] <= 779),\n",
    "    (df_merge['int_icd9'] >= 780) & (df_merge['int_icd9'] <= 799),\n",
    "    (df_merge['int_icd9'] >= 800) & (df_merge['int_icd9'] <= 999),\n",
    "    (df_merge.icd9_code.str.startswith('E', na=False)) | (df_merge.icd9_code.str.startswith('V', na=False)),\n",
    "    \n",
    "]\n",
    "choices = ['infectious and parasitic diseases', 'neoplasms',\\\n",
    "           'endocrine, nutritional and metabolic diseases, and immunity disorders',\\\n",
    "           'diseases of the blood and blood-forming organs','mental disorders',\\\n",
    "           'diseases of the nervous system and sense organs','diseases of the circulatory system',\\\n",
    "           'diseases of the respiratory system','diseases of the digestive system',\\\n",
    "           'diseases of the genitourinary system','complications of pregnancy, childbirth, and the puerperium',\\\n",
    "           'diseases of the skin and subcutaneous tissue','diseases of the musculoskeletal system and connective tissue',\\\n",
    "          'congenital anomalies','certain conditions originating in the perinatal period','symptoms, signs, and ill-defined conditions',\\\n",
    "          'injury and poisoning','external causes of injury and supplemental classification']\n",
    "df_merge['Department'] = np.select(conditions, choices, default='null')\n",
    "#print(df_merge)"
   ]
  },
  {
   "cell_type": "code",
   "execution_count": 113,
   "metadata": {},
   "outputs": [
    {
     "data": {
      "text/html": [
       "<div>\n",
       "<style scoped>\n",
       "    .dataframe tbody tr th:only-of-type {\n",
       "        vertical-align: middle;\n",
       "    }\n",
       "\n",
       "    .dataframe tbody tr th {\n",
       "        vertical-align: top;\n",
       "    }\n",
       "\n",
       "    .dataframe thead th {\n",
       "        text-align: right;\n",
       "    }\n",
       "</style>\n",
       "<table border=\"1\" class=\"dataframe\">\n",
       "  <thead>\n",
       "    <tr style=\"text-align: right;\">\n",
       "      <th></th>\n",
       "      <th>subject_id</th>\n",
       "      <th>hadm_id</th>\n",
       "      <th>icd9_code</th>\n",
       "      <th>short_title</th>\n",
       "      <th>long_title</th>\n",
       "      <th>int_icd9</th>\n",
       "      <th>Department</th>\n",
       "    </tr>\n",
       "  </thead>\n",
       "  <tbody>\n",
       "    <tr>\n",
       "      <th>0</th>\n",
       "      <td>109</td>\n",
       "      <td>172335</td>\n",
       "      <td>40301</td>\n",
       "      <td>Mal hyp kid w cr kid V</td>\n",
       "      <td>Hypertensive chronic kidney disease, malignant...</td>\n",
       "      <td>403.0</td>\n",
       "      <td>diseases of the circulatory system</td>\n",
       "    </tr>\n",
       "    <tr>\n",
       "      <th>1</th>\n",
       "      <td>109</td>\n",
       "      <td>172335</td>\n",
       "      <td>486</td>\n",
       "      <td>Pneumonia, organism NOS</td>\n",
       "      <td>Pneumonia, organism unspecified</td>\n",
       "      <td>486.0</td>\n",
       "      <td>diseases of the respiratory system</td>\n",
       "    </tr>\n",
       "    <tr>\n",
       "      <th>2</th>\n",
       "      <td>109</td>\n",
       "      <td>172335</td>\n",
       "      <td>58281</td>\n",
       "      <td>Chr nephritis in oth dis</td>\n",
       "      <td>Chronic glomerulonephritis in diseases classif...</td>\n",
       "      <td>582.0</td>\n",
       "      <td>diseases of the genitourinary system</td>\n",
       "    </tr>\n",
       "    <tr>\n",
       "      <th>3</th>\n",
       "      <td>109</td>\n",
       "      <td>172335</td>\n",
       "      <td>5855</td>\n",
       "      <td>Chron kidney dis stage V</td>\n",
       "      <td>Chronic kidney disease, Stage V</td>\n",
       "      <td>585.0</td>\n",
       "      <td>diseases of the genitourinary system</td>\n",
       "    </tr>\n",
       "    <tr>\n",
       "      <th>4</th>\n",
       "      <td>109</td>\n",
       "      <td>172335</td>\n",
       "      <td>4254</td>\n",
       "      <td>Prim cardiomyopathy NEC</td>\n",
       "      <td>Other primary cardiomyopathies</td>\n",
       "      <td>425.0</td>\n",
       "      <td>diseases of the circulatory system</td>\n",
       "    </tr>\n",
       "  </tbody>\n",
       "</table>\n",
       "</div>"
      ],
      "text/plain": [
       "   subject_id  hadm_id icd9_code               short_title  \\\n",
       "0         109   172335     40301    Mal hyp kid w cr kid V   \n",
       "1         109   172335       486   Pneumonia, organism NOS   \n",
       "2         109   172335     58281  Chr nephritis in oth dis   \n",
       "3         109   172335      5855  Chron kidney dis stage V   \n",
       "4         109   172335      4254   Prim cardiomyopathy NEC   \n",
       "\n",
       "                                          long_title  int_icd9  \\\n",
       "0  Hypertensive chronic kidney disease, malignant...     403.0   \n",
       "1                    Pneumonia, organism unspecified     486.0   \n",
       "2  Chronic glomerulonephritis in diseases classif...     582.0   \n",
       "3                    Chronic kidney disease, Stage V     585.0   \n",
       "4                     Other primary cardiomyopathies     425.0   \n",
       "\n",
       "                             Department  \n",
       "0    diseases of the circulatory system  \n",
       "1    diseases of the respiratory system  \n",
       "2  diseases of the genitourinary system  \n",
       "3  diseases of the genitourinary system  \n",
       "4    diseases of the circulatory system  "
      ]
     },
     "execution_count": 113,
     "metadata": {},
     "output_type": "execute_result"
    }
   ],
   "source": [
    "df_merge.head()"
   ]
  },
  {
   "cell_type": "code",
   "execution_count": 114,
   "metadata": {
    "collapsed": true
   },
   "outputs": [],
   "source": [
    "#df_merge = df_merge.drop(['ICD_PC'],axis=1)"
   ]
  },
  {
   "cell_type": "code",
   "execution_count": 115,
   "metadata": {},
   "outputs": [
    {
     "data": {
      "text/plain": [
       "diseases of the circulatory system                                       140257\n",
       "external causes of injury and supplemental classification                 97249\n",
       "endocrine, nutritional and metabolic diseases, and immunity disorders     69592\n",
       "diseases of the respiratory system                                        44825\n",
       "injury and poisoning                                                      42948\n",
       "diseases of the digestive system                                          38527\n",
       "diseases of the genitourinary system                                      32867\n",
       "symptoms, signs, and ill-defined conditions                               29691\n",
       "diseases of the blood and blood-forming organs                            25262\n",
       "mental disorders                                                          24876\n",
       "diseases of the nervous system and sense organs                           23334\n",
       "infectious and parasitic diseases                                         20264\n",
       "certain conditions originating in the perinatal period                    20160\n",
       "neoplasms                                                                 14235\n",
       "diseases of the musculoskeletal system and connective tissue              13392\n",
       "diseases of the skin and subcutaneous tissue                               8789\n",
       "congenital anomalies                                                       4078\n",
       "complications of pregnancy, childbirth, and the puerperium                  654\n",
       "null                                                                         47\n",
       "Name: Department, dtype: int64"
      ]
     },
     "execution_count": 115,
     "metadata": {},
     "output_type": "execute_result"
    }
   ],
   "source": [
    "df_merge.Department.value_counts()"
   ]
  },
  {
   "cell_type": "code",
   "execution_count": 116,
   "metadata": {
    "collapsed": true
   },
   "outputs": [],
   "source": [
    "df_null = df_merge[df_merge['Department']=='null']"
   ]
  },
  {
   "cell_type": "code",
   "execution_count": 119,
   "metadata": {},
   "outputs": [
    {
     "data": {
      "text/html": [
       "<div>\n",
       "<style scoped>\n",
       "    .dataframe tbody tr th:only-of-type {\n",
       "        vertical-align: middle;\n",
       "    }\n",
       "\n",
       "    .dataframe tbody tr th {\n",
       "        vertical-align: top;\n",
       "    }\n",
       "\n",
       "    .dataframe thead th {\n",
       "        text-align: right;\n",
       "    }\n",
       "</style>\n",
       "<table border=\"1\" class=\"dataframe\">\n",
       "  <thead>\n",
       "    <tr style=\"text-align: right;\">\n",
       "      <th></th>\n",
       "      <th>subject_id</th>\n",
       "      <th>hadm_id</th>\n",
       "      <th>icd9_code</th>\n",
       "      <th>short_title</th>\n",
       "      <th>long_title</th>\n",
       "      <th>int_icd9</th>\n",
       "      <th>Department</th>\n",
       "    </tr>\n",
       "  </thead>\n",
       "  <tbody>\n",
       "    <tr>\n",
       "      <th>5251</th>\n",
       "      <td>417</td>\n",
       "      <td>102633</td>\n",
       "      <td>None</td>\n",
       "      <td>None</td>\n",
       "      <td>None</td>\n",
       "      <td>NaN</td>\n",
       "      <td>null</td>\n",
       "    </tr>\n",
       "    <tr>\n",
       "      <th>8354</th>\n",
       "      <td>690</td>\n",
       "      <td>174817</td>\n",
       "      <td>None</td>\n",
       "      <td>None</td>\n",
       "      <td>None</td>\n",
       "      <td>NaN</td>\n",
       "      <td>null</td>\n",
       "    </tr>\n",
       "    <tr>\n",
       "      <th>9691</th>\n",
       "      <td>937</td>\n",
       "      <td>177274</td>\n",
       "      <td>None</td>\n",
       "      <td>None</td>\n",
       "      <td>None</td>\n",
       "      <td>NaN</td>\n",
       "      <td>null</td>\n",
       "    </tr>\n",
       "    <tr>\n",
       "      <th>18667</th>\n",
       "      <td>1490</td>\n",
       "      <td>135580</td>\n",
       "      <td>None</td>\n",
       "      <td>None</td>\n",
       "      <td>None</td>\n",
       "      <td>NaN</td>\n",
       "      <td>null</td>\n",
       "    </tr>\n",
       "    <tr>\n",
       "      <th>27313</th>\n",
       "      <td>3369</td>\n",
       "      <td>126808</td>\n",
       "      <td>None</td>\n",
       "      <td>None</td>\n",
       "      <td>None</td>\n",
       "      <td>NaN</td>\n",
       "      <td>null</td>\n",
       "    </tr>\n",
       "  </tbody>\n",
       "</table>\n",
       "</div>"
      ],
      "text/plain": [
       "       subject_id  hadm_id icd9_code short_title long_title  int_icd9  \\\n",
       "5251          417   102633      None        None       None       NaN   \n",
       "8354          690   174817      None        None       None       NaN   \n",
       "9691          937   177274      None        None       None       NaN   \n",
       "18667        1490   135580      None        None       None       NaN   \n",
       "27313        3369   126808      None        None       None       NaN   \n",
       "\n",
       "      Department  \n",
       "5251        null  \n",
       "8354        null  \n",
       "9691        null  \n",
       "18667       null  \n",
       "27313       null  "
      ]
     },
     "execution_count": 119,
     "metadata": {},
     "output_type": "execute_result"
    }
   ],
   "source": [
    "#ICD codes are null\n",
    "df_null.head()"
   ]
  },
  {
   "cell_type": "code",
   "execution_count": null,
   "metadata": {
    "collapsed": true
   },
   "outputs": [],
   "source": []
  }
 ],
 "metadata": {
  "kernelspec": {
   "display_name": "Python 3",
   "language": "python",
   "name": "python3"
  },
  "language_info": {
   "codemirror_mode": {
    "name": "ipython",
    "version": 3
   },
   "file_extension": ".py",
   "mimetype": "text/x-python",
   "name": "python",
   "nbconvert_exporter": "python",
   "pygments_lexer": "ipython3",
   "version": "3.6.1"
  }
 },
 "nbformat": 4,
 "nbformat_minor": 2
}
