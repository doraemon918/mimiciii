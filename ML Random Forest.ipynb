{
 "cells": [
  {
   "cell_type": "code",
   "execution_count": 169,
   "metadata": {},
   "outputs": [],
   "source": [
    "%matplotlib inline\n",
    "# Required Python Packages\n",
    "import pandas as pd\n",
    "from sklearn.model_selection import train_test_split\n",
    "from sklearn.ensemble import RandomForestClassifier\n",
    "from sklearn.metrics import accuracy_score\n",
    "from sklearn.metrics import confusion_matrix\n",
    "from sklearn.metrics import roc_auc_score"
   ]
  },
  {
   "cell_type": "code",
   "execution_count": 212,
   "metadata": {},
   "outputs": [],
   "source": [
    "# Reading in data from the 50-50 readmit vs. nonreadmit dataset\n",
    "\n",
    "df = pd.read_csv('dfd.csv')\n",
    "df.head();"
   ]
  },
  {
   "cell_type": "code",
   "execution_count": 213,
   "metadata": {},
   "outputs": [],
   "source": [
    "# Dropping certain columns\n",
    "\n",
    "# Dropping ID numbers and dates\n",
    "df = df.drop(columns=['subject_id', 'hadm_id', 'admittime', 'dischtime'])\n",
    "\n",
    "# Dropping labevents and chartevents values of less importance based on feature selection (2/3 values for each measurement)\n",
    "df = df.drop(columns=['rdw_min', 'rdw_max', 'hemoglobin_min', 'hemoglobin_max', 'creatinine_median', 'creatinine_min', \n",
    "                      'hematocrit_median', 'hematocrit_min', 'tempc_median', 'tempc_max', 'resprate_median', \n",
    "                      'resprate_min', 'wbc_median', 'wbc_max', 'inr_min', 'inr_median', 'ptt_median', 'ptt_max', \n",
    "                      'lactate_median', 'lactate_max', 'sysbp_median', 'sysbp_min', 'spo2_median', 'spo2_max', \n",
    "                      'bilirubin_median', 'bilirubin_max', 'platelet_median', 'platelet_max', 'heartrate_min',\n",
    "                      'heartrate_median'])\n",
    "df.head();"
   ]
  },
  {
   "cell_type": "code",
   "execution_count": 214,
   "metadata": {},
   "outputs": [],
   "source": [
    "# Converting categorical features into dummy variables\n",
    "\n",
    "df_converted = pd.get_dummies(df)\n",
    "df_converted.head();"
   ]
  },
  {
   "cell_type": "code",
   "execution_count": 173,
   "metadata": {},
   "outputs": [],
   "source": [
    "# Splitting dataframe into data (predictors) vs. label (attributed to be predicted)\n",
    "\n",
    "label_df = df_converted.pop('followed_by_readmit')\n",
    "data_df = df_converted\n",
    "names = data_df.columns.values\n",
    "#print('label_df:\\n', label_df.head(), 2*'\\n', 'data_df:\\n', data_df.head())"
   ]
  },
  {
   "cell_type": "code",
   "execution_count": null,
   "metadata": {},
   "outputs": [],
   "source": []
  },
  {
   "cell_type": "code",
   "execution_count": 215,
   "metadata": {},
   "outputs": [],
   "source": [
    "# Converting dataframes to NumPy arrays\n",
    "\n",
    "label = label_df.values\n",
    "data = data_df.values"
   ]
  },
  {
   "cell_type": "code",
   "execution_count": 216,
   "metadata": {},
   "outputs": [
    {
     "name": "stdout",
     "output_type": "stream",
     "text": [
      "Training data: (4873, 110) \tTest data: (1219, 110)\n",
      "Training labels: (4873,) \tTest labels: (1219,)\n"
     ]
    }
   ],
   "source": [
    "# 80/20 train-test split\n",
    "\n",
    "from sklearn.model_selection import train_test_split\n",
    "\n",
    "train_data, test_data, train_label, test_label = train_test_split(data, label, train_size=0.8, test_size=0.2, random_state=10)\n",
    "print('Training data:', train_data.shape, '\\tTest data:', test_data.shape)\n",
    "print('Training labels:', train_label.shape, '\\tTest labels:', test_label.shape)"
   ]
  },
  {
   "cell_type": "code",
   "execution_count": null,
   "metadata": {},
   "outputs": [],
   "source": []
  },
  {
   "cell_type": "code",
   "execution_count": 217,
   "metadata": {},
   "outputs": [],
   "source": [
    "from sklearn.ensemble import RandomForestClassifier\n",
    "from sklearn.datasets import make_classification\n",
    "model = RandomForestClassifier(n_estimators = 700,max_depth=6, oob_score = True, n_jobs = -1,random_state =50,  max_features = \"auto\" , min_samples_leaf = 20)"
   ]
  },
  {
   "cell_type": "code",
   "execution_count": 218,
   "metadata": {},
   "outputs": [
    {
     "data": {
      "text/plain": [
       "RandomForestClassifier(bootstrap=True, class_weight=None, criterion='gini',\n",
       "            max_depth=6, max_features='auto', max_leaf_nodes=None,\n",
       "            min_impurity_decrease=0.0, min_impurity_split=None,\n",
       "            min_samples_leaf=20, min_samples_split=2,\n",
       "            min_weight_fraction_leaf=0.0, n_estimators=700, n_jobs=-1,\n",
       "            oob_score=True, random_state=50, verbose=0, warm_start=False)"
      ]
     },
     "execution_count": 218,
     "metadata": {},
     "output_type": "execute_result"
    }
   ],
   "source": [
    "model.fit(train_data,train_label)"
   ]
  },
  {
   "cell_type": "code",
   "execution_count": null,
   "metadata": {},
   "outputs": [],
   "source": []
  },
  {
   "cell_type": "code",
   "execution_count": 219,
   "metadata": {},
   "outputs": [
    {
     "name": "stdout",
     "output_type": "stream",
     "text": [
      "0.629591627334291\n"
     ]
    }
   ],
   "source": [
    "print(model.oob_score_)"
   ]
  },
  {
   "cell_type": "code",
   "execution_count": 220,
   "metadata": {},
   "outputs": [],
   "source": [
    "# Use the forest's predict method on the test data\n",
    "predictions = model.predict(test_data)"
   ]
  },
  {
   "cell_type": "code",
   "execution_count": 221,
   "metadata": {},
   "outputs": [
    {
     "data": {
      "text/plain": [
       "0.6570959803117309"
      ]
     },
     "execution_count": 221,
     "metadata": {},
     "output_type": "execute_result"
    }
   ],
   "source": [
    "accuracy_score(test_label, predictions)"
   ]
  },
  {
   "cell_type": "code",
   "execution_count": 223,
   "metadata": {},
   "outputs": [],
   "source": [
    "model.feature_importances_;"
   ]
  },
  {
   "cell_type": "code",
   "execution_count": 144,
   "metadata": {},
   "outputs": [],
   "source": [
    "param_grid = { \n",
    "    'n_estimators': [200, 300,400,500,700],\n",
    "    'max_features': ['auto', 'sqrt', 'log2']\n",
    "}"
   ]
  },
  {
   "cell_type": "code",
   "execution_count": 159,
   "metadata": {},
   "outputs": [],
   "source": [
    "from sklearn.grid_search import GridSearchCV\n",
    "CV_rfc = GridSearchCV(estimator=model, param_grid=param_grid, cv= 10)"
   ]
  },
  {
   "cell_type": "code",
   "execution_count": 160,
   "metadata": {},
   "outputs": [
    {
     "data": {
      "text/plain": [
       "GridSearchCV(cv=10, error_score='raise',\n",
       "       estimator=RandomForestClassifier(bootstrap=True, class_weight=None, criterion='gini',\n",
       "            max_depth=6, max_features='auto', max_leaf_nodes=None,\n",
       "            min_impurity_decrease=0.0, min_impurity_split=None,\n",
       "            min_samples_leaf=20, min_samples_split=2,\n",
       "            min_weight_fraction_leaf=0.0, n_estimators=700, n_jobs=-1,\n",
       "            oob_score=True, random_state=50, verbose=0, warm_start=False),\n",
       "       fit_params={}, iid=True, n_jobs=1,\n",
       "       param_grid={'n_estimators': [200, 700], 'max_features': ['auto', 'sqrt', 'log2']},\n",
       "       pre_dispatch='2*n_jobs', refit=True, scoring=None, verbose=0)"
      ]
     },
     "execution_count": 160,
     "metadata": {},
     "output_type": "execute_result"
    }
   ],
   "source": [
    "CV_rfc.fit(train_data, train_label)"
   ]
  },
  {
   "cell_type": "code",
   "execution_count": 161,
   "metadata": {},
   "outputs": [
    {
     "name": "stdout",
     "output_type": "stream",
     "text": [
      "{'max_features': 'auto', 'n_estimators': 200}\n"
     ]
    }
   ],
   "source": [
    "print (CV_rfc.best_params_)"
   ]
  },
  {
   "cell_type": "code",
   "execution_count": 224,
   "metadata": {},
   "outputs": [
    {
     "name": "stdout",
     "output_type": "stream",
     "text": [
      "[(0.1269, 'rdw_median'), (0.0787, 'readmit_time'), (0.0741, 'is_readmit'), (0.068, 'No_of_Depart'), (0.0491, 'length_of_stay'), (0.0454, 'hemoglobin_median'), (0.0451, 'creatinine_max'), (0.0375, 'wbc_min'), (0.029, 'hematocrit_max'), (0.027, 'ptt_min'), (0.0261, 'tempc_min'), (0.0247, 'resprate_max'), (0.0236, 'platelet_min'), (0.0228, 'spo2_min'), (0.0224, 'sysbp_max'), (0.0217, 'diseases of the genitourinary system'), (0.021, 'heartrate_max'), (0.021, 'age_on_admiss'), (0.0202, 'ethnicity_UNKNOWN/NOT SPECIFIED'), (0.0189, 'lactate_min'), (0.0178, 'inr_max'), (0.0121, 'ethnicity_BLACK/AFRICAN AMERICAN'), (0.0111, 'diseases of the blood and blood-forming organs'), (0.011, 'bilirubin_min'), (0.0099, 'single_int_mammCAB'), (0.0096, 'infectious and parasitic diseases'), (0.0075, 'external causes of injury and supplemental classification'), (0.0074, 'glycopyrrolate'), (0.0072, 'diseases of the respiratory system'), (0.0067, 'aorto_CBT'), (0.0065, 'diseases of the digestive system'), (0.006, 'insurance_Medicaid'), (0.0057, 'lansoprazole'), (0.0057, 'diseases of the nervous system and sense organs'), (0.0054, 'neostigmine'), (0.0048, 'ethnicity_WHITE'), (0.0047, 'symptoms, signs, and ill-defined conditions'), (0.0044, 'insurance_Private'), (0.0033, 'diseases of the circulatory system'), (0.0032, 'injury and poisoning'), (0.0031, 'insurance_Medicare'), (0.003, 'mental disorders'), (0.003, 'gender_F'), (0.0029, 'gender_M'), (0.0028, 'Depart1_injury and poisoning'), (0.0027, 'nitroglycerin'), (0.0026, 'diseases of the musculoskeletal system and connective tissue'), (0.0025, 'Depart1_diseases of the circulatory system'), (0.0024, 'vancomycin'), (0.0024, 'neosynephrine'), (0.002, 'endocrine, nutritional and metabolic diseases, and immunity disorders'), (0.0018, 'neoplasms'), (0.0016, 'diseases of the skin and subcutaneous tissue'), (0.0016, 'chlorhexidine'), (0.0011, 'ceftriaxone'), (0.0011, 'atropine sulfate'), (0.0011, 'Depart1_endocrine, nutritional and metabolic diseases, and immunity disorders'), (0.001, 'parent_inf'), (0.001, 'ethnicity_UNABLE TO OBTAIN'), (0.001, 'Depart1_external causes of injury and supplemental classification'), (0.0009, 'insurance_Government'), (0.0009, 'Depart1_diseases of the respiratory system'), (0.0008, 'Depart1_diseases of the digestive system'), (0.0007, 'nitroprusside'), (0.0003, 'serum_transf'), (0.0003, 'platelet_transf'), (0.0003, 'ethnicity_HISPANIC OR LATINO'), (0.0003, 'congenital anomalies'), (0.0003, 'Depart1_mental disorders'), (0.0002, 'skin_sut'), (0.0002, 'ins_inter_cath'), (0.0002, 'Depart1_diseases of the nervous system and sense organs'), (0.0001, 'inf_vasopress'), (0.0001, 'ethnicity_OTHER'), (0.0001, 'Depart1_symptoms, signs, and ill-defined conditions'), (0.0001, 'Depart1_infectious and parasitic diseases'), (0.0001, 'Depart1_diseases of the genitourinary system'), (0.0, 'insurance_Self Pay'), (0.0, 'ethnicity_WHITE - RUSSIAN'), (0.0, 'ethnicity_WHITE - OTHER EUROPEAN'), (0.0, 'ethnicity_WHITE - EASTERN EUROPEAN'), (0.0, 'ethnicity_WHITE - BRAZILIAN'), (0.0, 'ethnicity_SOUTH AMERICAN'), (0.0, 'ethnicity_PORTUGUESE'), (0.0, 'ethnicity_PATIENT DECLINED TO ANSWER'), (0.0, 'ethnicity_NATIVE HAWAIIAN OR OTHER PACIFIC ISLANDER'), (0.0, 'ethnicity_MULTI RACE ETHNICITY'), (0.0, 'ethnicity_MIDDLE EASTERN'), (0.0, 'ethnicity_HISPANIC/LATINO - PUERTO RICAN'), (0.0, 'ethnicity_HISPANIC/LATINO - MEXICAN'), (0.0, 'ethnicity_HISPANIC/LATINO - GUATEMALAN'), (0.0, 'ethnicity_HISPANIC/LATINO - DOMINICAN'), (0.0, 'ethnicity_HISPANIC/LATINO - CUBAN'), (0.0, 'ethnicity_HISPANIC/LATINO - CENTRAL AMERICAN (OTHER)'), (0.0, 'ethnicity_BLACK/HAITIAN'), (0.0, 'ethnicity_BLACK/CAPE VERDEAN'), (0.0, 'ethnicity_BLACK/AFRICAN'), (0.0, 'ethnicity_ASIAN - VIETNAMESE'), (0.0, 'ethnicity_ASIAN - FILIPINO'), (0.0, 'ethnicity_ASIAN - CHINESE'), (0.0, 'ethnicity_ASIAN - CAMBODIAN'), (0.0, 'ethnicity_ASIAN - ASIAN INDIAN'), (0.0, 'ethnicity_ASIAN'), (0.0, 'ethnicity_AMERICAN INDIAN/ALASKA NATIVE'), (0.0, 'Depart1_neoplasms'), (0.0, 'Depart1_diseases of the skin and subcutaneous tissue'), (0.0, 'Depart1_diseases of the musculoskeletal system and connective tissue'), (0.0, 'Depart1_diseases of the blood and blood-forming organs'), (0.0, 'Depart1_congenital anomalies'), (0.0, 'Depart1_complications of pregnancy, childbirth, and the puerperium')]\n"
     ]
    }
   ],
   "source": [
    "print (sorted(zip(map(lambda x: round(x, 4), model.feature_importances_), names), \n",
    "             reverse=True))"
   ]
  },
  {
   "cell_type": "markdown",
   "metadata": {},
   "source": [
    "## Top features"
   ]
  },
  {
   "cell_type": "markdown",
   "metadata": {},
   "source": [
    "[(0.1269, 'rdw_median'), (0.0787, 'readmit_time'), (0.0741, 'is_readmit'), (0.068, 'No_of_Depart'), (0.0491, 'length_of_stay'), (0.0454, 'hemoglobin_median'), (0.0451, 'creatinine_max'), (0.0375, 'wbc_min'), (0.029, 'hematocrit_max'), (0.027, 'ptt_min'), (0.0261, 'tempc_min'), (0.0247, 'resprate_max'), (0.0236, 'platelet_min'), (0.0228, 'spo2_min'), (0.0224, 'sysbp_max'), (0.0217, 'diseases of the genitourinary system'), (0.021, 'heartrate_max'), (0.021, 'age_on_admiss'), (0.0202, 'ethnicity_UNKNOWN/NOT SPECIFIED'), (0.0189, 'lactate_min'), (0.0178, 'inr_max'), (0.0121, 'ethnicity_BLACK/AFRICAN AMERICAN'), (0.0111, 'diseases of the blood and blood-forming organs'), (0.011, 'bilirubin_min'),"
   ]
  },
  {
   "cell_type": "markdown",
   "metadata": {},
   "source": [
    "# Adaboost"
   ]
  },
  {
   "cell_type": "code",
   "execution_count": 198,
   "metadata": {},
   "outputs": [],
   "source": [
    "from sklearn.model_selection import cross_val_score\n",
    "from sklearn.ensemble import AdaBoostClassifier"
   ]
  },
  {
   "cell_type": "code",
   "execution_count": 209,
   "metadata": {},
   "outputs": [],
   "source": [
    "clf = AdaBoostClassifier(n_estimators=100)"
   ]
  },
  {
   "cell_type": "code",
   "execution_count": 210,
   "metadata": {},
   "outputs": [],
   "source": [
    "scores = cross_val_score(clf, train_data, train_label)"
   ]
  },
  {
   "cell_type": "code",
   "execution_count": 211,
   "metadata": {},
   "outputs": [
    {
     "data": {
      "text/plain": [
       "0.6047619047619047"
      ]
     },
     "execution_count": 211,
     "metadata": {},
     "output_type": "execute_result"
    }
   ],
   "source": [
    "scores.mean() "
   ]
  },
  {
   "cell_type": "code",
   "execution_count": null,
   "metadata": {},
   "outputs": [],
   "source": [
    "seed = 7\n",
    "num_trees = 30\n",
    "kfold = model_selection.KFold(n_splits=10, random_state=seed)\n",
    "model = AdaBoostClassifier(n_estimators=num_trees, random_state=seed)\n",
    "results = model_selection.cross_val_score(model, , Y, cv=kfold)\n",
    "print(results.mean())"
   ]
  }
 ],
 "metadata": {
  "kernelspec": {
   "display_name": "Python 3",
   "language": "python",
   "name": "python3"
  },
  "language_info": {
   "codemirror_mode": {
    "name": "ipython",
    "version": 3
   },
   "file_extension": ".py",
   "mimetype": "text/x-python",
   "name": "python",
   "nbconvert_exporter": "python",
   "pygments_lexer": "ipython3",
   "version": "3.6.4"
  }
 },
 "nbformat": 4,
 "nbformat_minor": 2
}
