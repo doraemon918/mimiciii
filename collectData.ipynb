{
 "cells": [
  {
   "cell_type": "code",
   "execution_count": null,
   "metadata": {
    "collapsed": true
   },
   "outputs": [],
   "source": [
    "import pandas as pd\n",
    "import psycopg2\n",
    "\n",
    "\n",
    "sqluser = 'postgres'\n",
    "dbname = 'mimic'\n",
    "schema_name = 'mimiciii'\n",
    "con = psycopg2.connect(dbname=dbname, user=sqluser)\n",
    "cur = con.cursor()\n",
    "\n",
    "query = \"SELECT\" \\\n",
    "        \" a.subject_id, a.hadm_id, a.ethnicity, a.insurance, p.gender\" \\\n",
    "        \", ROUND( (cast(a.admittime as date) - cast(p.dob as date)) / 365.242)\" \\\n",
    "        \" AS age_on_admiss\" \\\n",
    "        \", cast(a.dischtime as date) - cast(a.admittime as date)\" \\\n",
    "        \" AS length_of_stay\" \\\n",
    "        \" FROM mimiciii.admissions a\" \\\n",
    "        \" INNER JOIN mimiciii.patients p\" \\\n",
    "        \" ON p.subject_id = a.subject_id\" \\\n",
    "        \" GROUP BY\" \\\n",
    "        \" a.subject_id, a.hadm_id, a.ethnicity, a.insurance, p.gender, a.admittime, p.dob, a.dischtime\" \\\n",
    "        \" ORDER BY a.subject_id;\"\n",
    "\n",
    "cur.execute('SET search_path to ' + schema_name)\n",
    "df = pd.read_sql_query(query, con)\n",
    "\n",
    "print(df.head(5))"
   ]
  }
 ],
 "metadata": {
  "kernelspec": {
   "display_name": "Python 2",
   "language": "python",
   "name": "python2"
  },
  "language_info": {
   "codemirror_mode": {
    "name": "ipython",
    "version": 2
   },
   "file_extension": ".py",
   "mimetype": "text/x-python",
   "name": "python",
   "nbconvert_exporter": "python",
   "pygments_lexer": "ipython2",
   "version": "2.7.6"
  }
 },
 "nbformat": 4,
 "nbformat_minor": 0
}
