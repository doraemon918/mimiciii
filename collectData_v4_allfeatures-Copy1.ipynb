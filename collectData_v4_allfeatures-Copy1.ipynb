{
 "cells": [
  {
   "cell_type": "code",
   "execution_count": null,
   "metadata": {
    "scrolled": false
   },
   "outputs": [],
   "source": [
    "import pandas as pd\n",
    "import numpy as np\n",
    "import psycopg2\n",
    "import seaborn as sns\n",
    "import matplotlib\n",
    "import matplotlib.pyplot as plt\n",
    "%matplotlib inline\n",
    "\n",
    "\n",
    "sqluser = 'postgres'\n",
    "dbname = 'mimic'\n",
    "schema_name = 'mimiciii'\n",
    "\n",
    "#sqluser = 'mimicuser'\n",
    "#dbname = 'mimic'\n",
    "\n",
    "# Password keyword only necessary if user-specified password required to connect to database\n",
    "con = psycopg2.connect(dbname=dbname, user=sqluser, password='postgre')\n",
    "cur = con.cursor()\n",
    "\n",
    "query = \"SELECT\" \\\n",
    "        \" a.subject_id, a.hadm_id, a.ethnicity, a.insurance, p.gender, cast(a.admittime as date), cast(a.dischtime as date)\" \\\n",
    "        \", ROUND( (cast(a.admittime as date) - cast(p.dob as date)) / 365.242)\" \\\n",
    "        \" AS age_on_admiss\" \\\n",
    "        \", cast(a.dischtime as date) - cast(a.admittime as date)\" \\\n",
    "        \" AS length_of_stay\" \\\n",
    "        \" FROM admissions a\" \\\n",
    "        \" INNER JOIN patients p\" \\\n",
    "        \" ON p.subject_id = a.subject_id\" \\\n",
    "        \" GROUP BY\" \\\n",
    "        \" a.subject_id, a.hadm_id, a.ethnicity, a.insurance, p.gender, a.admittime, p.dob, a.dischtime\" \\\n",
    "        \" ORDER BY a.subject_id;\"\n",
    "\n",
    "cur.execute('SET search_path to ' + schema_name)\n",
    "df = pd.read_sql_query(query, con)\n",
    "\n",
    "df.dtypes"
   ]
  },
  {
   "cell_type": "code",
   "execution_count": null,
   "metadata": {
    "scrolled": true
   },
   "outputs": [],
   "source": [
    "df.info()"
   ]
  },
  {
   "cell_type": "markdown",
   "metadata": {},
   "source": [
    "How many rows correspond to neonates?"
   ]
  },
  {
   "cell_type": "code",
   "execution_count": null,
   "metadata": {
    "scrolled": false
   },
   "outputs": [],
   "source": [
    "len(df[df['age_on_admiss'] < 1])"
   ]
  },
  {
   "cell_type": "markdown",
   "metadata": {},
   "source": [
    "How many categories of ethnicity are there?"
   ]
  },
  {
   "cell_type": "code",
   "execution_count": null,
   "metadata": {
    "scrolled": true
   },
   "outputs": [],
   "source": [
    "df['ethnicity'].unique()"
   ]
  },
  {
   "cell_type": "markdown",
   "metadata": {},
   "source": [
    "How many categories of gender are there?"
   ]
  },
  {
   "cell_type": "code",
   "execution_count": null,
   "metadata": {
    "scrolled": true
   },
   "outputs": [],
   "source": [
    "df['gender'].unique()"
   ]
  },
  {
   "cell_type": "markdown",
   "metadata": {},
   "source": [
    "How many types of insurance are represented?"
   ]
  },
  {
   "cell_type": "code",
   "execution_count": null,
   "metadata": {
    "scrolled": true
   },
   "outputs": [],
   "source": [
    "df['insurance'].unique()"
   ]
  },
  {
   "cell_type": "code",
   "execution_count": null,
   "metadata": {
    "scrolled": true
   },
   "outputs": [],
   "source": []
  },
  {
   "cell_type": "code",
   "execution_count": null,
   "metadata": {
    "scrolled": true
   },
   "outputs": [],
   "source": []
  },
  {
   "cell_type": "markdown",
   "metadata": {},
   "source": [
    "## Readmissions Query and filtering data frame for adult patients"
   ]
  },
  {
   "cell_type": "code",
   "execution_count": null,
   "metadata": {
    "scrolled": true
   },
   "outputs": [],
   "source": [
    "query_rm = \"\"\"WITH readmits AS\n",
    "(\n",
    "            SELECT subject_id, hadm_id, admittime, dischtime, diagnosis, insurance, admission_type,\n",
    "            cast(admittime as date) - lag(cast(dischtime as date))\n",
    "                                            OVER (PARTITION BY subject_id ORDER BY admittime)\n",
    "                                            AS readmit_time\n",
    "            FROM admissions\n",
    ")\n",
    "SELECT subject_id, hadm_id, readmit_time\n",
    "FROM readmits\n",
    "WHERE readmit_time <= 30\n",
    "ORDER BY subject_id, admittime;\"\"\"\n",
    "#cur.execute('SET search_path to ' + schema_name)\n",
    "df_rm = pd.read_sql_query(query_rm, con)\n",
    "df_rm.dtypes"
   ]
  },
  {
   "cell_type": "code",
   "execution_count": null,
   "metadata": {
    "scrolled": true
   },
   "outputs": [],
   "source": [
    "df2 = df.merge(df_rm, on = [\"subject_id\",\"hadm_id\"], how = \"outer\")\n",
    "df2['is_readmit'] = np.where(df2.readmit_time.isnull(), False, True)\n",
    "df2['readmit_time'] = np.where(df2.readmit_time.isnull(), 0, df2.readmit_time)"
   ]
  },
  {
   "cell_type": "code",
   "execution_count": null,
   "metadata": {
    "scrolled": true
   },
   "outputs": [],
   "source": [
    "# Replacing age of >89 y.o. patients with 90\n",
    "df2['age_on_admiss'] = np.where(df2['age_on_admiss']>100, 90, df2['age_on_admiss'])\n",
    "\n",
    "# Only keeping rows corresponding to \"adults\" (non-neonates)\n",
    "df2 = df2[df2['age_on_admiss'] > 0].copy().reset_index(drop=True)"
   ]
  },
  {
   "cell_type": "code",
   "execution_count": null,
   "metadata": {
    "scrolled": false
   },
   "outputs": [],
   "source": [
    "df2.head()"
   ]
  },
  {
   "cell_type": "code",
   "execution_count": null,
   "metadata": {
    "scrolled": true
   },
   "outputs": [],
   "source": [
    "len(df2)"
   ]
  },
  {
   "cell_type": "markdown",
   "metadata": {},
   "source": [
    "## Creating readmission vs. nonreadmission classes"
   ]
  },
  {
   "cell_type": "code",
   "execution_count": null,
   "metadata": {
    "scrolled": true
   },
   "outputs": [],
   "source": [
    "# Grouping admissions by patient and sorting by admission time within each patient\n",
    "\n",
    "df2_grouped = df2.groupby('subject_id').apply(pd.DataFrame.sort_values, 'admittime')"
   ]
  },
  {
   "cell_type": "code",
   "execution_count": null,
   "metadata": {
    "scrolled": true
   },
   "outputs": [],
   "source": [
    "df2_grouped.head()"
   ]
  },
  {
   "cell_type": "code",
   "execution_count": null,
   "metadata": {
    "scrolled": true
   },
   "outputs": [],
   "source": [
    "# Checking grouping using a patient with known readmission\n",
    "\n",
    "df2_grouped.loc[99982]"
   ]
  },
  {
   "cell_type": "code",
   "execution_count": null,
   "metadata": {
    "scrolled": true
   },
   "outputs": [],
   "source": [
    "# Creating a new column indicating whether each stay was followed by an early readmission\n",
    "\n",
    "# Filling in placeholder \"False\" values\n",
    "df2_follow = df2_grouped.copy()\n",
    "df2_follow['followed_by_readmit'] = False\n",
    "\n",
    "# Replacing values with True/False based on previous row's \"is_readmit\" value (only if the rows have same subject_id)\n",
    "# df2_follow.index[0][1] -> 0\n",
    "for i in range(len(df2_follow)-1):\n",
    "    if df2_follow.index[i][0] == df2_follow.index[i+1][0]:\n",
    "        df2_follow.iloc[i, df2_follow.columns.get_loc('followed_by_readmit')] = df2_follow.iloc[i+1, df2_follow.columns.get_loc('is_readmit')]"
   ]
  },
  {
   "cell_type": "code",
   "execution_count": null,
   "metadata": {
    "scrolled": true
   },
   "outputs": [],
   "source": [
    "# Checking assignment using same patient with known readmission\n",
    "\n",
    "df2_follow.loc[99982]"
   ]
  },
  {
   "cell_type": "code",
   "execution_count": null,
   "metadata": {
    "scrolled": true
   },
   "outputs": [],
   "source": [
    "# Re-setting index\n",
    "\n",
    "df2_follow.index = df2_follow.index.droplevel(0)\n",
    "df2_follow.head()"
   ]
  },
  {
   "cell_type": "markdown",
   "metadata": {},
   "source": [
    "## Pulling in CHARTEVENTS and LABEVENTS data"
   ]
  },
  {
   "cell_type": "markdown",
   "metadata": {},
   "source": [
    "### Vital signs data"
   ]
  },
  {
   "cell_type": "code",
   "execution_count": null,
   "metadata": {
    "scrolled": true
   },
   "outputs": [],
   "source": [
    "%%time\n",
    "# Pulling in vital signs data\n",
    "# Code adapted from https://github.com/MIT-LCP/mimic-code/blob/master/concepts/pivot/pivoted-vital.sql\n",
    "\n",
    "query_vitals = \"\"\" with ce as\n",
    "(\n",
    "  select ce.hadm_id\n",
    "    , ce.charttime\n",
    "    , (case when itemid in (211,220045) and valuenum > 0 and valuenum < 300 then valuenum else null end) as HeartRate\n",
    "    , (case when itemid in (51,442,455,6701,220179,220050) and valuenum > 0 and valuenum < 400 then valuenum else null end) as SysBP\n",
    "    , (case when itemid in (615,618,220210,224690) and valuenum > 0 and valuenum < 70 then valuenum else null end) as RespRate\n",
    "    , (case when itemid in (223761,678) and valuenum > 70 and valuenum < 120 then (valuenum-32)/1.8 -- converted to degC in valuenum call\n",
    "               when itemid in (223762,676) and valuenum > 10 and valuenum < 50  then valuenum else null end) as TempC\n",
    "    , (case when itemid in (646,220277) and valuenum > 0 and valuenum <= 100 then valuenum else null end) as SpO2\n",
    "  from chartevents ce\n",
    "  -- exclude rows marked as error\n",
    "  where ce.error IS DISTINCT FROM 1\n",
    "  and ce.itemid in\n",
    "  (\n",
    "  -- HEART RATE\n",
    "  211, --\"Heart Rate\"\n",
    "  220045, --\"Heart Rate\"\n",
    "\n",
    "  -- Systolic\n",
    "\n",
    "  51, --\tArterial BP [Systolic]\n",
    "  442, --\tManual BP [Systolic]\n",
    "  455, --\tNBP [Systolic]\n",
    "  6701, --\tArterial BP #2 [Systolic]\n",
    "  220179, --\tNon Invasive Blood Pressure systolic\n",
    "  220050, --\tArterial Blood Pressure systolic\n",
    "\n",
    "  -- RESPIRATORY RATE\n",
    "  618,--\tRespiratory Rate\n",
    "  615,--\tResp Rate (Total)\n",
    "  220210,--\tRespiratory Rate\n",
    "  224690, --\tRespiratory Rate (Total)\n",
    "\n",
    "\n",
    "  -- SPO2, peripheral\n",
    "  646, 220277,\n",
    "\n",
    "\n",
    "  -- TEMPERATURE\n",
    "  223762, -- \"Temperature Celsius\"\n",
    "  676,\t-- \"Temperature C\"\n",
    "  223761, -- \"Temperature Fahrenheit\"\n",
    "  678 --\t\"Temperature F\"\n",
    "\n",
    "  )\n",
    ")\n",
    "select\n",
    "    ce.hadm_id\n",
    "  , ce.charttime\n",
    "  , avg(HeartRate) as HeartRate\n",
    "  , avg(SysBP) as SysBP\n",
    "  , avg(RespRate) as RespRate\n",
    "  , avg(TempC) as TempC\n",
    "  , avg(SpO2) as SpO2\n",
    "from ce\n",
    "group by ce.hadm_id, ce.charttime\n",
    "order by ce.hadm_id, ce.charttime;\"\"\"\n",
    "\n",
    "df_vitals = pd.read_sql_query(query_vitals, con)\n",
    "\n",
    "print(df_vitals.head(5))"
   ]
  },
  {
   "cell_type": "code",
   "execution_count": null,
   "metadata": {
    "scrolled": false
   },
   "outputs": [],
   "source": [
    "df_vitals.info()"
   ]
  },
  {
   "cell_type": "markdown",
   "metadata": {},
   "source": [
    "### Calculating min., median, and max. of all vital signs for each hospital stay"
   ]
  },
  {
   "cell_type": "code",
   "execution_count": null,
   "metadata": {
    "scrolled": true
   },
   "outputs": [],
   "source": [
    "pd.isnull(df_vitals).any()"
   ]
  },
  {
   "cell_type": "markdown",
   "metadata": {},
   "source": [
    "No rows where hadm_id is null, so no need to drop rows at this point."
   ]
  },
  {
   "cell_type": "code",
   "execution_count": null,
   "metadata": {
    "scrolled": true
   },
   "outputs": [],
   "source": [
    "# Aggregating and calculating statistics for each hospital stay\n",
    "\n",
    "vitals_stats = df_vitals.groupby('hadm_id')['heartrate', 'sysbp', 'resprate', 'tempc', 'spo2'].agg(['min', 'median', 'max'])\n",
    "vitals_stats.head()"
   ]
  },
  {
   "cell_type": "code",
   "execution_count": null,
   "metadata": {
    "scrolled": false
   },
   "outputs": [],
   "source": [
    "# Resetting index to make hadm_id a column again for merging consistency\n",
    "\n",
    "vitals_statsdf = vitals_stats.reset_index()\n",
    "vitals_statsdf.head()"
   ]
  },
  {
   "cell_type": "code",
   "execution_count": null,
   "metadata": {
    "scrolled": true
   },
   "outputs": [],
   "source": [
    "# Flattening columns to single layer\n",
    "\n",
    "vitals_statsdf.columns = ['_'.join(col).rstrip('_') for col in vitals_statsdf.columns.values]"
   ]
  },
  {
   "cell_type": "code",
   "execution_count": null,
   "metadata": {
    "scrolled": false
   },
   "outputs": [],
   "source": [
    "vitals_statsdf.head()"
   ]
  },
  {
   "cell_type": "code",
   "execution_count": null,
   "metadata": {
    "scrolled": true
   },
   "outputs": [],
   "source": []
  },
  {
   "cell_type": "markdown",
   "metadata": {},
   "source": [
    "### Lab data"
   ]
  },
  {
   "cell_type": "code",
   "execution_count": null,
   "metadata": {
    "scrolled": true
   },
   "outputs": [],
   "source": [
    "%%time\n",
    "# Pulling in lab data\n",
    "# Code adapted from https://github.com/MIT-LCP/mimic-code/blob/master/concepts/pivot/pivoted-lab.sql, added RDW values\n",
    "\n",
    "query_lab = \"\"\"\n",
    "SELECT\n",
    "    pvt.hadm_id, pvt.charttime\n",
    "  , avg(CASE WHEN label = 'BILIRUBIN' THEN valuenum ELSE null END) as BILIRUBIN\n",
    "  , avg(CASE WHEN label = 'CREATININE' THEN valuenum ELSE null END) as CREATININE\n",
    "  , avg(CASE WHEN label = 'HEMATOCRIT' THEN valuenum ELSE null END) as HEMATOCRIT\n",
    "  , avg(CASE WHEN label = 'HEMOGLOBIN' THEN valuenum ELSE null END) as HEMOGLOBIN\n",
    "  , avg(CASE WHEN label = 'LACTATE' THEN valuenum ELSE null END) as LACTATE\n",
    "  , avg(CASE WHEN label = 'PLATELET' THEN valuenum ELSE null END) as PLATELET\n",
    "  , avg(CASE WHEN label = 'PTT' THEN valuenum ELSE null END) as PTT\n",
    "  , avg(CASE WHEN label = 'INR' THEN valuenum ELSE null END) as INR\n",
    "  , avg(CASE WHEN label = 'WBC' THEN valuenum ELSE null end) as WBC\n",
    "  , avg(CASE WHEN label = 'RDW' THEN valuenum ELSE null end) as RDW\n",
    "FROM\n",
    "( -- begin query that extracts the data\n",
    "  SELECT le.hadm_id, le.charttime\n",
    "  -- here we assign labels to ITEMIDs\n",
    "  -- this also fuses together multiple ITEMIDs containing the same data\n",
    "  , CASE\n",
    "        WHEN itemid = 50885 THEN 'BILIRUBIN'\n",
    "        WHEN itemid = 50912 THEN 'CREATININE'\n",
    "        WHEN itemid = 50810 THEN 'HEMATOCRIT'\n",
    "        WHEN itemid = 51221 THEN 'HEMATOCRIT'\n",
    "        WHEN itemid = 50811 THEN 'HEMOGLOBIN'\n",
    "        WHEN itemid = 51222 THEN 'HEMOGLOBIN'\n",
    "        WHEN itemid = 50813 THEN 'LACTATE'\n",
    "        WHEN itemid = 51265 THEN 'PLATELET'\n",
    "        WHEN itemid = 51275 THEN 'PTT'\n",
    "        WHEN itemid = 51237 THEN 'INR'\n",
    "        WHEN itemid = 51300 THEN 'WBC'\n",
    "        WHEN itemid = 51301 THEN 'WBC'\n",
    "        WHEN itemid = 51277 THEN 'RDW'\n",
    "      ELSE null\n",
    "    END AS label\n",
    "  , -- add in some sanity checks on the values\n",
    "  -- the where clause below requires all valuenum to be > 0, so these are only upper limit checks\n",
    "    CASE\n",
    "      WHEN itemid = 50885 and valuenum >   150 THEN null -- mg/dL 'BILIRUBIN'\n",
    "      WHEN itemid = 50912 and valuenum >   150 THEN null -- mg/dL 'CREATININE'\n",
    "      WHEN itemid = 50810 and valuenum >   100 THEN null -- % 'HEMATOCRIT'\n",
    "      WHEN itemid = 51221 and valuenum >   100 THEN null -- % 'HEMATOCRIT'\n",
    "      WHEN itemid = 50811 and valuenum >    50 THEN null -- g/dL 'HEMOGLOBIN'\n",
    "      WHEN itemid = 51222 and valuenum >    50 THEN null -- g/dL 'HEMOGLOBIN'\n",
    "      WHEN itemid = 50813 and valuenum >    50 THEN null -- mmol/L 'LACTATE'\n",
    "      WHEN itemid = 51265 and valuenum > 10000 THEN null -- K/uL 'PLATELET'\n",
    "      WHEN itemid = 51275 and valuenum >   150 THEN null -- sec 'PTT'\n",
    "      WHEN itemid = 51237 and valuenum >    50 THEN null -- 'INR'\n",
    "      WHEN itemid = 51300 and valuenum >  1000 THEN null -- K/uL 'WBC'\n",
    "      WHEN itemid = 51301 and valuenum >  1000 THEN null -- K/uL 'WBC'\n",
    "      WHEN itemid = 51277 and valuenum >   100 THEN null -- % 'RDW'\n",
    "    ELSE le.valuenum\n",
    "    END AS valuenum\n",
    "  FROM labevents le\n",
    "  WHERE le.ITEMID in\n",
    "  (\n",
    "    -- comment is: LABEL | CATEGORY | FLUID | NUMBER OF ROWS IN LABEVENTS\n",
    "    50885, -- BILIRUBIN, TOTAL | CHEMISTRY | BLOOD | 238277\n",
    "    50912, -- CREATININE | CHEMISTRY | BLOOD | 797476\n",
    "    51221, -- HEMATOCRIT | HEMATOLOGY | BLOOD | 881846\n",
    "    50810, -- HEMATOCRIT, CALCULATED | BLOOD GAS | BLOOD | 89715\n",
    "    51222, -- HEMOGLOBIN | HEMATOLOGY | BLOOD | 752523\n",
    "    50811, -- HEMOGLOBIN | BLOOD GAS | BLOOD | 89712\n",
    "    50813, -- LACTATE | BLOOD GAS | BLOOD | 187124\n",
    "    51265, -- PLATELET COUNT | HEMATOLOGY | BLOOD | 778444\n",
    "    51275, -- PTT | HEMATOLOGY | BLOOD | 474937\n",
    "    51237, -- INR(PT) | HEMATOLOGY | BLOOD | 471183\n",
    "    51301, -- WHITE BLOOD CELLS | HEMATOLOGY | BLOOD | 753301\n",
    "    51300, -- WBC COUNT | HEMATOLOGY | BLOOD | 2371\n",
    "    51277  -- RDW | HEMATOLOGY | BLOOD | 746817\n",
    "  )\n",
    "  AND valuenum IS NOT NULL AND valuenum > 0 -- lab values cannot be 0 and cannot be negative\n",
    ") pvt\n",
    "GROUP BY pvt.hadm_id, pvt.charttime\n",
    "ORDER BY pvt.hadm_id, pvt.charttime;\"\"\"\n",
    "\n",
    "df_lab = pd.read_sql_query(query_lab, con)\n",
    "\n",
    "print(df_lab.head(5))"
   ]
  },
  {
   "cell_type": "code",
   "execution_count": null,
   "metadata": {
    "scrolled": false
   },
   "outputs": [],
   "source": [
    "df_lab.info()"
   ]
  },
  {
   "cell_type": "code",
   "execution_count": null,
   "metadata": {
    "scrolled": true
   },
   "outputs": [],
   "source": [
    "# Dropping rows where hadm_id is null\n",
    "\n",
    "df2_lab = df_lab.dropna(axis=0, how='any', subset=['hadm_id'])\n",
    "df2_lab.info()"
   ]
  },
  {
   "cell_type": "markdown",
   "metadata": {},
   "source": [
    "### Calculating min., median, and max. of all vital signs for each hospital stay"
   ]
  },
  {
   "cell_type": "code",
   "execution_count": null,
   "metadata": {
    "scrolled": true
   },
   "outputs": [],
   "source": [
    "# Aggregating and calculating statistics for each hospital stay\n",
    "\n",
    "lab_stats = df2_lab.groupby('hadm_id')['bilirubin', 'creatinine', 'hematocrit', 'hemoglobin', 'lactate', 'platelet',\n",
    "                                      'ptt', 'inr', 'wbc', 'rdw'].agg(['min', 'median', 'max'])\n",
    "lab_stats.head()"
   ]
  },
  {
   "cell_type": "code",
   "execution_count": null,
   "metadata": {
    "scrolled": true
   },
   "outputs": [],
   "source": [
    "# Resetting index to make hadm_id a column again for merging consistency\n",
    "\n",
    "lab_statsdf = lab_stats.reset_index()\n",
    "lab_statsdf.head()"
   ]
  },
  {
   "cell_type": "code",
   "execution_count": null,
   "metadata": {
    "scrolled": true
   },
   "outputs": [],
   "source": [
    "# Flattening columns to single layer\n",
    "\n",
    "lab_statsdf.columns = ['_'.join(col).rstrip('_') for col in lab_statsdf.columns.values]\n",
    "lab_statsdf.head()"
   ]
  },
  {
   "cell_type": "code",
   "execution_count": null,
   "metadata": {
    "scrolled": true
   },
   "outputs": [],
   "source": []
  },
  {
   "cell_type": "code",
   "execution_count": null,
   "metadata": {
    "scrolled": true
   },
   "outputs": [],
   "source": []
  },
  {
   "cell_type": "markdown",
   "metadata": {},
   "source": [
    "### What is the average number of each type of measurement per stay?"
   ]
  },
  {
   "cell_type": "code",
   "execution_count": null,
   "metadata": {
    "scrolled": false
   },
   "outputs": [],
   "source": [
    "def labStats(feature):\n",
    "    df_labStat = df2_lab[['hadm_id', feature]]\n",
    "    labStat_sorted = df_labStat.set_index('hadm_id').sort_index()\n",
    "    labStat_grouped = labStat_sorted.groupby(labStat_sorted.index).count()\n",
    "    print('Ave. number of', feature, 'measurements per hospital stay:', labStat_grouped.mean()[0])\n",
    "    print('Std. dev of', feature, 'measurements per hospital stay:', labStat_grouped.std()[0])\n",
    "    print('Min. number of', feature, 'measurements per hospital stay:', labStat_grouped.min()[0])\n",
    "    print('Max. number of', feature, 'measurements per hospital stay:', labStat_grouped.max()[0])\n",
    "    return labStat_grouped.head()\n",
    "\n",
    "for i in df_lab.columns[2:]:\n",
    "    print(labStats(i))"
   ]
  },
  {
   "cell_type": "markdown",
   "metadata": {},
   "source": [
    "Looks like there is large variation in terms of number of each measurement per hospital stay."
   ]
  },
  {
   "cell_type": "markdown",
   "metadata": {},
   "source": [
    "## Distributions for lab features"
   ]
  },
  {
   "cell_type": "code",
   "execution_count": null,
   "metadata": {
    "scrolled": false
   },
   "outputs": [],
   "source": [
    "def labDistr(feature):\n",
    "    feature_data = df_lab[feature].dropna()\n",
    "    plt.figure()\n",
    "    plt.show()\n",
    "    return sns.distplot(feature_data)\n",
    "\n",
    "for i in df_lab.columns[2:]:\n",
    "    print(labDistr(i))"
   ]
  },
  {
   "cell_type": "markdown",
   "metadata": {},
   "source": [
    "## Pulling in prescription data"
   ]
  },
  {
   "cell_type": "code",
   "execution_count": null,
   "metadata": {
    "scrolled": true
   },
   "outputs": [],
   "source": [
    "%%time\n",
    "# Creating one dataframe per drug (we can consolidate after feature selection?)\n",
    "\n",
    "def query_prescrip(drug_desc):\n",
    "    general_query = \"\"\" \n",
    "        SELECT p.subject_id, p.hadm_id, p.startdate, p.enddate,\n",
    "        p.drug, p.drug_name_poe, p.drug_name_generic, a.admittime, a.dischtime\n",
    "        FROM prescriptions p\n",
    "        INNER JOIN admissions a\n",
    "        ON p.hadm_id = a.hadm_id\n",
    "        WHERE startdate < dischtime\n",
    "        AND \"\"\"\n",
    "    drug_specific = drug_desc\n",
    "    whole_query = general_query + drug_specific\n",
    "    return pd.read_sql_query(whole_query, con)\n",
    "\n",
    "# Vancomycin and neo-synephrine require special queries\n",
    "df_vanco = query_prescrip(\"\"\"(lower(drug) LIKE '%vancomycin%' \n",
    "OR lower(drug) LIKE '%vancocin%' \n",
    "OR lower(drug_name_poe) LIKE '%vancomycin%'\n",
    "OR lower(drug_name_generic) LIKE '%vancomycin%');\"\"\")\n",
    "\n",
    "df_neosyn = query_prescrip(\"\"\"(lower(drug) LIKE 'neo%ephrine%'\n",
    "      OR lower(drug) LIKE 'phenylephrine%');\"\"\")\n",
    "\n",
    "# Other drugs use same query format\n",
    "def gen_drug_desc(drug):\n",
    "    gen_drug_query = \"(lower(drug) LIKE '%\" + drug + \"%' OR lower(drug_name_poe) LIKE '%\"\\\n",
    "                        + drug + \"%' OR lower(drug_name_generic) LIKE '%\" + drug + \"%');\"\n",
    "    return gen_drug_query\n",
    "\n",
    "df_neostig = query_prescrip(gen_drug_desc('neostigmine'))\n",
    "df_glycopyr = query_prescrip(gen_drug_desc('glycopyrrolate'))\n",
    "df_ceftriax = query_prescrip(gen_drug_desc('ceftriaxone'))\n",
    "df_atropsulf = query_prescrip(gen_drug_desc('atropine sulfate'))\n",
    "df_chlorhex = query_prescrip(gen_drug_desc('chlorhexidine'))\n",
    "df_nitroglyc = query_prescrip(gen_drug_desc('nitroglycerin'))\n",
    "df_nitropruss = query_prescrip(gen_drug_desc('nitroprusside'))\n",
    "df_lansopraz = query_prescrip(gen_drug_desc('lansoprazole'))\n",
    "    \n",
    "\n",
    "#df_vanco = query_prescrip(vanco_desc)\n",
    "#query_prescrip(neosyn_desc)\n"
   ]
  },
  {
   "cell_type": "code",
   "execution_count": null,
   "metadata": {
    "scrolled": true
   },
   "outputs": [],
   "source": [
    "# How many rows in each dataframe?\n",
    "\n",
    "print('vancomycin:', df_vanco.shape[0], 'rows')\n",
    "print('neosynephrine:', df_neosyn.shape[0], 'rows')\n",
    "print('neostigmine:', df_neostig.shape[0], 'rows')\n",
    "print('glycopyrrolate:', df_glycopyr.shape[0], 'rows')\n",
    "print('ceftriaxone:', df_ceftriax.shape[0], 'rows')\n",
    "print('atropine sulfate:', df_atropsulf.shape[0], 'rows')\n",
    "print('chlorhexidine:', df_chlorhex.shape[0], 'rows')\n",
    "print('nitroglycerin:', df_nitroglyc.shape[0], 'rows')\n",
    "print('nitroprusside:', df_nitropruss.shape[0], 'rows')\n",
    "print('lansoprazole:', df_lansopraz.shape[0], 'rows')"
   ]
  },
  {
   "cell_type": "code",
   "execution_count": null,
   "metadata": {
    "scrolled": false
   },
   "outputs": [],
   "source": [
    "df_vanco.head()"
   ]
  },
  {
   "cell_type": "code",
   "execution_count": null,
   "metadata": {
    "scrolled": true
   },
   "outputs": [],
   "source": [
    "# Converting prescription feature to binary\n",
    "\n",
    "drug_list = ['vancomycin', 'neosynephrine', 'neostigmine', 'glycopyrrolate', 'ceftriaxone', \n",
    "'atropine sulfate', 'chlorhexidine', 'nitroglycerin', 'nitroprusside', 'lansoprazole']\n",
    "df_druglist = [df_vanco, df_neosyn, df_neostig, df_glycopyr, df_ceftriax, df_atropsulf, df_chlorhex,  df_nitroglyc,\n",
    "              df_nitropruss, df_lansopraz]\n",
    "\n",
    "# Create new copy of df2 with one column per prescription feature, values True/False \n",
    "df2_prescrip = df2.copy()\n",
    "for i in range(len(drug_list)):\n",
    "    df2_prescrip[drug_list[i]] = df2_prescrip['hadm_id'].isin(df_druglist[i]['hadm_id'])\n",
    "df2_prescrip.head()"
   ]
  },
  {
   "cell_type": "markdown",
   "metadata": {},
   "source": [
    "## Pulling in procedure data"
   ]
  },
  {
   "cell_type": "code",
   "execution_count": null,
   "metadata": {
    "scrolled": true
   },
   "outputs": [],
   "source": [
    "%%time\n",
    "# Creating one dataframe per procedure (we can consolidate after feature selection?)\n",
    "\n",
    "def query_proc(proc_desc):\n",
    "    general_query = \"\"\" \n",
    "        SELECT pr.subject_id, pr.hadm_id, d.icd9_code, d.short_title, d.long_title\n",
    "        FROM procedures_icd pr\n",
    "        INNER JOIN d_icd_procedures d\n",
    "        ON pr.icd9_code = d.icd9_code\n",
    "        WHERE \"\"\"\n",
    "    proc_specific = proc_desc\n",
    "    whole_query = general_query + proc_specific\n",
    "    return pd.read_sql_query(whole_query, con)\n",
    "\n",
    "df_parentinf = query_proc(\"short_title = 'Parent infus nutrit sub';\")\n",
    "df_serumtransf = query_proc(\"short_title = 'Serum transfusion NEC';\")\n",
    "df_skinsut = query_proc(\"short_title = 'Skin closure NEC';\")\n",
    "df_vasopress = query_proc(\"short_title = 'Infusion of vasopressor';\")\n",
    "df_mammCAB = query_proc(\"short_title = '1 int mam-cor art bypass';\")\n",
    "df_aortoCBT = query_proc(\"short_title = 'Aortocor bypas-2 cor art' OR short_title = 'Aortocor bypas-3 cor art';\")\n",
    "df_platetransf = query_proc(\"short_title = 'Platelet transfusion';\")\n",
    "df_intercath = query_proc(\"short_title = 'Insert intercostal cath';\")"
   ]
  },
  {
   "cell_type": "code",
   "execution_count": null,
   "metadata": {
    "scrolled": true
   },
   "outputs": [],
   "source": [
    "# How many rows in each dataframe?\n",
    "\n",
    "print('parenteral infusion:', df_parentinf.shape[0], 'rows')\n",
    "print('serum transfusion:', df_serumtransf.shape[0], 'rows')\n",
    "print('skin suture:', df_skinsut.shape[0], 'rows')\n",
    "print('infusion of vasopressor:', df_vasopress.shape[0], 'rows')\n",
    "print('single internal mammary-coronary artery bypass:', df_mammCAB.shape[0], 'rows')\n",
    "print('aortocoronary bypass T:', df_aortoCBT.shape[0], 'rows')\n",
    "print('platelet transfusion:', df_platetransf.shape[0], 'rows')\n",
    "print('insertion of intercostal catheter:', df_intercath.shape[0], 'rows')\n"
   ]
  },
  {
   "cell_type": "code",
   "execution_count": null,
   "metadata": {
    "scrolled": true
   },
   "outputs": [],
   "source": [
    "df_parentinf.head()"
   ]
  },
  {
   "cell_type": "code",
   "execution_count": null,
   "metadata": {
    "scrolled": true
   },
   "outputs": [],
   "source": [
    "143045 in df_aortoCBT['hadm_id'].unique()"
   ]
  },
  {
   "cell_type": "code",
   "execution_count": null,
   "metadata": {
    "scrolled": true
   },
   "outputs": [],
   "source": [
    "# Converting procedure feature to binary\n",
    "\n",
    "proc_list = ['parent_inf', 'serum_transf', 'skin_sut', 'inf_vasopress',\n",
    "            'single_int_mammCAB', 'aorto_CBT', 'platelet_transf', 'ins_inter_cath']\n",
    "df_proclist = [df_parentinf, df_serumtransf, df_skinsut, df_vasopress, df_mammCAB, df_aortoCBT, df_platetransf, df_intercath]\n",
    "\n",
    "# Create new copy of df2 with one column per procedure feature, values True/False \n",
    "df2_proc = df2.copy()\n",
    "for i in range(len(proc_list)):\n",
    "    df2_proc[proc_list[i]] = df2_proc['hadm_id'].isin(df_proclist[i]['hadm_id'])\n",
    "df2_proc.head()"
   ]
  },
  {
   "cell_type": "markdown",
   "metadata": {},
   "source": [
    "## Pulling in diagnosis category (\"department\") data"
   ]
  },
  {
   "cell_type": "code",
   "execution_count": null,
   "metadata": {
    "scrolled": true
   },
   "outputs": [],
   "source": []
  },
  {
   "cell_type": "code",
   "execution_count": null,
   "metadata": {
    "scrolled": true
   },
   "outputs": [],
   "source": []
  },
  {
   "cell_type": "code",
   "execution_count": null,
   "metadata": {
    "scrolled": true
   },
   "outputs": [],
   "source": [
    "q_merge = \"\"\"SELECT d.SUBJECT_ID, d.HADM_ID, d.ICD9_CODE, lookup.SHORT_TITLE, lookup.LONG_TITLE \n",
    "                from DIAGNOSES_ICD d\n",
    "                left join d_icd_diagnoses lookup \n",
    "                on d.ICD9_CODE = lookup.ICD9_CODE;\"\"\"\n",
    "\n",
    "df_department = pd.read_sql_query(q_merge, con)"
   ]
  },
  {
   "cell_type": "code",
   "execution_count": null,
   "metadata": {
    "scrolled": true
   },
   "outputs": [],
   "source": [
    "len(df_department)"
   ]
  },
  {
   "cell_type": "code",
   "execution_count": null,
   "metadata": {
    "scrolled": true
   },
   "outputs": [],
   "source": [
    "df_department.head()"
   ]
  },
  {
   "cell_type": "code",
   "execution_count": null,
   "metadata": {
    "scrolled": true
   },
   "outputs": [],
   "source": [
    "df_department['icd9_code'].value_counts()"
   ]
  },
  {
   "cell_type": "code",
   "execution_count": null,
   "metadata": {
    "scrolled": true
   },
   "outputs": [],
   "source": [
    "# Reading the ICD 9 Codes. First three digit are important. Last two if available are supplementary\n",
    "df_department['ICD_PC'] = df_department['icd9_code'].astype(str).str[:3]"
   ]
  },
  {
   "cell_type": "code",
   "execution_count": null,
   "metadata": {
    "scrolled": true
   },
   "outputs": [],
   "source": [
    "df_department.head()"
   ]
  },
  {
   "cell_type": "code",
   "execution_count": null,
   "metadata": {
    "scrolled": true
   },
   "outputs": [],
   "source": [
    "#converting to numeric\n",
    "df_department['int_icd9']=pd.to_numeric(df_department.ICD_PC, errors='coerce')"
   ]
  },
  {
   "cell_type": "code",
   "execution_count": null,
   "metadata": {
    "scrolled": true
   },
   "outputs": [],
   "source": [
    "df_department.head()"
   ]
  },
  {
   "cell_type": "code",
   "execution_count": null,
   "metadata": {
    "scrolled": true
   },
   "outputs": [],
   "source": [
    "conditions = [\n",
    "    (df_department['int_icd9'] > 0) & (df_department['int_icd9'] <= 139),\n",
    "    (df_department['int_icd9'] >= 140) & (df_department['int_icd9'] <= 239),\n",
    "    (df_department['int_icd9'] >= 240) & (df_department['int_icd9'] <= 279),\n",
    "    (df_department['int_icd9'] >= 280) & (df_department['int_icd9'] <= 289),\n",
    "    (df_department['int_icd9'] >= 290) & (df_department['int_icd9'] <= 319),\n",
    "    (df_department['int_icd9'] >= 320) & (df_department['int_icd9'] <= 389),\n",
    "    (df_department['int_icd9'] >= 390) & (df_department['int_icd9'] <= 459),\n",
    "    (df_department['int_icd9'] >= 460) & (df_department['int_icd9'] <= 519),\n",
    "    (df_department['int_icd9'] >= 520) & (df_department['int_icd9'] <= 579),\n",
    "    (df_department['int_icd9'] >= 580) & (df_department['int_icd9'] <= 629),\n",
    "    (df_department['int_icd9'] >= 630) & (df_department['int_icd9'] <= 679),\n",
    "    (df_department['int_icd9'] >= 680) & (df_department['int_icd9'] <= 709),\n",
    "    (df_department['int_icd9'] >= 710) & (df_department['int_icd9'] <= 739),\n",
    "    (df_department['int_icd9'] >= 740) & (df_department['int_icd9'] <= 759),\n",
    "    (df_department['int_icd9'] >= 760) & (df_department['int_icd9'] <= 779),\n",
    "    (df_department['int_icd9'] >= 780) & (df_department['int_icd9'] <= 799),\n",
    "    (df_department['int_icd9'] >= 800) & (df_department['int_icd9'] <= 999),\n",
    "    (df_department.icd9_code.str.startswith('E', na=False)) | (df_department.icd9_code.str.startswith('V', na=False)),\n",
    "    \n",
    "]\n",
    "choices = ['infectious and parasitic diseases', 'neoplasms',\\\n",
    "           'endocrine, nutritional and metabolic diseases, and immunity disorders',\\\n",
    "           'diseases of the blood and blood-forming organs','mental disorders',\\\n",
    "           'diseases of the nervous system and sense organs','diseases of the circulatory system',\\\n",
    "           'diseases of the respiratory system','diseases of the digestive system',\\\n",
    "           'diseases of the genitourinary system','complications of pregnancy, childbirth, and the puerperium',\\\n",
    "           'diseases of the skin and subcutaneous tissue','diseases of the musculoskeletal system and connective tissue',\\\n",
    "          'congenital anomalies','certain conditions originating in the perinatal period','symptoms, signs, and ill-defined conditions',\\\n",
    "          'injury and poisoning','external causes of injury and supplemental classification']\n",
    "df_department['Department'] = np.select(conditions, choices, default='null')\n",
    "#print(df_merge)"
   ]
  },
  {
   "cell_type": "code",
   "execution_count": null,
   "metadata": {
    "scrolled": true
   },
   "outputs": [],
   "source": [
    "df_department.head(15)"
   ]
  },
  {
   "cell_type": "code",
   "execution_count": null,
   "metadata": {
    "scrolled": true
   },
   "outputs": [],
   "source": [
    "#df_merge = df_merge.drop(['ICD_PC'],axis=1)"
   ]
  },
  {
   "cell_type": "code",
   "execution_count": null,
   "metadata": {
    "scrolled": true
   },
   "outputs": [],
   "source": [
    "df_department.Department.value_counts()"
   ]
  },
  {
   "cell_type": "code",
   "execution_count": null,
   "metadata": {
    "scrolled": true
   },
   "outputs": [],
   "source": [
    "df_department2 = df_department[df_department['Department']!='null']"
   ]
  },
  {
   "cell_type": "code",
   "execution_count": null,
   "metadata": {
    "scrolled": true
   },
   "outputs": [],
   "source": [
    "#ICD codes are null\n",
    "df_department2.head()"
   ]
  },
  {
   "cell_type": "code",
   "execution_count": null,
   "metadata": {
    "scrolled": true
   },
   "outputs": [],
   "source": [
    "df_department_freq = df_department2.groupby('hadm_id')['Department'].nunique()"
   ]
  },
  {
   "cell_type": "code",
   "execution_count": null,
   "metadata": {
    "scrolled": true
   },
   "outputs": [],
   "source": [
    "df_department_freq = df_department_freq.reset_index();"
   ]
  },
  {
   "cell_type": "code",
   "execution_count": null,
   "metadata": {
    "scrolled": true
   },
   "outputs": [],
   "source": [
    "df_department_freq = df_department_freq.rename(index=str, columns = {\"Department\": \"No_of_Depart\"});"
   ]
  },
  {
   "cell_type": "code",
   "execution_count": null,
   "metadata": {
    "scrolled": true
   },
   "outputs": [],
   "source": [
    "df_department3 = pd.merge(df_department2,df_department_freq, on = 'hadm_id', how = 'inner')"
   ]
  },
  {
   "cell_type": "code",
   "execution_count": null,
   "metadata": {
    "scrolled": true
   },
   "outputs": [],
   "source": [
    "len(df_department3)"
   ]
  },
  {
   "cell_type": "code",
   "execution_count": null,
   "metadata": {
    "scrolled": true
   },
   "outputs": [],
   "source": [
    "# Four most frequent diagnoses per hospital stay\n",
    "df_top1_depart = df_department3.groupby(['hadm_id'])['Department'].agg(lambda x:x.value_counts().index[0])"
   ]
  },
  {
   "cell_type": "code",
   "execution_count": null,
   "metadata": {
    "scrolled": true
   },
   "outputs": [],
   "source": [
    "df_top1_depart = df_top1_depart.reset_index()"
   ]
  },
  {
   "cell_type": "code",
   "execution_count": null,
   "metadata": {
    "scrolled": true
   },
   "outputs": [],
   "source": [
    "df_top1_depart = df_top1_depart.rename(index=str, columns = {'Department': 'Depart1' } );"
   ]
  },
  {
   "cell_type": "code",
   "execution_count": null,
   "metadata": {
    "scrolled": true
   },
   "outputs": [],
   "source": [
    "df_department4 = df_department3[['hadm_id','No_of_Depart']].drop_duplicates()\n",
    "df_top1_merge = pd.merge(df_top1_depart[['hadm_id','Depart1']],df_department4 , on ='hadm_id', how = 'left')"
   ]
  },
  {
   "cell_type": "code",
   "execution_count": null,
   "metadata": {
    "scrolled": true
   },
   "outputs": [],
   "source": [
    "df_top1_merge.head()"
   ]
  },
  {
   "cell_type": "code",
   "execution_count": null,
   "metadata": {
    "scrolled": true
   },
   "outputs": [],
   "source": [
    "len(df_top1_merge)"
   ]
  },
  {
   "cell_type": "code",
   "execution_count": null,
   "metadata": {
    "scrolled": true
   },
   "outputs": [],
   "source": [
    "#Some of the patients have only one diagnoses.\n",
    "df_top2_depart = df_department3.groupby(['hadm_id'])['Department'].value_counts().nsmallest()\n",
    "df_top2_depart"
   ]
  },
  {
   "cell_type": "code",
   "execution_count": null,
   "metadata": {
    "scrolled": true
   },
   "outputs": [],
   "source": [
    "df_department3.Department.nunique()"
   ]
  },
  {
   "cell_type": "code",
   "execution_count": null,
   "metadata": {
    "scrolled": true
   },
   "outputs": [],
   "source": [
    "df_circ = df_department3[df_department3['Department']=='diseases of the circulatory system']\n",
    "df_geni = df_department3[df_department3['Department']=='diseases of the genitourinary system']\n",
    "df_resp = df_department3[df_department3['Department']=='diseases of the respiratory system']"
   ]
  },
  {
   "cell_type": "code",
   "execution_count": null,
   "metadata": {
    "scrolled": true
   },
   "outputs": [],
   "source": [
    "df_endo = df_department3[df_department3['Department']=='endocrine, nutritional and metabolic diseases, and immunity disorders']\n",
    "df_musko = df_department3[df_department3['Department']=='diseases of the musculoskeletal system and connective tissue']\n",
    "df_blood = df_department3[df_department3['Department']=='diseases of the blood and blood-forming organs']\n",
    "df_diges = df_department3[df_department3['Department']=='diseases of the digestive system']\n",
    "df_nerv = df_department3[df_department3['Department']=='diseases of the nervous system and sense organs']"
   ]
  },
  {
   "cell_type": "code",
   "execution_count": null,
   "metadata": {
    "scrolled": true
   },
   "outputs": [],
   "source": [
    "df_neo = df_department3[df_department3['Department']=='neoplasms']\n",
    "df_sym = df_department3[df_department3['Department']=='symptoms, signs, and ill-defined conditions']\n",
    "df_ext = df_department3[df_department3['Department']=='external causes of injury and supplemental classification']\n",
    "df_ment = df_department3[df_department3['Department']=='mental disorders']\n",
    "df_injury = df_department3[df_department3['Department']=='injury and poisoning']\n",
    "df_skin = df_department3[df_department3['Department']=='diseases of the skin and subcutaneous tissue']\n",
    "df_infect = df_department3[df_department3['Department']=='infectious and parasitic diseases']\n",
    "df_congen = df_department3[df_department3['Department']=='congenital anomalies']\n"
   ]
  },
  {
   "cell_type": "code",
   "execution_count": null,
   "metadata": {
    "scrolled": true
   },
   "outputs": [],
   "source": [
    "df_pren = df_department3[df_department3['Department']=='certain conditions originating in the perinatal period']\n",
    "df_preg = df_department3[df_department3['Department']=='complications of pregnancy, childbirth, and the puerperium']\n"
   ]
  },
  {
   "cell_type": "code",
   "execution_count": null,
   "metadata": {
    "scrolled": true
   },
   "outputs": [],
   "source": [
    "depart_list = ['diseases of the circulatory system','diseases of the genitourinary system','diseases of the respiratory system',\\\n",
    "              'endocrine, nutritional and metabolic diseases, and immunity disorders','diseases of the musculoskeletal system and connective tissue',\\\n",
    "              'diseases of the blood and blood-forming organs','diseases of the digestive system','diseases of the nervous system and sense organs',\\\n",
    "              'neoplasms','symptoms, signs, and ill-defined conditions','external causes of injury and supplemental classification',\\\n",
    "              'mental disorders','injury and poisoning','diseases of the skin and subcutaneous tissue','infectious and parasitic diseases',\\\n",
    "              'congenital anomalies']\n",
    "df_departlist = [df_circ, df_geni, df_resp, df_endo, df_musko, df_blood, df_diges, df_nerv, df_neo, df_sym, df_ext, df_ment, df_injury, df_skin, df_infect, df_congen]\n",
    "\n",
    "\n",
    "# Create new copy of df2 with one column per procedure feature, values True/False \n",
    "df_depart = df2.copy()\n",
    "for i in range(len(depart_list)):\n",
    "    \n",
    "    df_depart[depart_list[i]] = df_depart['hadm_id'].isin(df_departlist[i]['hadm_id'])\n",
    "    \n",
    "\n",
    "df_depart.head()"
   ]
  },
  {
   "cell_type": "code",
   "execution_count": null,
   "metadata": {
    "scrolled": true
   },
   "outputs": [],
   "source": [
    "df_depart.columns"
   ]
  },
  {
   "cell_type": "code",
   "execution_count": null,
   "metadata": {
    "scrolled": true
   },
   "outputs": [],
   "source": [
    "df_depart_final = pd.merge(df_depart,df_top1_merge , on ='hadm_id', how = 'left')"
   ]
  },
  {
   "cell_type": "code",
   "execution_count": null,
   "metadata": {
    "scrolled": true
   },
   "outputs": [],
   "source": [
    "df_depart_final.head()"
   ]
  },
  {
   "cell_type": "code",
   "execution_count": null,
   "metadata": {
    "scrolled": true
   },
   "outputs": [],
   "source": [
    "df_depart_final.columns"
   ]
  },
  {
   "cell_type": "code",
   "execution_count": null,
   "metadata": {
    "scrolled": true
   },
   "outputs": [],
   "source": []
  },
  {
   "cell_type": "code",
   "execution_count": null,
   "metadata": {
    "scrolled": true
   },
   "outputs": [],
   "source": []
  },
  {
   "cell_type": "code",
   "execution_count": null,
   "metadata": {
    "scrolled": true
   },
   "outputs": [],
   "source": []
  },
  {
   "cell_type": "markdown",
   "metadata": {},
   "source": [
    "## Merging dataframes"
   ]
  },
  {
   "cell_type": "code",
   "execution_count": null,
   "metadata": {
    "scrolled": true
   },
   "outputs": [],
   "source": [
    "#Merging Admission, Vitals, Lab and Diagnoses(Department) Dataframes"
   ]
  },
  {
   "cell_type": "code",
   "execution_count": null,
   "metadata": {
    "scrolled": true
   },
   "outputs": [],
   "source": [
    "merge_df1 = pd.merge(df2_follow, lab_statsdf, on ='hadm_id', how ='inner')"
   ]
  },
  {
   "cell_type": "code",
   "execution_count": null,
   "metadata": {
    "scrolled": true
   },
   "outputs": [],
   "source": [
    "len(merge_df1)"
   ]
  },
  {
   "cell_type": "code",
   "execution_count": null,
   "metadata": {
    "scrolled": true
   },
   "outputs": [],
   "source": [
    "merge_df2 = pd.merge(merge_df1, vitals_statsdf, on = 'hadm_id', how = 'inner')"
   ]
  },
  {
   "cell_type": "code",
   "execution_count": null,
   "metadata": {
    "scrolled": true
   },
   "outputs": [],
   "source": [
    "len(merge_df2)"
   ]
  },
  {
   "cell_type": "code",
   "execution_count": null,
   "metadata": {
    "scrolled": true
   },
   "outputs": [],
   "source": [
    "merge_df3 = pd.merge(merge_df2, df_depart_final[['hadm_id','diseases of the circulatory system',\n",
    "       'diseases of the genitourinary system',\n",
    "       'diseases of the respiratory system',\n",
    "       'endocrine, nutritional and metabolic diseases, and immunity disorders',\n",
    "       'diseases of the musculoskeletal system and connective tissue',\n",
    "       'diseases of the blood and blood-forming organs',\n",
    "       'diseases of the digestive system',\n",
    "       'diseases of the nervous system and sense organs', 'neoplasms',\n",
    "       'symptoms, signs, and ill-defined conditions',\n",
    "       'external causes of injury and supplemental classification',\n",
    "       'mental disorders', 'injury and poisoning',\n",
    "       'diseases of the skin and subcutaneous tissue',\n",
    "       'infectious and parasitic diseases', 'congenital anomalies', 'Depart1',\n",
    "       'No_of_Depart']], on='hadm_id', how = 'left')"
   ]
  },
  {
   "cell_type": "code",
   "execution_count": null,
   "metadata": {
    "scrolled": true
   },
   "outputs": [],
   "source": [
    "merge_df3.head()"
   ]
  },
  {
   "cell_type": "code",
   "execution_count": null,
   "metadata": {
    "scrolled": true
   },
   "outputs": [],
   "source": [
    "merge_df3.dtypes;"
   ]
  },
  {
   "cell_type": "code",
   "execution_count": null,
   "metadata": {
    "scrolled": true
   },
   "outputs": [],
   "source": [
    "len(merge_df3)"
   ]
  },
  {
   "cell_type": "code",
   "execution_count": null,
   "metadata": {
    "scrolled": true
   },
   "outputs": [],
   "source": [
    "#Merging prescription and procedures data\n",
    "merge_df4 = pd.merge(df2_proc,df2_prescrip[['hadm_id','vancomycin', 'neosynephrine',\n",
    "       'neostigmine', 'glycopyrrolate', 'ceftriaxone', 'atropine sulfate',\n",
    "       'chlorhexidine', 'nitroglycerin', 'nitroprusside', 'lansoprazole']], on = 'hadm_id', how='inner')"
   ]
  },
  {
   "cell_type": "code",
   "execution_count": null,
   "metadata": {
    "scrolled": true
   },
   "outputs": [],
   "source": [
    "#Merging df4 and df3 together\n",
    "merge_df5 = pd.merge(merge_df3,merge_df4[['hadm_id','parent_inf', 'serum_transf', 'skin_sut', 'inf_vasopress',\n",
    "       'single_int_mammCAB', 'aorto_CBT', 'platelet_transf', 'ins_inter_cath',\n",
    "       'vancomycin', 'neosynephrine', 'neostigmine', 'glycopyrrolate',\n",
    "       'ceftriaxone', 'atropine sulfate', 'chlorhexidine', 'nitroglycerin',\n",
    "       'nitroprusside', 'lansoprazole']], on='hadm_id', how = 'inner')"
   ]
  },
  {
   "cell_type": "code",
   "execution_count": null,
   "metadata": {
    "scrolled": true
   },
   "outputs": [],
   "source": [
    "merge_df5.head()"
   ]
  },
  {
   "cell_type": "code",
   "execution_count": null,
   "metadata": {
    "scrolled": true
   },
   "outputs": [],
   "source": [
    "print(len(merge_df5.columns))\n",
    "#print(merge_df5.columns.values)"
   ]
  },
  {
   "cell_type": "code",
   "execution_count": null,
   "metadata": {
    "scrolled": true
   },
   "outputs": [],
   "source": []
  },
  {
   "cell_type": "markdown",
   "metadata": {},
   "source": [
    "## Selecting the readmissions/nonreadmissions instances"
   ]
  },
  {
   "cell_type": "code",
   "execution_count": null,
   "metadata": {
    "scrolled": true
   },
   "outputs": [],
   "source": [
    "df_readmit = merge_df5[merge_df5['followed_by_readmit'] == True]\n",
    "num_readmit = len(df_readmit)\n",
    "print('There were', num_readmit, 'stays which were followed by early readmissions.')"
   ]
  },
  {
   "cell_type": "markdown",
   "metadata": {},
   "source": [
    "(There were 3188 such stays when we selected readmits before merging with all the other feature dataframes.)"
   ]
  },
  {
   "cell_type": "code",
   "execution_count": null,
   "metadata": {
    "scrolled": true
   },
   "outputs": [],
   "source": [
    "df_nonreadmit = merge_df5[merge_df5['followed_by_readmit'] == False]#.reset_index(drop=True)\n",
    "num_nonreadmit = len(df_nonreadmit)\n",
    "print('There were', num_nonreadmit, 'stays which were NOT followed by early readmissions.')"
   ]
  },
  {
   "cell_type": "markdown",
   "metadata": {},
   "source": [
    "(There were 47678 such stays when we selected nonreadmits before merging with all the other feature dataframes.)"
   ]
  },
  {
   "cell_type": "code",
   "execution_count": null,
   "metadata": {
    "scrolled": true
   },
   "outputs": [],
   "source": [
    "# Randomly selection (without replacement) of equal number of stays not followed by readmissions\n",
    "import random\n",
    "# Ensuring reproducibility\n",
    "random.seed(10)\n",
    "\n",
    "nonreadmit_samp = random.sample(range(num_nonreadmit), num_readmit)\n",
    "# Showing first 10\n",
    "nonreadmit_samp[:10]"
   ]
  },
  {
   "cell_type": "code",
   "execution_count": null,
   "metadata": {
    "scrolled": true
   },
   "outputs": [],
   "source": [
    "df_nonreadmit_samp = df_nonreadmit.iloc[nonreadmit_samp,:]\n",
    "df_nonreadmit_samp.head()"
   ]
  },
  {
   "cell_type": "markdown",
   "metadata": {},
   "source": [
    "# Concatenating the readmission and non-readmission-sample dataframes"
   ]
  },
  {
   "cell_type": "code",
   "execution_count": null,
   "metadata": {
    "scrolled": true
   },
   "outputs": [],
   "source": [
    "df_data = pd.concat([df_readmit, df_nonreadmit_samp]).reset_index(drop=True)\n",
    "print(len(df_data), 'rows')"
   ]
  },
  {
   "cell_type": "code",
   "execution_count": null,
   "metadata": {
    "scrolled": true
   },
   "outputs": [],
   "source": [
    "df_data.head()"
   ]
  },
  {
   "cell_type": "code",
   "execution_count": null,
   "metadata": {
    "scrolled": true
   },
   "outputs": [],
   "source": [
    "df_data.columns.values"
   ]
  },
  {
   "cell_type": "code",
   "execution_count": null,
   "metadata": {
    "scrolled": true
   },
   "outputs": [],
   "source": []
  },
  {
   "cell_type": "markdown",
   "metadata": {},
   "source": [
    "### Visualize distribution of vital signs data for readmits vs. nonreadmits"
   ]
  },
  {
   "cell_type": "code",
   "execution_count": null,
   "metadata": {
    "scrolled": true
   },
   "outputs": [],
   "source": [
    "# Selecting only vital signs and followed_by_readmit columns\n",
    "\n",
    "df_data_vitals = df_data[np.concatenate((vitals_statsdf.columns.values[1:], ['followed_by_readmit']))]"
   ]
  },
  {
   "cell_type": "code",
   "execution_count": null,
   "metadata": {
    "scrolled": true
   },
   "outputs": [],
   "source": [
    "df_data_vitals.head()"
   ]
  },
  {
   "cell_type": "code",
   "execution_count": null,
   "metadata": {
    "scrolled": true
   },
   "outputs": [],
   "source": [
    "# Creating violinplot for all vital signs\n",
    "\n",
    "vitals_colnames = df_data_vitals.iloc[:, :-1].columns.values\n",
    "df_dv_melt = df_data_vitals.melt(id_vars = 'followed_by_readmit', value_vars=vitals_colnames,\n",
    "                                 var_name='Vital Signs', value_name='Measured')\n",
    "\n",
    "with sns.plotting_context('poster'):\n",
    "    plt.figure(figsize=(10, 5))\n",
    "    sns.violinplot(x='Vital Signs', y='Measured', hue='followed_by_readmit', data=df_dv_melt, split=True)\n",
    "    plt.xticks(rotation=60)\n",
    "    plt.savefig('vitals_violin.png', bbox_inches='tight')"
   ]
  },
  {
   "cell_type": "code",
   "execution_count": null,
   "metadata": {
    "scrolled": false
   },
   "outputs": [],
   "source": [
    "# Creating individual violinplot for each vital sign\n",
    "\n",
    "vitals_name_unit = ['Heart Rate (bpm)', 'Systolic Blood Pressure (mmHg)', 'Respiratory Rate (insp/min)',\n",
    "                    'Temperature (degC)', 'Blood Oxygen Saturation (%)']\n",
    "df_hr_melt = df_data_vitals.melt(id_vars = 'followed_by_readmit', value_vars=vitals_colnames[:3],\n",
    "                                 var_name='Measure', value_name=vitals_name_unit[0])\n",
    "df_sbp_melt = df_data_vitals.melt(id_vars = 'followed_by_readmit', value_vars=vitals_colnames[3:6],\n",
    "                                 var_name='Measure', value_name=vitals_name_unit[1])\n",
    "df_rr_melt = df_data_vitals.melt(id_vars = 'followed_by_readmit', value_vars=vitals_colnames[6:9],\n",
    "                                 var_name='Measure', value_name=vitals_name_unit[2])\n",
    "df_t_melt = df_data_vitals.melt(id_vars = 'followed_by_readmit', value_vars=vitals_colnames[9:12],\n",
    "                                 var_name='Measure', value_name=vitals_name_unit[3])\n",
    "df_sat_melt = df_data_vitals.melt(id_vars = 'followed_by_readmit', value_vars=vitals_colnames[12:15],\n",
    "                                 var_name='Measure', value_name=vitals_name_unit[4])\n",
    "\n",
    "df_vitals_list = [df_hr_melt, df_sbp_melt, df_rr_melt, df_t_melt, df_sat_melt]\n",
    "with sns.plotting_context('poster'):\n",
    "    for i in range(len(df_vitals_list)):\n",
    "        plt.figure(figsize=(8,6))\n",
    "        sns.violinplot(x='Measure', y=vitals_name_unit[i], hue='followed_by_readmit', data=df_vitals_list[i], split=True)\n",
    "        plt.xticks(rotation=45)\n",
    "        if i < 3:\n",
    "            plt.legend(loc='upper left')\n",
    "        else:\n",
    "            plt.legend(loc='lower right')\n",
    "        plt.savefig('vitals' + str(i) + '_violin.png', bbox_inches='tight')"
   ]
  },
  {
   "cell_type": "code",
   "execution_count": null,
   "metadata": {
    "scrolled": true
   },
   "outputs": [],
   "source": []
  },
  {
   "cell_type": "markdown",
   "metadata": {},
   "source": [
    "### Visualize distribution of lab data for readmits vs. nonreadmits"
   ]
  },
  {
   "cell_type": "code",
   "execution_count": null,
   "metadata": {
    "scrolled": true
   },
   "outputs": [],
   "source": [
    "# Selecting only lab values and followed_by_readmit columns\n",
    "\n",
    "df_data_lab = df_data[np.concatenate((lab_statsdf.columns.values[1:], ['followed_by_readmit']))]"
   ]
  },
  {
   "cell_type": "code",
   "execution_count": null,
   "metadata": {
    "scrolled": true
   },
   "outputs": [],
   "source": [
    "df_data_lab.head()"
   ]
  },
  {
   "cell_type": "code",
   "execution_count": null,
   "metadata": {
    "scrolled": true
   },
   "outputs": [],
   "source": [
    "# Creating violinplot for all lab data\n",
    "\n",
    "lab_colnames = df_data_lab.iloc[:, :-1].columns.values\n",
    "df_lab_melt = df_data_lab.melt(id_vars = 'followed_by_readmit', value_vars=lab_colnames,\n",
    "                                 var_name='Lab Values', value_name='Measured')\n",
    "\n",
    "with sns.plotting_context('poster'):\n",
    "    plt.figure(figsize=(20, 5))\n",
    "    sns.violinplot(x='Lab Values', y='Measured', hue='followed_by_readmit', data=df_lab_melt, split=True)\n",
    "    plt.xticks(rotation=60)\n",
    "    plt.savefig('lab_violin.png', bbox_inches='tight')"
   ]
  },
  {
   "cell_type": "code",
   "execution_count": null,
   "metadata": {
    "scrolled": true
   },
   "outputs": [],
   "source": [
    "# Creating individual violinplot for each lab value\n",
    "\n",
    "lab_name_unit = ['Bilirubin (mg/dL)', 'Creatinine (mg/dL)', 'Hematocrit (%)', 'Hemoglobin (g/dL)', 'Lactate (mmol/L)',\n",
    "                 'Platelet (K/uL)', 'PTT (sec)', 'INR', 'WBC (K/uL)', 'RDW (%)']\n",
    "'''df_bili_melt = df_data_lab.melt(id_vars = 'followed_by_readmit', value_vars=lab_colnames[:3],\n",
    "                                 var_name='Measure', value_name=lab_name_unit[0])\n",
    "df_vitals_list = [df_hr_melt, df_sbp_melt, df_rr_melt, df_t_melt, df_sat_melt]\n",
    "with sns.plotting_context('poster'):\n",
    "    for i in range(len(df_vitals_list)):\n",
    "        plt.figure(figsize=(8,6))\n",
    "        sns.violinplot(x='Measure', y=vitals_name_unit[i], hue='followed_by_readmit', data=df_vitals_list[i], split=True)\n",
    "        plt.xticks(rotation=45)\n",
    "        if i < 3:\n",
    "            plt.legend(loc='upper left')\n",
    "        else:\n",
    "            plt.legend(loc='lower right')\n",
    "        plt.savefig('vitals' + str(i) + '_violin.png', bbox_inches='tight')'''"
   ]
  },
  {
   "cell_type": "code",
   "execution_count": null,
   "metadata": {
    "scrolled": true
   },
   "outputs": [],
   "source": []
  },
  {
   "cell_type": "code",
   "execution_count": null,
   "metadata": {
    "scrolled": true
   },
   "outputs": [],
   "source": [
    "#merge_df = df2.merge(df_vitals, on = \"hadm_id\", how = \"inner\")"
   ]
  },
  {
   "cell_type": "code",
   "execution_count": null,
   "metadata": {
    "scrolled": true
   },
   "outputs": [],
   "source": []
  },
  {
   "cell_type": "code",
   "execution_count": null,
   "metadata": {
    "scrolled": true
   },
   "outputs": [],
   "source": []
  },
  {
   "cell_type": "code",
   "execution_count": null,
   "metadata": {
    "scrolled": true
   },
   "outputs": [],
   "source": [
    "#merge_agg_df = merge_df.groupby('hadm_id').agg('mean')\n"
   ]
  },
  {
   "cell_type": "code",
   "execution_count": null,
   "metadata": {
    "scrolled": true
   },
   "outputs": [],
   "source": [
    "merge_agg_df.isnull"
   ]
  },
  {
   "cell_type": "code",
   "execution_count": null,
   "metadata": {
    "scrolled": true
   },
   "outputs": [],
   "source": [
    "#merge_agg_df.isnull().sum()"
   ]
  },
  {
   "cell_type": "code",
   "execution_count": null,
   "metadata": {
    "scrolled": true
   },
   "outputs": [],
   "source": [
    "#merge_agg_df.shape"
   ]
  },
  {
   "cell_type": "code",
   "execution_count": null,
   "metadata": {
    "scrolled": true
   },
   "outputs": [],
   "source": [
    "#merge_agg_df.describe()"
   ]
  },
  {
   "cell_type": "code",
   "execution_count": null,
   "metadata": {
    "scrolled": true
   },
   "outputs": [],
   "source": [
    "#merge_agg_df.isnull().sum()"
   ]
  },
  {
   "cell_type": "code",
   "execution_count": null,
   "metadata": {
    "scrolled": true
   },
   "outputs": [],
   "source": [
    "#merge_agg_df.describe()"
   ]
  },
  {
   "cell_type": "code",
   "execution_count": null,
   "metadata": {
    "scrolled": true
   },
   "outputs": [],
   "source": [
    "#(merge_agg_df.isnull().sum()/merge_agg_df.count())* 100"
   ]
  },
  {
   "cell_type": "code",
   "execution_count": null,
   "metadata": {
    "scrolled": true
   },
   "outputs": [],
   "source": [
    "corr = merge_agg_df.corr()\n",
    "sns.heatmap(corr)\n"
   ]
  },
  {
   "cell_type": "code",
   "execution_count": null,
   "metadata": {
    "scrolled": true
   },
   "outputs": [],
   "source": [
    "merge_agg_df.age_on_admiss.describe()"
   ]
  },
  {
   "cell_type": "code",
   "execution_count": null,
   "metadata": {
    "scrolled": true
   },
   "outputs": [],
   "source": [
    "q10 = 'select distinct(icd9_code) from procedures_icd'\n",
    "df10 = pd.read_sql_query(q10, con)"
   ]
  },
  {
   "cell_type": "code",
   "execution_count": null,
   "metadata": {
    "scrolled": true
   },
   "outputs": [],
   "source": [
    "df10;"
   ]
  },
  {
   "cell_type": "code",
   "execution_count": null,
   "metadata": {
    "scrolled": true
   },
   "outputs": [],
   "source": []
  }
 ],
 "metadata": {
  "kernelspec": {
   "display_name": "Python 3",
   "language": "python",
   "name": "python3"
  },
  "language_info": {
   "codemirror_mode": {
    "name": "ipython",
    "version": 3
   },
   "file_extension": ".py",
   "mimetype": "text/x-python",
   "name": "python",
   "nbconvert_exporter": "python",
   "pygments_lexer": "ipython3",
   "version": "3.6.4"
  }
 },
 "nbformat": 4,
 "nbformat_minor": 2
}
