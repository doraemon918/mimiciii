{
 "cells": [
  {
   "cell_type": "markdown",
   "metadata": {},
   "source": [
    "Output has been removed for cells showing data for individual instances due to the sensitive nature of the data."
   ]
  },
  {
   "cell_type": "code",
   "execution_count": 125,
   "metadata": {
    "scrolled": true
   },
   "outputs": [
    {
     "data": {
      "text/plain": [
       "subject_id          int64\n",
       "hadm_id             int64\n",
       "ethnicity          object\n",
       "insurance          object\n",
       "gender             object\n",
       "admittime          object\n",
       "dischtime          object\n",
       "age_on_admiss     float64\n",
       "length_of_stay      int64\n",
       "dtype: object"
      ]
     },
     "execution_count": 125,
     "metadata": {},
     "output_type": "execute_result"
    }
   ],
   "source": [
    "import pandas as pd\n",
    "import numpy as np\n",
    "import psycopg2\n",
    "import seaborn as sns\n",
    "import matplotlib\n",
    "import matplotlib.pyplot as plt\n",
    "%matplotlib inline\n",
    "\n",
    "\n",
    "sqluser = 'postgres'\n",
    "dbname = 'mimic'\n",
    "schema_name = 'mimiciii'\n",
    "\n",
    "#sqluser = 'mimicuser'\n",
    "#dbname = 'mimic'\n",
    "\n",
    "# Password keyword only necessary if user-specified password required to connect to database\n",
    "con = psycopg2.connect(dbname=dbname, user=sqluser, password='postgre')\n",
    "cur = con.cursor()\n",
    "\n",
    "query = \"SELECT\" \\\n",
    "        \" a.subject_id, a.hadm_id, a.ethnicity, a.insurance, p.gender, cast(a.admittime as date), cast(a.dischtime as date)\" \\\n",
    "        \", ROUND( (cast(a.admittime as date) - cast(p.dob as date)) / 365.242)\" \\\n",
    "        \" AS age_on_admiss\" \\\n",
    "        \", cast(a.dischtime as date) - cast(a.admittime as date)\" \\\n",
    "        \" AS length_of_stay\" \\\n",
    "        \" FROM admissions a\" \\\n",
    "        \" INNER JOIN patients p\" \\\n",
    "        \" ON p.subject_id = a.subject_id\" \\\n",
    "        \" GROUP BY\" \\\n",
    "        \" a.subject_id, a.hadm_id, a.ethnicity, a.insurance, p.gender, a.admittime, p.dob, a.dischtime\" \\\n",
    "        \" ORDER BY a.subject_id;\"\n",
    "\n",
    "cur.execute('SET search_path to ' + schema_name)\n",
    "df = pd.read_sql_query(query, con)\n",
    "\n",
    "df.dtypes"
   ]
  },
  {
   "cell_type": "code",
   "execution_count": 124,
   "metadata": {},
   "outputs": [
    {
     "name": "stdout",
     "output_type": "stream",
     "text": [
      "<class 'pandas.core.frame.DataFrame'>\n",
      "RangeIndex: 58976 entries, 0 to 58975\n",
      "Data columns (total 9 columns):\n",
      "subject_id        58976 non-null int64\n",
      "hadm_id           58976 non-null int64\n",
      "ethnicity         58976 non-null object\n",
      "insurance         58976 non-null object\n",
      "gender            58976 non-null object\n",
      "admittime         58976 non-null object\n",
      "dischtime         58976 non-null object\n",
      "age_on_admiss     58976 non-null float64\n",
      "length_of_stay    58976 non-null int64\n",
      "dtypes: float64(1), int64(3), object(5)\n",
      "memory usage: 4.0+ MB\n"
     ]
    }
   ],
   "source": [
    "df.info()"
   ]
  },
  {
   "cell_type": "markdown",
   "metadata": {},
   "source": [
    "How many rows correspond to neonates?"
   ]
  },
  {
   "cell_type": "code",
   "execution_count": 126,
   "metadata": {
    "scrolled": true
   },
   "outputs": [
    {
     "data": {
      "text/plain": [
       "8110"
      ]
     },
     "execution_count": 126,
     "metadata": {},
     "output_type": "execute_result"
    }
   ],
   "source": [
    "len(df[df['age_on_admiss'] < 1])"
   ]
  },
  {
   "cell_type": "markdown",
   "metadata": {},
   "source": [
    "How many categories of ethnicity are there?"
   ]
  },
  {
   "cell_type": "code",
   "execution_count": 127,
   "metadata": {},
   "outputs": [
    {
     "data": {
      "text/plain": [
       "array(['ASIAN', 'WHITE', 'UNKNOWN/NOT SPECIFIED',\n",
       "       'BLACK/AFRICAN AMERICAN', 'PATIENT DECLINED TO ANSWER', 'OTHER',\n",
       "       'HISPANIC OR LATINO', 'HISPANIC/LATINO - GUATEMALAN',\n",
       "       'ASIAN - CHINESE', 'HISPANIC/LATINO - PUERTO RICAN',\n",
       "       'ASIAN - ASIAN INDIAN', 'ASIAN - VIETNAMESE',\n",
       "       'MULTI RACE ETHNICITY', 'HISPANIC/LATINO - DOMINICAN',\n",
       "       'AMERICAN INDIAN/ALASKA NATIVE', 'WHITE - RUSSIAN',\n",
       "       'BLACK/AFRICAN', 'HISPANIC/LATINO - SALVADORAN',\n",
       "       'UNABLE TO OBTAIN', 'BLACK/CAPE VERDEAN', 'BLACK/HAITIAN',\n",
       "       'WHITE - OTHER EUROPEAN', 'PORTUGUESE', 'ASIAN - CAMBODIAN',\n",
       "       'SOUTH AMERICAN', 'WHITE - EASTERN EUROPEAN', 'ASIAN - FILIPINO',\n",
       "       'CARIBBEAN ISLAND', 'ASIAN - KOREAN',\n",
       "       'HISPANIC/LATINO - COLOMBIAN', 'WHITE - BRAZILIAN',\n",
       "       'NATIVE HAWAIIAN OR OTHER PACIFIC ISLANDER',\n",
       "       'HISPANIC/LATINO - CENTRAL AMERICAN (OTHER)', 'ASIAN - JAPANESE',\n",
       "       'ASIAN - THAI', 'HISPANIC/LATINO - HONDURAN',\n",
       "       'HISPANIC/LATINO - CUBAN', 'MIDDLE EASTERN', 'ASIAN - OTHER',\n",
       "       'HISPANIC/LATINO - MEXICAN',\n",
       "       'AMERICAN INDIAN/ALASKA NATIVE FEDERALLY RECOGNIZED TRIBE'],\n",
       "      dtype=object)"
      ]
     },
     "execution_count": 127,
     "metadata": {},
     "output_type": "execute_result"
    }
   ],
   "source": [
    "df['ethnicity'].unique()"
   ]
  },
  {
   "cell_type": "markdown",
   "metadata": {},
   "source": [
    "How many categories of gender are there?"
   ]
  },
  {
   "cell_type": "code",
   "execution_count": 128,
   "metadata": {},
   "outputs": [
    {
     "data": {
      "text/plain": [
       "array(['M', 'F'], dtype=object)"
      ]
     },
     "execution_count": 128,
     "metadata": {},
     "output_type": "execute_result"
    }
   ],
   "source": [
    "df['gender'].unique()"
   ]
  },
  {
   "cell_type": "markdown",
   "metadata": {},
   "source": [
    "How many types of insurance are represented?"
   ]
  },
  {
   "cell_type": "code",
   "execution_count": 129,
   "metadata": {},
   "outputs": [
    {
     "data": {
      "text/plain": [
       "array(['Private', 'Medicare', 'Medicaid', 'Government', 'Self Pay'],\n",
       "      dtype=object)"
      ]
     },
     "execution_count": 129,
     "metadata": {},
     "output_type": "execute_result"
    }
   ],
   "source": [
    "df['insurance'].unique()"
   ]
  },
  {
   "cell_type": "code",
   "execution_count": null,
   "metadata": {},
   "outputs": [],
   "source": []
  },
  {
   "cell_type": "markdown",
   "metadata": {},
   "source": [
    "## Readmissions Query and filtering data frame for adult patients"
   ]
  },
  {
   "cell_type": "code",
   "execution_count": null,
   "metadata": {},
   "outputs": [],
   "source": [
    "query_rm = \"\"\"WITH readmits AS\n",
    "(\n",
    "            SELECT subject_id, hadm_id, admittime, dischtime, diagnosis, insurance, admission_type,\n",
    "            cast(admittime as date) - lag(cast(dischtime as date))\n",
    "                                            OVER (PARTITION BY subject_id ORDER BY admittime)\n",
    "                                            AS readmit_time\n",
    "            FROM admissions\n",
    ")\n",
    "SELECT subject_id, hadm_id, readmit_time\n",
    "FROM readmits\n",
    "WHERE readmit_time <= 30\n",
    "ORDER BY subject_id, admittime;\"\"\"\n",
    "#cur.execute('SET search_path to ' + schema_name)\n",
    "df_rm = pd.read_sql_query(query_rm, con)\n",
    "df_rm.dtypes"
   ]
  },
  {
   "cell_type": "code",
   "execution_count": null,
   "metadata": {},
   "outputs": [],
   "source": [
    "df2 = df.merge(df_rm, on = [\"subject_id\",\"hadm_id\"], how = \"outer\")\n",
    "df2['is_readmit'] = np.where(df2.readmit_time.isnull(), False, True)\n",
    "df2['readmit_time'] = np.where(df2.readmit_time.isnull(), 0, df2.readmit_time)"
   ]
  },
  {
   "cell_type": "code",
   "execution_count": null,
   "metadata": {},
   "outputs": [],
   "source": [
    "# Replacing age of >89 y.o. patients with 90\n",
    "df2['age_on_admiss'] = np.where(df2['age_on_admiss']>100, 90, df2['age_on_admiss'])\n",
    "\n",
    "# Only keeping rows corresponding to \"adults\" (non-neonates)\n",
    "df2 = df2[df2['age_on_admiss'] > 0].copy().reset_index(drop=True)"
   ]
  },
  {
   "cell_type": "code",
   "execution_count": null,
   "metadata": {
    "scrolled": false
   },
   "outputs": [],
   "source": [
    "df2.head()"
   ]
  },
  {
   "cell_type": "code",
   "execution_count": 130,
   "metadata": {},
   "outputs": [
    {
     "data": {
      "text/plain": [
       "50866"
      ]
     },
     "execution_count": 130,
     "metadata": {},
     "output_type": "execute_result"
    }
   ],
   "source": [
    "len(df2)"
   ]
  },
  {
   "cell_type": "markdown",
   "metadata": {},
   "source": [
    "## Creating readmission vs. nonreadmission classes"
   ]
  },
  {
   "cell_type": "code",
   "execution_count": null,
   "metadata": {},
   "outputs": [],
   "source": [
    "# Grouping admissions by patient and sorting by admission time within each patient\n",
    "\n",
    "df2_grouped = df2.groupby('subject_id').apply(pd.DataFrame.sort_values, 'admittime')"
   ]
  },
  {
   "cell_type": "code",
   "execution_count": null,
   "metadata": {},
   "outputs": [],
   "source": [
    "df2_grouped.head()"
   ]
  },
  {
   "cell_type": "code",
   "execution_count": null,
   "metadata": {},
   "outputs": [],
   "source": [
    "# Checking grouping using a patient with known readmission\n",
    "\n",
    "df2_grouped.loc[99982]"
   ]
  },
  {
   "cell_type": "code",
   "execution_count": null,
   "metadata": {},
   "outputs": [],
   "source": [
    "# Creating a new column indicating whether each stay was followed by an early readmission\n",
    "\n",
    "# Filling in placeholder \"False\" values\n",
    "df2_follow = df2_grouped.copy()\n",
    "df2_follow['followed_by_readmit'] = False\n",
    "\n",
    "# Replacing values with True/False based on previous row's \"is_readmit\" value (only if the rows have same subject_id)\n",
    "# df2_follow.index[0][1] -> 0\n",
    "for i in range(len(df2_follow)-1):\n",
    "    if df2_follow.index[i][0] == df2_follow.index[i+1][0]:\n",
    "        df2_follow.iloc[i, df2_follow.columns.get_loc('followed_by_readmit')] = df2_follow.iloc[i+1, df2_follow.columns.get_loc('is_readmit')]"
   ]
  },
  {
   "cell_type": "code",
   "execution_count": null,
   "metadata": {},
   "outputs": [],
   "source": [
    "# Checking assignment using same patient with known readmission\n",
    "\n",
    "df2_follow.loc[99982]"
   ]
  },
  {
   "cell_type": "code",
   "execution_count": null,
   "metadata": {},
   "outputs": [],
   "source": [
    "# Re-setting index\n",
    "\n",
    "df2_follow.index = df2_follow.index.droplevel(0)\n",
    "df2_follow.head()"
   ]
  },
  {
   "cell_type": "markdown",
   "metadata": {},
   "source": [
    "## Pulling in CHARTEVENTS and LABEVENTS data"
   ]
  },
  {
   "cell_type": "markdown",
   "metadata": {},
   "source": [
    "### Vital signs data"
   ]
  },
  {
   "cell_type": "code",
   "execution_count": null,
   "metadata": {},
   "outputs": [],
   "source": [
    "%%time\n",
    "# Pulling in vital signs data\n",
    "# Code adapted from https://github.com/MIT-LCP/mimic-code/blob/master/concepts/pivot/pivoted-vital.sql\n",
    "\n",
    "query_vitals = \"\"\" with ce as\n",
    "(\n",
    "  select ce.hadm_id\n",
    "    , ce.charttime\n",
    "    , (case when itemid in (211,220045) and valuenum > 0 and valuenum < 300 then valuenum else null end) as HeartRate\n",
    "    , (case when itemid in (51,442,455,6701,220179,220050) and valuenum > 0 and valuenum < 400 then valuenum else null end) as SysBP\n",
    "    , (case when itemid in (615,618,220210,224690) and valuenum > 0 and valuenum < 70 then valuenum else null end) as RespRate\n",
    "    , (case when itemid in (223761,678) and valuenum > 70 and valuenum < 120 then (valuenum-32)/1.8 -- converted to degC in valuenum call\n",
    "               when itemid in (223762,676) and valuenum > 10 and valuenum < 50  then valuenum else null end) as TempC\n",
    "    , (case when itemid in (646,220277) and valuenum > 0 and valuenum <= 100 then valuenum else null end) as SpO2\n",
    "  from chartevents ce\n",
    "  -- exclude rows marked as error\n",
    "  where ce.error IS DISTINCT FROM 1\n",
    "  and ce.itemid in\n",
    "  (\n",
    "  -- HEART RATE\n",
    "  211, --\"Heart Rate\"\n",
    "  220045, --\"Heart Rate\"\n",
    "\n",
    "  -- Systolic\n",
    "\n",
    "  51, --\tArterial BP [Systolic]\n",
    "  442, --\tManual BP [Systolic]\n",
    "  455, --\tNBP [Systolic]\n",
    "  6701, --\tArterial BP #2 [Systolic]\n",
    "  220179, --\tNon Invasive Blood Pressure systolic\n",
    "  220050, --\tArterial Blood Pressure systolic\n",
    "\n",
    "  -- RESPIRATORY RATE\n",
    "  618,--\tRespiratory Rate\n",
    "  615,--\tResp Rate (Total)\n",
    "  220210,--\tRespiratory Rate\n",
    "  224690, --\tRespiratory Rate (Total)\n",
    "\n",
    "\n",
    "  -- SPO2, peripheral\n",
    "  646, 220277,\n",
    "\n",
    "\n",
    "  -- TEMPERATURE\n",
    "  223762, -- \"Temperature Celsius\"\n",
    "  676,\t-- \"Temperature C\"\n",
    "  223761, -- \"Temperature Fahrenheit\"\n",
    "  678 --\t\"Temperature F\"\n",
    "\n",
    "  )\n",
    ")\n",
    "select\n",
    "    ce.hadm_id\n",
    "  , ce.charttime\n",
    "  , avg(HeartRate) as HeartRate\n",
    "  , avg(SysBP) as SysBP\n",
    "  , avg(RespRate) as RespRate\n",
    "  , avg(TempC) as TempC\n",
    "  , avg(SpO2) as SpO2\n",
    "from ce\n",
    "group by ce.hadm_id, ce.charttime\n",
    "order by ce.hadm_id, ce.charttime;\"\"\"\n",
    "\n",
    "df_vitals = pd.read_sql_query(query_vitals, con)\n",
    "\n",
    "print(df_vitals.head(5))"
   ]
  },
  {
   "cell_type": "code",
   "execution_count": null,
   "metadata": {},
   "outputs": [],
   "source": [
    "# All-null rows\n",
    "df_vitals[df_vitals[['heartrate', 'sysbp', 'resprate', 'tempc', 'spo2']].isnull().all(axis=1)].head()"
   ]
  },
  {
   "cell_type": "code",
   "execution_count": 131,
   "metadata": {
    "scrolled": true
   },
   "outputs": [
    {
     "name": "stdout",
     "output_type": "stream",
     "text": [
      "<class 'pandas.core.frame.DataFrame'>\n",
      "RangeIndex: 8627341 entries, 0 to 8627340\n",
      "Data columns (total 7 columns):\n",
      "hadm_id      int64\n",
      "charttime    datetime64[ns]\n",
      "heartrate    float64\n",
      "sysbp        float64\n",
      "resprate     float64\n",
      "tempc        float64\n",
      "spo2         float64\n",
      "dtypes: datetime64[ns](1), float64(5), int64(1)\n",
      "memory usage: 460.7 MB\n"
     ]
    }
   ],
   "source": [
    "df_vitals.info()"
   ]
  },
  {
   "cell_type": "markdown",
   "metadata": {},
   "source": [
    "### Calculating min., median, and max. of all vital signs for each hospital stay"
   ]
  },
  {
   "cell_type": "code",
   "execution_count": 132,
   "metadata": {},
   "outputs": [
    {
     "data": {
      "text/plain": [
       "hadm_id      False\n",
       "charttime    False\n",
       "heartrate     True\n",
       "sysbp         True\n",
       "resprate      True\n",
       "tempc         True\n",
       "spo2          True\n",
       "dtype: bool"
      ]
     },
     "execution_count": 132,
     "metadata": {},
     "output_type": "execute_result"
    }
   ],
   "source": [
    "pd.isnull(df_vitals).any()"
   ]
  },
  {
   "cell_type": "markdown",
   "metadata": {},
   "source": [
    "No rows where hadm_id is null, so no need to drop rows at this point."
   ]
  },
  {
   "cell_type": "code",
   "execution_count": null,
   "metadata": {},
   "outputs": [],
   "source": [
    "# Aggregating and calculating statistics for each hospital stay\n",
    "\n",
    "vitals_stats = df_vitals.groupby('hadm_id')['heartrate', 'sysbp', 'resprate', 'tempc', 'spo2'].agg(['min', 'median', 'max'])\n",
    "vitals_stats.head()"
   ]
  },
  {
   "cell_type": "code",
   "execution_count": null,
   "metadata": {
    "scrolled": true
   },
   "outputs": [],
   "source": [
    "# Resetting index to make hadm_id a column again for merging consistency\n",
    "\n",
    "vitals_statsdf = vitals_stats.reset_index()\n",
    "vitals_statsdf.head()"
   ]
  },
  {
   "cell_type": "code",
   "execution_count": null,
   "metadata": {},
   "outputs": [],
   "source": [
    "# Flattening columns to single layer\n",
    "\n",
    "vitals_statsdf.columns = ['_'.join(col).rstrip('_') for col in vitals_statsdf.columns.values]"
   ]
  },
  {
   "cell_type": "code",
   "execution_count": null,
   "metadata": {
    "scrolled": true
   },
   "outputs": [],
   "source": [
    "vitals_statsdf.head()"
   ]
  },
  {
   "cell_type": "code",
   "execution_count": null,
   "metadata": {},
   "outputs": [],
   "source": []
  },
  {
   "cell_type": "markdown",
   "metadata": {},
   "source": [
    "### Lab data"
   ]
  },
  {
   "cell_type": "code",
   "execution_count": null,
   "metadata": {},
   "outputs": [],
   "source": [
    "%%time\n",
    "# Pulling in lab data\n",
    "# Code adapted from https://github.com/MIT-LCP/mimic-code/blob/master/concepts/pivot/pivoted-lab.sql, added RDW values\n",
    "\n",
    "query_lab = \"\"\"\n",
    "SELECT\n",
    "    pvt.hadm_id, pvt.charttime\n",
    "  , avg(CASE WHEN label = 'BILIRUBIN' THEN valuenum ELSE null END) as BILIRUBIN\n",
    "  , avg(CASE WHEN label = 'CREATININE' THEN valuenum ELSE null END) as CREATININE\n",
    "  , avg(CASE WHEN label = 'HEMATOCRIT' THEN valuenum ELSE null END) as HEMATOCRIT\n",
    "  , avg(CASE WHEN label = 'HEMOGLOBIN' THEN valuenum ELSE null END) as HEMOGLOBIN\n",
    "  , avg(CASE WHEN label = 'LACTATE' THEN valuenum ELSE null END) as LACTATE\n",
    "  , avg(CASE WHEN label = 'PLATELET' THEN valuenum ELSE null END) as PLATELET\n",
    "  , avg(CASE WHEN label = 'PTT' THEN valuenum ELSE null END) as PTT\n",
    "  , avg(CASE WHEN label = 'INR' THEN valuenum ELSE null END) as INR\n",
    "  , avg(CASE WHEN label = 'WBC' THEN valuenum ELSE null end) as WBC\n",
    "  , avg(CASE WHEN label = 'RDW' THEN valuenum ELSE null end) as RDW\n",
    "FROM\n",
    "( -- begin query that extracts the data\n",
    "  SELECT le.hadm_id, le.charttime\n",
    "  -- here we assign labels to ITEMIDs\n",
    "  -- this also fuses together multiple ITEMIDs containing the same data\n",
    "  , CASE\n",
    "        WHEN itemid = 50885 THEN 'BILIRUBIN'\n",
    "        WHEN itemid = 50912 THEN 'CREATININE'\n",
    "        WHEN itemid = 50810 THEN 'HEMATOCRIT'\n",
    "        WHEN itemid = 51221 THEN 'HEMATOCRIT'\n",
    "        WHEN itemid = 50811 THEN 'HEMOGLOBIN'\n",
    "        WHEN itemid = 51222 THEN 'HEMOGLOBIN'\n",
    "        WHEN itemid = 50813 THEN 'LACTATE'\n",
    "        WHEN itemid = 51265 THEN 'PLATELET'\n",
    "        WHEN itemid = 51275 THEN 'PTT'\n",
    "        WHEN itemid = 51237 THEN 'INR'\n",
    "        WHEN itemid = 51300 THEN 'WBC'\n",
    "        WHEN itemid = 51301 THEN 'WBC'\n",
    "        WHEN itemid = 51277 THEN 'RDW'\n",
    "      ELSE null\n",
    "    END AS label\n",
    "  , -- add in some sanity checks on the values\n",
    "  -- the where clause below requires all valuenum to be > 0, so these are only upper limit checks\n",
    "    CASE\n",
    "      WHEN itemid = 50885 and valuenum >   150 THEN null -- mg/dL 'BILIRUBIN'\n",
    "      WHEN itemid = 50912 and valuenum >   150 THEN null -- mg/dL 'CREATININE'\n",
    "      WHEN itemid = 50810 and valuenum >   100 THEN null -- % 'HEMATOCRIT'\n",
    "      WHEN itemid = 51221 and valuenum >   100 THEN null -- % 'HEMATOCRIT'\n",
    "      WHEN itemid = 50811 and valuenum >    50 THEN null -- g/dL 'HEMOGLOBIN'\n",
    "      WHEN itemid = 51222 and valuenum >    50 THEN null -- g/dL 'HEMOGLOBIN'\n",
    "      WHEN itemid = 50813 and valuenum >    50 THEN null -- mmol/L 'LACTATE'\n",
    "      WHEN itemid = 51265 and valuenum > 10000 THEN null -- K/uL 'PLATELET'\n",
    "      WHEN itemid = 51275 and valuenum >   150 THEN null -- sec 'PTT'\n",
    "      WHEN itemid = 51237 and valuenum >    50 THEN null -- 'INR'\n",
    "      WHEN itemid = 51300 and valuenum >  1000 THEN null -- K/uL 'WBC'\n",
    "      WHEN itemid = 51301 and valuenum >  1000 THEN null -- K/uL 'WBC'\n",
    "      WHEN itemid = 51277 and valuenum >   100 THEN null -- % 'RDW'\n",
    "    ELSE le.valuenum\n",
    "    END AS valuenum\n",
    "  FROM labevents le\n",
    "  WHERE le.ITEMID in\n",
    "  (\n",
    "    -- comment is: LABEL | CATEGORY | FLUID | NUMBER OF ROWS IN LABEVENTS\n",
    "    50885, -- BILIRUBIN, TOTAL | CHEMISTRY | BLOOD | 238277\n",
    "    50912, -- CREATININE | CHEMISTRY | BLOOD | 797476\n",
    "    51221, -- HEMATOCRIT | HEMATOLOGY | BLOOD | 881846\n",
    "    50810, -- HEMATOCRIT, CALCULATED | BLOOD GAS | BLOOD | 89715\n",
    "    51222, -- HEMOGLOBIN | HEMATOLOGY | BLOOD | 752523\n",
    "    50811, -- HEMOGLOBIN | BLOOD GAS | BLOOD | 89712\n",
    "    50813, -- LACTATE | BLOOD GAS | BLOOD | 187124\n",
    "    51265, -- PLATELET COUNT | HEMATOLOGY | BLOOD | 778444\n",
    "    51275, -- PTT | HEMATOLOGY | BLOOD | 474937\n",
    "    51237, -- INR(PT) | HEMATOLOGY | BLOOD | 471183\n",
    "    51301, -- WHITE BLOOD CELLS | HEMATOLOGY | BLOOD | 753301\n",
    "    51300, -- WBC COUNT | HEMATOLOGY | BLOOD | 2371\n",
    "    51277  -- RDW | HEMATOLOGY | BLOOD | 746817\n",
    "  )\n",
    "  AND valuenum IS NOT NULL AND valuenum > 0 -- lab values cannot be 0 and cannot be negative\n",
    ") pvt\n",
    "GROUP BY pvt.hadm_id, pvt.charttime\n",
    "ORDER BY pvt.hadm_id, pvt.charttime;\"\"\"\n",
    "\n",
    "df_lab = pd.read_sql_query(query_lab, con)\n",
    "\n",
    "print(df_lab.head(5))"
   ]
  },
  {
   "cell_type": "code",
   "execution_count": 133,
   "metadata": {},
   "outputs": [
    {
     "data": {
      "text/html": [
       "<div>\n",
       "<style scoped>\n",
       "    .dataframe tbody tr th:only-of-type {\n",
       "        vertical-align: middle;\n",
       "    }\n",
       "\n",
       "    .dataframe tbody tr th {\n",
       "        vertical-align: top;\n",
       "    }\n",
       "\n",
       "    .dataframe thead th {\n",
       "        text-align: right;\n",
       "    }\n",
       "</style>\n",
       "<table border=\"1\" class=\"dataframe\">\n",
       "  <thead>\n",
       "    <tr style=\"text-align: right;\">\n",
       "      <th></th>\n",
       "      <th>hadm_id</th>\n",
       "      <th>charttime</th>\n",
       "      <th>bilirubin</th>\n",
       "      <th>creatinine</th>\n",
       "      <th>hematocrit</th>\n",
       "      <th>hemoglobin</th>\n",
       "      <th>lactate</th>\n",
       "      <th>platelet</th>\n",
       "      <th>ptt</th>\n",
       "      <th>inr</th>\n",
       "      <th>wbc</th>\n",
       "      <th>rdw</th>\n",
       "    </tr>\n",
       "  </thead>\n",
       "  <tbody>\n",
       "    <tr>\n",
       "      <th>485887</th>\n",
       "      <td>143170.0</td>\n",
       "      <td>2107-01-28 12:37:00</td>\n",
       "      <td>NaN</td>\n",
       "      <td>NaN</td>\n",
       "      <td>NaN</td>\n",
       "      <td>NaN</td>\n",
       "      <td>NaN</td>\n",
       "      <td>NaN</td>\n",
       "      <td>NaN</td>\n",
       "      <td>NaN</td>\n",
       "      <td>NaN</td>\n",
       "      <td>NaN</td>\n",
       "    </tr>\n",
       "    <tr>\n",
       "      <th>725381</th>\n",
       "      <td>164229.0</td>\n",
       "      <td>2128-12-18 15:50:00</td>\n",
       "      <td>NaN</td>\n",
       "      <td>NaN</td>\n",
       "      <td>NaN</td>\n",
       "      <td>NaN</td>\n",
       "      <td>NaN</td>\n",
       "      <td>NaN</td>\n",
       "      <td>NaN</td>\n",
       "      <td>NaN</td>\n",
       "      <td>NaN</td>\n",
       "      <td>NaN</td>\n",
       "    </tr>\n",
       "    <tr>\n",
       "      <th>875166</th>\n",
       "      <td>177580.0</td>\n",
       "      <td>2132-05-21 11:05:00</td>\n",
       "      <td>NaN</td>\n",
       "      <td>NaN</td>\n",
       "      <td>NaN</td>\n",
       "      <td>NaN</td>\n",
       "      <td>NaN</td>\n",
       "      <td>NaN</td>\n",
       "      <td>NaN</td>\n",
       "      <td>NaN</td>\n",
       "      <td>NaN</td>\n",
       "      <td>NaN</td>\n",
       "    </tr>\n",
       "    <tr>\n",
       "      <th>1131169</th>\n",
       "      <td>NaN</td>\n",
       "      <td>2102-04-18 12:42:00</td>\n",
       "      <td>NaN</td>\n",
       "      <td>NaN</td>\n",
       "      <td>NaN</td>\n",
       "      <td>NaN</td>\n",
       "      <td>NaN</td>\n",
       "      <td>NaN</td>\n",
       "      <td>NaN</td>\n",
       "      <td>NaN</td>\n",
       "      <td>NaN</td>\n",
       "      <td>NaN</td>\n",
       "    </tr>\n",
       "    <tr>\n",
       "      <th>1131308</th>\n",
       "      <td>NaN</td>\n",
       "      <td>2102-05-20 05:30:00</td>\n",
       "      <td>NaN</td>\n",
       "      <td>NaN</td>\n",
       "      <td>NaN</td>\n",
       "      <td>NaN</td>\n",
       "      <td>NaN</td>\n",
       "      <td>NaN</td>\n",
       "      <td>NaN</td>\n",
       "      <td>NaN</td>\n",
       "      <td>NaN</td>\n",
       "      <td>NaN</td>\n",
       "    </tr>\n",
       "    <tr>\n",
       "      <th>1131450</th>\n",
       "      <td>NaN</td>\n",
       "      <td>2102-06-10 06:30:00</td>\n",
       "      <td>NaN</td>\n",
       "      <td>NaN</td>\n",
       "      <td>NaN</td>\n",
       "      <td>NaN</td>\n",
       "      <td>NaN</td>\n",
       "      <td>NaN</td>\n",
       "      <td>NaN</td>\n",
       "      <td>NaN</td>\n",
       "      <td>NaN</td>\n",
       "      <td>NaN</td>\n",
       "    </tr>\n",
       "    <tr>\n",
       "      <th>1154846</th>\n",
       "      <td>NaN</td>\n",
       "      <td>2112-10-25 10:30:00</td>\n",
       "      <td>NaN</td>\n",
       "      <td>NaN</td>\n",
       "      <td>NaN</td>\n",
       "      <td>NaN</td>\n",
       "      <td>NaN</td>\n",
       "      <td>NaN</td>\n",
       "      <td>NaN</td>\n",
       "      <td>NaN</td>\n",
       "      <td>NaN</td>\n",
       "      <td>NaN</td>\n",
       "    </tr>\n",
       "    <tr>\n",
       "      <th>1214573</th>\n",
       "      <td>NaN</td>\n",
       "      <td>2136-02-21 10:00:00</td>\n",
       "      <td>NaN</td>\n",
       "      <td>NaN</td>\n",
       "      <td>NaN</td>\n",
       "      <td>NaN</td>\n",
       "      <td>NaN</td>\n",
       "      <td>NaN</td>\n",
       "      <td>NaN</td>\n",
       "      <td>NaN</td>\n",
       "      <td>NaN</td>\n",
       "      <td>NaN</td>\n",
       "    </tr>\n",
       "    <tr>\n",
       "      <th>1274311</th>\n",
       "      <td>NaN</td>\n",
       "      <td>2159-01-15 09:30:00</td>\n",
       "      <td>NaN</td>\n",
       "      <td>NaN</td>\n",
       "      <td>NaN</td>\n",
       "      <td>NaN</td>\n",
       "      <td>NaN</td>\n",
       "      <td>NaN</td>\n",
       "      <td>NaN</td>\n",
       "      <td>NaN</td>\n",
       "      <td>NaN</td>\n",
       "      <td>NaN</td>\n",
       "    </tr>\n",
       "    <tr>\n",
       "      <th>1282116</th>\n",
       "      <td>NaN</td>\n",
       "      <td>2162-05-28 09:42:00</td>\n",
       "      <td>NaN</td>\n",
       "      <td>NaN</td>\n",
       "      <td>NaN</td>\n",
       "      <td>NaN</td>\n",
       "      <td>NaN</td>\n",
       "      <td>NaN</td>\n",
       "      <td>NaN</td>\n",
       "      <td>NaN</td>\n",
       "      <td>NaN</td>\n",
       "      <td>NaN</td>\n",
       "    </tr>\n",
       "    <tr>\n",
       "      <th>1347798</th>\n",
       "      <td>NaN</td>\n",
       "      <td>2188-08-18 12:00:00</td>\n",
       "      <td>NaN</td>\n",
       "      <td>NaN</td>\n",
       "      <td>NaN</td>\n",
       "      <td>NaN</td>\n",
       "      <td>NaN</td>\n",
       "      <td>NaN</td>\n",
       "      <td>NaN</td>\n",
       "      <td>NaN</td>\n",
       "      <td>NaN</td>\n",
       "      <td>NaN</td>\n",
       "    </tr>\n",
       "  </tbody>\n",
       "</table>\n",
       "</div>"
      ],
      "text/plain": [
       "          hadm_id           charttime  bilirubin  creatinine  hematocrit  \\\n",
       "485887   143170.0 2107-01-28 12:37:00        NaN         NaN         NaN   \n",
       "725381   164229.0 2128-12-18 15:50:00        NaN         NaN         NaN   \n",
       "875166   177580.0 2132-05-21 11:05:00        NaN         NaN         NaN   \n",
       "1131169       NaN 2102-04-18 12:42:00        NaN         NaN         NaN   \n",
       "1131308       NaN 2102-05-20 05:30:00        NaN         NaN         NaN   \n",
       "1131450       NaN 2102-06-10 06:30:00        NaN         NaN         NaN   \n",
       "1154846       NaN 2112-10-25 10:30:00        NaN         NaN         NaN   \n",
       "1214573       NaN 2136-02-21 10:00:00        NaN         NaN         NaN   \n",
       "1274311       NaN 2159-01-15 09:30:00        NaN         NaN         NaN   \n",
       "1282116       NaN 2162-05-28 09:42:00        NaN         NaN         NaN   \n",
       "1347798       NaN 2188-08-18 12:00:00        NaN         NaN         NaN   \n",
       "\n",
       "         hemoglobin  lactate  platelet  ptt  inr  wbc  rdw  \n",
       "485887          NaN      NaN       NaN  NaN  NaN  NaN  NaN  \n",
       "725381          NaN      NaN       NaN  NaN  NaN  NaN  NaN  \n",
       "875166          NaN      NaN       NaN  NaN  NaN  NaN  NaN  \n",
       "1131169         NaN      NaN       NaN  NaN  NaN  NaN  NaN  \n",
       "1131308         NaN      NaN       NaN  NaN  NaN  NaN  NaN  \n",
       "1131450         NaN      NaN       NaN  NaN  NaN  NaN  NaN  \n",
       "1154846         NaN      NaN       NaN  NaN  NaN  NaN  NaN  \n",
       "1214573         NaN      NaN       NaN  NaN  NaN  NaN  NaN  \n",
       "1274311         NaN      NaN       NaN  NaN  NaN  NaN  NaN  \n",
       "1282116         NaN      NaN       NaN  NaN  NaN  NaN  NaN  \n",
       "1347798         NaN      NaN       NaN  NaN  NaN  NaN  NaN  "
      ]
     },
     "execution_count": 133,
     "metadata": {},
     "output_type": "execute_result"
    }
   ],
   "source": [
    "# All-null rows?\n",
    "\n",
    "df_lab[df_lab[['bilirubin', 'creatinine', 'hematocrit', 'hemoglobin', 'lactate', 'platelet', 'ptt', 'inr', 'wbc', 'rdw']].isnull().all(axis=1)]"
   ]
  },
  {
   "cell_type": "code",
   "execution_count": 134,
   "metadata": {
    "scrolled": true
   },
   "outputs": [
    {
     "name": "stdout",
     "output_type": "stream",
     "text": [
      "<class 'pandas.core.frame.DataFrame'>\n",
      "RangeIndex: 1379506 entries, 0 to 1379505\n",
      "Data columns (total 12 columns):\n",
      "hadm_id       1128033 non-null float64\n",
      "charttime     1379506 non-null datetime64[ns]\n",
      "bilirubin     237774 non-null float64\n",
      "creatinine    794882 non-null float64\n",
      "hematocrit    967387 non-null float64\n",
      "hemoglobin    838257 non-null float64\n",
      "lactate       187013 non-null float64\n",
      "platelet      775825 non-null float64\n",
      "ptt           473092 non-null float64\n",
      "inr           470161 non-null float64\n",
      "wbc           750953 non-null float64\n",
      "rdw           744128 non-null float64\n",
      "dtypes: datetime64[ns](1), float64(11)\n",
      "memory usage: 126.3 MB\n"
     ]
    }
   ],
   "source": [
    "df_lab.info()"
   ]
  },
  {
   "cell_type": "code",
   "execution_count": 135,
   "metadata": {},
   "outputs": [
    {
     "name": "stdout",
     "output_type": "stream",
     "text": [
      "<class 'pandas.core.frame.DataFrame'>\n",
      "Int64Index: 1128033 entries, 0 to 1128032\n",
      "Data columns (total 12 columns):\n",
      "hadm_id       1128033 non-null float64\n",
      "charttime     1128033 non-null datetime64[ns]\n",
      "bilirubin     173784 non-null float64\n",
      "creatinine    619458 non-null float64\n",
      "hematocrit    778954 non-null float64\n",
      "hemoglobin    662224 non-null float64\n",
      "lactate       177956 non-null float64\n",
      "platelet      598837 non-null float64\n",
      "ptt           402346 non-null float64\n",
      "inr           378278 non-null float64\n",
      "wbc           577532 non-null float64\n",
      "rdw           572042 non-null float64\n",
      "dtypes: datetime64[ns](1), float64(11)\n",
      "memory usage: 111.9 MB\n"
     ]
    }
   ],
   "source": [
    "# Dropping rows where hadm_id is null\n",
    "\n",
    "df2_lab = df_lab.dropna(axis=0, how='any', subset=['hadm_id'])\n",
    "df2_lab.info()"
   ]
  },
  {
   "cell_type": "markdown",
   "metadata": {},
   "source": [
    "### Calculating min., median, and max. of all vital signs for each hospital stay"
   ]
  },
  {
   "cell_type": "code",
   "execution_count": null,
   "metadata": {},
   "outputs": [],
   "source": [
    "# Aggregating and calculating statistics for each hospital stay\n",
    "\n",
    "lab_stats = df2_lab.groupby('hadm_id')['bilirubin', 'creatinine', 'hematocrit', 'hemoglobin', 'lactate', 'platelet',\n",
    "                                      'ptt', 'inr', 'wbc', 'rdw'].agg(['min', 'median', 'max'])\n",
    "lab_stats.head()"
   ]
  },
  {
   "cell_type": "code",
   "execution_count": null,
   "metadata": {},
   "outputs": [],
   "source": [
    "# Resetting index to make hadm_id a column again for merging consistency\n",
    "\n",
    "lab_statsdf = lab_stats.reset_index()\n",
    "lab_statsdf.head()"
   ]
  },
  {
   "cell_type": "code",
   "execution_count": null,
   "metadata": {},
   "outputs": [],
   "source": [
    "# Flattening columns to single layer\n",
    "\n",
    "lab_statsdf.columns = ['_'.join(col).rstrip('_') for col in lab_statsdf.columns.values]\n",
    "lab_statsdf.head()"
   ]
  },
  {
   "cell_type": "code",
   "execution_count": null,
   "metadata": {},
   "outputs": [],
   "source": []
  },
  {
   "cell_type": "code",
   "execution_count": null,
   "metadata": {},
   "outputs": [],
   "source": []
  },
  {
   "cell_type": "markdown",
   "metadata": {},
   "source": [
    "### What is the average number of each type of measurement per stay?"
   ]
  },
  {
   "cell_type": "code",
   "execution_count": 136,
   "metadata": {},
   "outputs": [
    {
     "name": "stdout",
     "output_type": "stream",
     "text": [
      "Ave. number of bilirubin measurements per hospital stay: 2.991685172752156\n",
      "Std. dev of bilirubin measurements per hospital stay: 6.69231124103759\n",
      "Min. number of bilirubin measurements per hospital stay: 0\n",
      "Max. number of bilirubin measurements per hospital stay: 191\n",
      "          bilirubin\n",
      "hadm_id            \n",
      "100001.0          1\n",
      "100003.0          5\n",
      "100006.0          0\n",
      "100007.0          1\n",
      "100009.0          1\n",
      "Ave. number of creatinine measurements per hospital stay: 10.66394670247379\n",
      "Std. dev of creatinine measurements per hospital stay: 13.123923938928339\n",
      "Min. number of creatinine measurements per hospital stay: 0\n",
      "Max. number of creatinine measurements per hospital stay: 351\n",
      "          creatinine\n",
      "hadm_id             \n",
      "100001.0          14\n",
      "100003.0           6\n",
      "100006.0          13\n",
      "100007.0           9\n",
      "100009.0           6\n",
      "Ave. number of hematocrit measurements per hospital stay: 13.409664480366335\n",
      "Std. dev of hematocrit measurements per hospital stay: 15.64153640272455\n",
      "Min. number of hematocrit measurements per hospital stay: 0\n",
      "Max. number of hematocrit measurements per hospital stay: 371\n",
      "          hematocrit\n",
      "hadm_id             \n",
      "100001.0           7\n",
      "100003.0          12\n",
      "100006.0          13\n",
      "100007.0           8\n",
      "100009.0          10\n",
      "Ave. number of hemoglobin measurements per hospital stay: 11.400161820654512\n",
      "Std. dev of hemoglobin measurements per hospital stay: 13.2188165081452\n",
      "Min. number of hemoglobin measurements per hospital stay: 0\n",
      "Max. number of hemoglobin measurements per hospital stay: 342\n",
      "          hemoglobin\n",
      "hadm_id             \n",
      "100001.0           7\n",
      "100003.0           8\n",
      "100006.0          13\n",
      "100007.0           8\n",
      "100009.0          10\n",
      "Ave. number of lactate measurements per hospital stay: 3.063505999414691\n",
      "Std. dev of lactate measurements per hospital stay: 6.673596301147627\n",
      "Min. number of lactate measurements per hospital stay: 0\n",
      "Max. number of lactate measurements per hospital stay: 180\n",
      "          lactate\n",
      "hadm_id          \n",
      "100001.0        1\n",
      "100003.0        1\n",
      "100006.0        1\n",
      "100007.0        2\n",
      "100009.0        2\n",
      "Ave. number of platelet measurements per hospital stay: 10.308956945376922\n",
      "Std. dev of platelet measurements per hospital stay: 12.943644966133002\n",
      "Min. number of platelet measurements per hospital stay: 0\n",
      "Max. number of platelet measurements per hospital stay: 358\n",
      "          platelet\n",
      "hadm_id           \n",
      "100001.0         7\n",
      "100003.0         7\n",
      "100006.0        13\n",
      "100007.0         8\n",
      "100009.0         7\n",
      "Ave. number of ptt measurements per hospital stay: 6.926371602196629\n",
      "Std. dev of ptt measurements per hospital stay: 11.311062147278527\n",
      "Min. number of ptt measurements per hospital stay: 0\n",
      "Max. number of ptt measurements per hospital stay: 279\n",
      "          ptt\n",
      "hadm_id      \n",
      "100001.0    1\n",
      "100003.0    5\n",
      "100006.0   15\n",
      "100007.0    1\n",
      "100009.0    5\n",
      "Ave. number of inr measurements per hospital stay: 6.512041866790614\n",
      "Std. dev of inr measurements per hospital stay: 10.067028344075768\n",
      "Min. number of inr measurements per hospital stay: 0\n",
      "Max. number of inr measurements per hospital stay: 215\n",
      "          inr\n",
      "hadm_id      \n",
      "100001.0    1\n",
      "100003.0    5\n",
      "100006.0   13\n",
      "100007.0    1\n",
      "100009.0    4\n",
      "Ave. number of wbc measurements per hospital stay: 9.942192153419752\n",
      "Std. dev of wbc measurements per hospital stay: 11.82935690456973\n",
      "Min. number of wbc measurements per hospital stay: 0\n",
      "Max. number of wbc measurements per hospital stay: 319\n",
      "          wbc\n",
      "hadm_id      \n",
      "100001.0    7\n",
      "100003.0    7\n",
      "100006.0   13\n",
      "100007.0    8\n",
      "100009.0    7\n",
      "Ave. number of rdw measurements per hospital stay: 9.84768200519892\n",
      "Std. dev of rdw measurements per hospital stay: 11.736416113974325\n",
      "Min. number of rdw measurements per hospital stay: 0\n",
      "Max. number of rdw measurements per hospital stay: 319\n",
      "          rdw\n",
      "hadm_id      \n",
      "100001.0    7\n",
      "100003.0    7\n",
      "100006.0   13\n",
      "100007.0    8\n",
      "100009.0    7\n"
     ]
    }
   ],
   "source": [
    "def labStats(feature):\n",
    "    df_labStat = df2_lab[['hadm_id', feature]]\n",
    "    labStat_sorted = df_labStat.set_index('hadm_id').sort_index()\n",
    "    labStat_grouped = labStat_sorted.groupby(labStat_sorted.index).count()\n",
    "    print('Ave. number of', feature, 'measurements per hospital stay:', labStat_grouped.mean()[0])\n",
    "    print('Std. dev of', feature, 'measurements per hospital stay:', labStat_grouped.std()[0])\n",
    "    print('Min. number of', feature, 'measurements per hospital stay:', labStat_grouped.min()[0])\n",
    "    print('Max. number of', feature, 'measurements per hospital stay:', labStat_grouped.max()[0])\n",
    "    return labStat_grouped.head()\n",
    "\n",
    "for i in df_lab.columns[2:]:\n",
    "    print(labStats(i))"
   ]
  },
  {
   "cell_type": "markdown",
   "metadata": {},
   "source": [
    "Looks like there is large variation in terms of number of each measurement per hospital stay."
   ]
  },
  {
   "cell_type": "markdown",
   "metadata": {},
   "source": [
    "## Distributions for lab features"
   ]
  },
  {
   "cell_type": "code",
   "execution_count": 137,
   "metadata": {},
   "outputs": [
    {
     "data": {
      "text/plain": [
       "<matplotlib.figure.Figure at 0x19df3a97ba8>"
      ]
     },
     "metadata": {},
     "output_type": "display_data"
    },
    {
     "name": "stdout",
     "output_type": "stream",
     "text": [
      "AxesSubplot(0.125,0.125;0.775x0.755)\n"
     ]
    },
    {
     "data": {
      "image/png": "[encoded data removed]",
      "text/plain": [
       "<matplotlib.figure.Figure at 0x19df3a80a90>"
      ]
     },
     "metadata": {},
     "output_type": "display_data"
    },
    {
     "data": {
      "text/plain": [
       "<matplotlib.figure.Figure at 0x19df39c2588>"
      ]
     },
     "metadata": {},
     "output_type": "display_data"
    },
    {
     "name": "stdout",
     "output_type": "stream",
     "text": [
      "AxesSubplot(0.125,0.125;0.775x0.755)\n"
     ]
    },
    {
     "data": {
      "image/png": "[encoded data removed]",
      "text/plain": [
       "<matplotlib.figure.Figure at 0x19df39ca908>"
      ]
     },
     "metadata": {},
     "output_type": "display_data"
    },
    {
     "data": {
      "text/plain": [
       "<matplotlib.figure.Figure at 0x19df38b8358>"
      ]
     },
     "metadata": {},
     "output_type": "display_data"
    },
    {
     "name": "stdout",
     "output_type": "stream",
     "text": [
      "AxesSubplot(0.125,0.125;0.775x0.755)\n"
     ]
    },
    {
     "data": {
      "image/png": "[encoded data removed]",
      "text/plain": [
       "<matplotlib.figure.Figure at 0x19df37d6940>"
      ]
     },
     "metadata": {},
     "output_type": "display_data"
    },
    {
     "data": {
      "text/plain": [
       "<matplotlib.figure.Figure at 0x19e241520b8>"
      ]
     },
     "metadata": {},
     "output_type": "display_data"
    },
    {
     "name": "stdout",
     "output_type": "stream",
     "text": [
      "AxesSubplot(0.125,0.125;0.775x0.755)\n"
     ]
    },
    {
     "data": {
      "image/png": "[encoded data removed]",
      "text/plain": [
       "<matplotlib.figure.Figure at 0x19df3aac4a8>"
      ]
     },
     "metadata": {},
     "output_type": "display_data"
    },
    {
     "data": {
      "text/plain": [
       "<matplotlib.figure.Figure at 0x19df37c1438>"
      ]
     },
     "metadata": {},
     "output_type": "display_data"
    },
    {
     "name": "stdout",
     "output_type": "stream",
     "text": [
      "AxesSubplot(0.125,0.125;0.775x0.755)\n"
     ]
    },
    {
     "data": {
      "image/png": "[encoded data removed]",
      "text/plain": [
       "<matplotlib.figure.Figure at 0x19df3901dd8>"
      ]
     },
     "metadata": {},
     "output_type": "display_data"
    },
    {
     "data": {
      "text/plain": [
       "<matplotlib.figure.Figure at 0x19df38c1c18>"
      ]
     },
     "metadata": {},
     "output_type": "display_data"
    },
    {
     "name": "stdout",
     "output_type": "stream",
     "text": [
      "AxesSubplot(0.125,0.125;0.775x0.755)\n"
     ]
    },
    {
     "data": {
      "image/png": "[encoded data removed]",
      "text/plain": [
       "<matplotlib.figure.Figure at 0x19df42f9048>"
      ]
     },
     "metadata": {},
     "output_type": "display_data"
    },
    {
     "data": {
      "text/plain": [
       "<matplotlib.figure.Figure at 0x19e23aafba8>"
      ]
     },
     "metadata": {},
     "output_type": "display_data"
    },
    {
     "name": "stdout",
     "output_type": "stream",
     "text": [
      "AxesSubplot(0.125,0.125;0.775x0.755)\n"
     ]
    },
    {
     "data": {
      "image/png": "[encoded data removed]",
      "text/plain": [
       "<matplotlib.figure.Figure at 0x19d8d294278>"
      ]
     },
     "metadata": {},
     "output_type": "display_data"
    },
    {
     "data": {
      "text/plain": [
       "<matplotlib.figure.Figure at 0x19df37f0c18>"
      ]
     },
     "metadata": {},
     "output_type": "display_data"
    },
    {
     "name": "stdout",
     "output_type": "stream",
     "text": [
      "AxesSubplot(0.125,0.125;0.775x0.755)\n"
     ]
    },
    {
     "data": {
      "image/png": "[encoded data removed]",
      "text/plain": [
       "<matplotlib.figure.Figure at 0x19d8d294278>"
      ]
     },
     "metadata": {},
     "output_type": "display_data"
    },
    {
     "data": {
      "text/plain": [
       "<matplotlib.figure.Figure at 0x19df3aac4a8>"
      ]
     },
     "metadata": {},
     "output_type": "display_data"
    },
    {
     "name": "stdout",
     "output_type": "stream",
     "text": [
      "AxesSubplot(0.125,0.125;0.775x0.755)\n"
     ]
    },
    {
     "data": {
      "image/png": "[encoded data removed]",
      "text/plain": [
       "<matplotlib.figure.Figure at 0x19df3901dd8>"
      ]
     },
     "metadata": {},
     "output_type": "display_data"
    },
    {
     "data": {
      "text/plain": [
       "<matplotlib.figure.Figure at 0x19deeaf7c50>"
      ]
     },
     "metadata": {},
     "output_type": "display_data"
    },
    {
     "name": "stdout",
     "output_type": "stream",
     "text": [
      "AxesSubplot(0.125,0.125;0.775x0.755)\n"
     ]
    },
    {
     "data": {
      "image/png": "[encoded data removed]",
      "text/plain": [
       "<matplotlib.figure.Figure at 0x19e23b9a080>"
      ]
     },
     "metadata": {},
     "output_type": "display_data"
    }
   ],
   "source": [
    "def labDistr(feature):\n",
    "    feature_data = df_lab[feature].dropna()\n",
    "    plt.figure()\n",
    "    plt.show()\n",
    "    return sns.distplot(feature_data)\n",
    "\n",
    "for i in df_lab.columns[2:]:\n",
    "    print(labDistr(i))"
   ]
  },
  {
   "cell_type": "markdown",
   "metadata": {},
   "source": [
    "## Pulling in prescription data"
   ]
  },
  {
   "cell_type": "code",
   "execution_count": null,
   "metadata": {},
   "outputs": [],
   "source": [
    "%%time\n",
    "# Creating one dataframe per drug (we can consolidate after feature selection?)\n",
    "\n",
    "def query_prescrip(drug_desc):\n",
    "    general_query = \"\"\" \n",
    "        SELECT p.subject_id, p.hadm_id, p.startdate, p.enddate,\n",
    "        p.drug, p.drug_name_poe, p.drug_name_generic, a.admittime, a.dischtime\n",
    "        FROM prescriptions p\n",
    "        INNER JOIN admissions a\n",
    "        ON p.hadm_id = a.hadm_id\n",
    "        WHERE startdate < dischtime\n",
    "        AND \"\"\"\n",
    "    drug_specific = drug_desc\n",
    "    whole_query = general_query + drug_specific\n",
    "    return pd.read_sql_query(whole_query, con)\n",
    "\n",
    "# Vancomycin and neo-synephrine require special queries\n",
    "df_vanco = query_prescrip(\"\"\"(lower(drug) LIKE '%vancomycin%' \n",
    "OR lower(drug) LIKE '%vancocin%' \n",
    "OR lower(drug_name_poe) LIKE '%vancomycin%'\n",
    "OR lower(drug_name_generic) LIKE '%vancomycin%');\"\"\")\n",
    "\n",
    "df_neosyn = query_prescrip(\"\"\"(lower(drug) LIKE 'neo%ephrine%'\n",
    "      OR lower(drug) LIKE 'phenylephrine%');\"\"\")\n",
    "\n",
    "# Other drugs use same query format\n",
    "def gen_drug_desc(drug):\n",
    "    gen_drug_query = \"(lower(drug) LIKE '%\" + drug + \"%' OR lower(drug_name_poe) LIKE '%\"\\\n",
    "                        + drug + \"%' OR lower(drug_name_generic) LIKE '%\" + drug + \"%');\"\n",
    "    return gen_drug_query\n",
    "\n",
    "df_neostig = query_prescrip(gen_drug_desc('neostigmine'))\n",
    "df_glycopyr = query_prescrip(gen_drug_desc('glycopyrrolate'))\n",
    "df_ceftriax = query_prescrip(gen_drug_desc('ceftriaxone'))\n",
    "df_atropsulf = query_prescrip(gen_drug_desc('atropine sulfate'))\n",
    "df_chlorhex = query_prescrip(gen_drug_desc('chlorhexidine'))\n",
    "df_nitroglyc = query_prescrip(gen_drug_desc('nitroglycerin'))\n",
    "df_nitropruss = query_prescrip(gen_drug_desc('nitroprusside'))\n",
    "df_lansopraz = query_prescrip(gen_drug_desc('lansoprazole'))\n",
    "    \n",
    "\n",
    "#df_vanco = query_prescrip(vanco_desc)\n",
    "#query_prescrip(neosyn_desc)\n"
   ]
  },
  {
   "cell_type": "code",
   "execution_count": 139,
   "metadata": {},
   "outputs": [
    {
     "name": "stdout",
     "output_type": "stream",
     "text": [
      "vancomycin: 68734 rows\n",
      "neosynephrine: 22312 rows\n",
      "neostigmine: 6812 rows\n",
      "glycopyrrolate: 8036 rows\n",
      "ceftriaxone: 8722 rows\n",
      "atropine sulfate: 5119 rows\n",
      "chlorhexidine: 12124 rows\n",
      "nitroglycerin: 21892 rows\n",
      "nitroprusside: 4896 rows\n",
      "lansoprazole: 7424 rows\n"
     ]
    }
   ],
   "source": [
    "# How many rows in each dataframe?\n",
    "\n",
    "print('vancomycin:', df_vanco.shape[0], 'rows')\n",
    "print('neosynephrine:', df_neosyn.shape[0], 'rows')\n",
    "print('neostigmine:', df_neostig.shape[0], 'rows')\n",
    "print('glycopyrrolate:', df_glycopyr.shape[0], 'rows')\n",
    "print('ceftriaxone:', df_ceftriax.shape[0], 'rows')\n",
    "print('atropine sulfate:', df_atropsulf.shape[0], 'rows')\n",
    "print('chlorhexidine:', df_chlorhex.shape[0], 'rows')\n",
    "print('nitroglycerin:', df_nitroglyc.shape[0], 'rows')\n",
    "print('nitroprusside:', df_nitropruss.shape[0], 'rows')\n",
    "print('lansoprazole:', df_lansopraz.shape[0], 'rows')"
   ]
  },
  {
   "cell_type": "code",
   "execution_count": null,
   "metadata": {
    "scrolled": false
   },
   "outputs": [],
   "source": [
    "df_vanco.head()"
   ]
  },
  {
   "cell_type": "code",
   "execution_count": null,
   "metadata": {},
   "outputs": [],
   "source": [
    "# Converting prescription feature to binary\n",
    "\n",
    "drug_list = ['vancomycin', 'neosynephrine', 'neostigmine', 'glycopyrrolate', 'ceftriaxone', \n",
    "'atropine sulfate', 'chlorhexidine', 'nitroglycerin', 'nitroprusside', 'lansoprazole']\n",
    "df_druglist = [df_vanco, df_neosyn, df_neostig, df_glycopyr, df_ceftriax, df_atropsulf, df_chlorhex,  df_nitroglyc,\n",
    "              df_nitropruss, df_lansopraz]\n",
    "\n",
    "# Create new copy of df2 with one column per prescription feature, values True/False \n",
    "df2_prescrip = df2.copy()\n",
    "for i in range(len(drug_list)):\n",
    "    df2_prescrip[drug_list[i]] = df2_prescrip['hadm_id'].isin(df_druglist[i]['hadm_id'])\n",
    "df2_prescrip.head()"
   ]
  },
  {
   "cell_type": "markdown",
   "metadata": {},
   "source": [
    "## Pulling in procedure data"
   ]
  },
  {
   "cell_type": "code",
   "execution_count": null,
   "metadata": {},
   "outputs": [],
   "source": [
    "%%time\n",
    "# Creating one dataframe per procedure (we can consolidate after feature selection?)\n",
    "\n",
    "def query_proc(proc_desc):\n",
    "    general_query = \"\"\" \n",
    "        SELECT pr.subject_id, pr.hadm_id, d.icd9_code, d.short_title, d.long_title\n",
    "        FROM procedures_icd pr\n",
    "        INNER JOIN d_icd_procedures d\n",
    "        ON pr.icd9_code = d.icd9_code\n",
    "        WHERE \"\"\"\n",
    "    proc_specific = proc_desc\n",
    "    whole_query = general_query + proc_specific\n",
    "    return pd.read_sql_query(whole_query, con)\n",
    "\n",
    "df_parentinf = query_proc(\"short_title = 'Parent infus nutrit sub';\")\n",
    "df_serumtransf = query_proc(\"short_title = 'Serum transfusion NEC';\")\n",
    "df_skinsut = query_proc(\"short_title = 'Skin closure NEC';\")\n",
    "df_vasopress = query_proc(\"short_title = 'Infusion of vasopressor';\")\n",
    "df_mammCAB = query_proc(\"short_title = '1 int mam-cor art bypass';\")\n",
    "df_aortoCBT = query_proc(\"short_title = 'Aortocor bypas-2 cor art' OR short_title = 'Aortocor bypas-3 cor art';\")\n",
    "df_platetransf = query_proc(\"short_title = 'Platelet transfusion';\")\n",
    "df_intercath = query_proc(\"short_title = 'Insert intercostal cath';\")"
   ]
  },
  {
   "cell_type": "code",
   "execution_count": 138,
   "metadata": {},
   "outputs": [
    {
     "name": "stdout",
     "output_type": "stream",
     "text": [
      "parenteral infusion: 4244 rows\n",
      "serum transfusion: 2028 rows\n",
      "skin suture: 719 rows\n",
      "infusion of vasopressor: 832 rows\n",
      "single internal mammary-coronary artery bypass: 4401 rows\n",
      "aortocoronary bypass T: 3407 rows\n",
      "platelet transfusion: 1235 rows\n",
      "insertion of intercostal catheter: 1717 rows\n"
     ]
    }
   ],
   "source": [
    "# How many rows in each dataframe?\n",
    "\n",
    "print('parenteral infusion:', df_parentinf.shape[0], 'rows')\n",
    "print('serum transfusion:', df_serumtransf.shape[0], 'rows')\n",
    "print('skin suture:', df_skinsut.shape[0], 'rows')\n",
    "print('infusion of vasopressor:', df_vasopress.shape[0], 'rows')\n",
    "print('single internal mammary-coronary artery bypass:', df_mammCAB.shape[0], 'rows')\n",
    "print('aortocoronary bypass T:', df_aortoCBT.shape[0], 'rows')\n",
    "print('platelet transfusion:', df_platetransf.shape[0], 'rows')\n",
    "print('insertion of intercostal catheter:', df_intercath.shape[0], 'rows')\n"
   ]
  },
  {
   "cell_type": "code",
   "execution_count": null,
   "metadata": {},
   "outputs": [],
   "source": [
    "df_parentinf.head()"
   ]
  },
  {
   "cell_type": "code",
   "execution_count": null,
   "metadata": {},
   "outputs": [],
   "source": [
    "143045 in df_aortoCBT['hadm_id'].unique()"
   ]
  },
  {
   "cell_type": "code",
   "execution_count": null,
   "metadata": {
    "scrolled": true
   },
   "outputs": [],
   "source": [
    "# Converting procedure feature to binary\n",
    "\n",
    "proc_list = ['parent_inf', 'serum_transf', 'skin_sut', 'inf_vasopress',\n",
    "            'single_int_mammCAB', 'aorto_CBT', 'platelet_transf', 'ins_inter_cath']\n",
    "df_proclist = [df_parentinf, df_serumtransf, df_skinsut, df_vasopress, df_mammCAB, df_aortoCBT, df_platetransf, df_intercath]\n",
    "\n",
    "# Create new copy of df2 with one column per procedure feature, values True/False \n",
    "df2_proc = df2.copy()\n",
    "for i in range(len(proc_list)):\n",
    "    df2_proc[proc_list[i]] = df2_proc['hadm_id'].isin(df_proclist[i]['hadm_id'])\n",
    "df2_proc.head()"
   ]
  },
  {
   "cell_type": "markdown",
   "metadata": {},
   "source": [
    "## Pulling in diagnosis category (\"department\") data"
   ]
  },
  {
   "cell_type": "code",
   "execution_count": null,
   "metadata": {},
   "outputs": [],
   "source": []
  },
  {
   "cell_type": "code",
   "execution_count": null,
   "metadata": {},
   "outputs": [],
   "source": []
  },
  {
   "cell_type": "code",
   "execution_count": null,
   "metadata": {},
   "outputs": [],
   "source": [
    "q_merge = \"\"\"SELECT d.SUBJECT_ID, d.HADM_ID, d.ICD9_CODE, lookup.SHORT_TITLE, lookup.LONG_TITLE \n",
    "                from DIAGNOSES_ICD d\n",
    "                left join d_icd_diagnoses lookup \n",
    "                on d.ICD9_CODE = lookup.ICD9_CODE;\"\"\"\n",
    "\n",
    "df_department = pd.read_sql_query(q_merge, con)"
   ]
  },
  {
   "cell_type": "code",
   "execution_count": 140,
   "metadata": {},
   "outputs": [
    {
     "data": {
      "text/plain": [
       "651047"
      ]
     },
     "execution_count": 140,
     "metadata": {},
     "output_type": "execute_result"
    }
   ],
   "source": [
    "len(df_department)"
   ]
  },
  {
   "cell_type": "code",
   "execution_count": null,
   "metadata": {},
   "outputs": [],
   "source": [
    "df_department.head()"
   ]
  },
  {
   "cell_type": "code",
   "execution_count": 141,
   "metadata": {},
   "outputs": [
    {
     "data": {
      "text/plain": [
       "4019     20703\n",
       "4280     13111\n",
       "42731    12891\n",
       "41401    12429\n",
       "5849      9119\n",
       "25000     9058\n",
       "2724      8690\n",
       "51881     7497\n",
       "5990      6555\n",
       "53081     6326\n",
       "2720      5930\n",
       "V053      5779\n",
       "V290      5519\n",
       "2859      5406\n",
       "2449      4917\n",
       "486       4839\n",
       "2851      4552\n",
       "2762      4528\n",
       "496       4431\n",
       "99592     3912\n",
       "V5861     3806\n",
       "0389      3725\n",
       "5070      3680\n",
       "V3000     3566\n",
       "5859      3435\n",
       "311       3431\n",
       "40390     3421\n",
       "3051      3358\n",
       "412       3278\n",
       "2875      3065\n",
       "         ...  \n",
       "72270        1\n",
       "79510        1\n",
       "5286         1\n",
       "27709        1\n",
       "6984         1\n",
       "V1020        1\n",
       "V1643        1\n",
       "5161         1\n",
       "72672        1\n",
       "55001        1\n",
       "80441        1\n",
       "V9039        1\n",
       "66942        1\n",
       "5291         1\n",
       "E8589        1\n",
       "V062         1\n",
       "E9463        1\n",
       "1489         1\n",
       "38908        1\n",
       "99585        1\n",
       "4481         1\n",
       "V045         1\n",
       "32724        1\n",
       "74343        1\n",
       "80410        1\n",
       "7817         1\n",
       "38921        1\n",
       "81252        1\n",
       "V6110        1\n",
       "75444        1\n",
       "Name: icd9_code, Length: 6984, dtype: int64"
      ]
     },
     "execution_count": 141,
     "metadata": {},
     "output_type": "execute_result"
    }
   ],
   "source": [
    "df_department['icd9_code'].value_counts()"
   ]
  },
  {
   "cell_type": "code",
   "execution_count": null,
   "metadata": {},
   "outputs": [],
   "source": [
    "# Reading the ICD 9 Codes. First three digit are important. Last two if available are supplementary\n",
    "df_department['ICD_PC'] = df_department['icd9_code'].astype(str).str[:3]"
   ]
  },
  {
   "cell_type": "code",
   "execution_count": null,
   "metadata": {},
   "outputs": [],
   "source": [
    "df_department.head()"
   ]
  },
  {
   "cell_type": "code",
   "execution_count": null,
   "metadata": {},
   "outputs": [],
   "source": [
    "#converting to numeric\n",
    "df_department['int_icd9']=pd.to_numeric(df_department.ICD_PC, errors='coerce')"
   ]
  },
  {
   "cell_type": "code",
   "execution_count": null,
   "metadata": {},
   "outputs": [],
   "source": [
    "df_department.head()"
   ]
  },
  {
   "cell_type": "code",
   "execution_count": null,
   "metadata": {},
   "outputs": [],
   "source": [
    "conditions = [\n",
    "    (df_department['int_icd9'] > 0) & (df_department['int_icd9'] <= 139),\n",
    "    (df_department['int_icd9'] >= 140) & (df_department['int_icd9'] <= 239),\n",
    "    (df_department['int_icd9'] >= 240) & (df_department['int_icd9'] <= 279),\n",
    "    (df_department['int_icd9'] >= 280) & (df_department['int_icd9'] <= 289),\n",
    "    (df_department['int_icd9'] >= 290) & (df_department['int_icd9'] <= 319),\n",
    "    (df_department['int_icd9'] >= 320) & (df_department['int_icd9'] <= 389),\n",
    "    (df_department['int_icd9'] >= 390) & (df_department['int_icd9'] <= 459),\n",
    "    (df_department['int_icd9'] >= 460) & (df_department['int_icd9'] <= 519),\n",
    "    (df_department['int_icd9'] >= 520) & (df_department['int_icd9'] <= 579),\n",
    "    (df_department['int_icd9'] >= 580) & (df_department['int_icd9'] <= 629),\n",
    "    (df_department['int_icd9'] >= 630) & (df_department['int_icd9'] <= 679),\n",
    "    (df_department['int_icd9'] >= 680) & (df_department['int_icd9'] <= 709),\n",
    "    (df_department['int_icd9'] >= 710) & (df_department['int_icd9'] <= 739),\n",
    "    (df_department['int_icd9'] >= 740) & (df_department['int_icd9'] <= 759),\n",
    "    (df_department['int_icd9'] >= 760) & (df_department['int_icd9'] <= 779),\n",
    "    (df_department['int_icd9'] >= 780) & (df_department['int_icd9'] <= 799),\n",
    "    (df_department['int_icd9'] >= 800) & (df_department['int_icd9'] <= 999),\n",
    "    (df_department.icd9_code.str.startswith('E', na=False)) | (df_department.icd9_code.str.startswith('V', na=False)),\n",
    "    \n",
    "]\n",
    "choices = ['infectious and parasitic diseases', 'neoplasms',\\\n",
    "           'endocrine, nutritional and metabolic diseases, and immunity disorders',\\\n",
    "           'diseases of the blood and blood-forming organs','mental disorders',\\\n",
    "           'diseases of the nervous system and sense organs','diseases of the circulatory system',\\\n",
    "           'diseases of the respiratory system','diseases of the digestive system',\\\n",
    "           'diseases of the genitourinary system','complications of pregnancy, childbirth, and the puerperium',\\\n",
    "           'diseases of the skin and subcutaneous tissue','diseases of the musculoskeletal system and connective tissue',\\\n",
    "          'congenital anomalies','certain conditions originating in the perinatal period','symptoms, signs, and ill-defined conditions',\\\n",
    "          'injury and poisoning','external causes of injury and supplemental classification']\n",
    "df_department['Department'] = np.select(conditions, choices, default='null')\n",
    "#print(df_merge)"
   ]
  },
  {
   "cell_type": "code",
   "execution_count": null,
   "metadata": {
    "scrolled": true
   },
   "outputs": [],
   "source": [
    "df_department.head(15)"
   ]
  },
  {
   "cell_type": "code",
   "execution_count": null,
   "metadata": {},
   "outputs": [],
   "source": [
    "#df_merge = df_merge.drop(['ICD_PC'],axis=1)"
   ]
  },
  {
   "cell_type": "code",
   "execution_count": 143,
   "metadata": {},
   "outputs": [
    {
     "data": {
      "text/plain": [
       "diseases of the circulatory system                                       140257\n",
       "external causes of injury and supplemental classification                 97249\n",
       "endocrine, nutritional and metabolic diseases, and immunity disorders     69592\n",
       "diseases of the respiratory system                                        44825\n",
       "injury and poisoning                                                      42948\n",
       "diseases of the digestive system                                          38527\n",
       "diseases of the genitourinary system                                      32867\n",
       "symptoms, signs, and ill-defined conditions                               29691\n",
       "diseases of the blood and blood-forming organs                            25262\n",
       "mental disorders                                                          24876\n",
       "diseases of the nervous system and sense organs                           23334\n",
       "infectious and parasitic diseases                                         20264\n",
       "certain conditions originating in the perinatal period                    20160\n",
       "neoplasms                                                                 14235\n",
       "diseases of the musculoskeletal system and connective tissue              13392\n",
       "diseases of the skin and subcutaneous tissue                               8789\n",
       "congenital anomalies                                                       4078\n",
       "complications of pregnancy, childbirth, and the puerperium                  654\n",
       "null                                                                         47\n",
       "Name: Department, dtype: int64"
      ]
     },
     "execution_count": 143,
     "metadata": {},
     "output_type": "execute_result"
    }
   ],
   "source": [
    "df_department.Department.value_counts()"
   ]
  },
  {
   "cell_type": "code",
   "execution_count": null,
   "metadata": {},
   "outputs": [],
   "source": [
    "df_department2 = df_department[df_department['Department']!='null']"
   ]
  },
  {
   "cell_type": "code",
   "execution_count": null,
   "metadata": {
    "scrolled": true
   },
   "outputs": [],
   "source": [
    "#ICD codes are null\n",
    "df_department2.head()"
   ]
  },
  {
   "cell_type": "code",
   "execution_count": 144,
   "metadata": {},
   "outputs": [],
   "source": [
    "df_department_freq = df_department2.groupby('hadm_id')['Department'].nunique()"
   ]
  },
  {
   "cell_type": "code",
   "execution_count": null,
   "metadata": {},
   "outputs": [],
   "source": [
    "df_department_freq = df_department_freq.reset_index();"
   ]
  },
  {
   "cell_type": "code",
   "execution_count": null,
   "metadata": {},
   "outputs": [],
   "source": [
    "df_department_freq = df_department_freq.rename(index=str, columns = {\"Department\": \"No_of_Depart\"});"
   ]
  },
  {
   "cell_type": "code",
   "execution_count": null,
   "metadata": {},
   "outputs": [],
   "source": [
    "df_department3 = pd.merge(df_department2,df_department_freq, on = 'hadm_id', how = 'inner')"
   ]
  },
  {
   "cell_type": "code",
   "execution_count": 145,
   "metadata": {},
   "outputs": [
    {
     "data": {
      "text/plain": [
       "651000"
      ]
     },
     "execution_count": 145,
     "metadata": {},
     "output_type": "execute_result"
    }
   ],
   "source": [
    "len(df_department3)"
   ]
  },
  {
   "cell_type": "code",
   "execution_count": 146,
   "metadata": {},
   "outputs": [],
   "source": [
    "# Four most frequent diagnoses per hospital stay\n",
    "df_top1_depart = df_department3.groupby(['hadm_id'])['Department'].agg(lambda x:x.value_counts().index[0])"
   ]
  },
  {
   "cell_type": "code",
   "execution_count": null,
   "metadata": {},
   "outputs": [],
   "source": [
    "df_top1_depart = df_top1_depart.reset_index()"
   ]
  },
  {
   "cell_type": "code",
   "execution_count": null,
   "metadata": {},
   "outputs": [],
   "source": [
    "df_top1_depart = df_top1_depart.rename(index=str, columns = {'Department': 'Depart1' } );"
   ]
  },
  {
   "cell_type": "code",
   "execution_count": null,
   "metadata": {},
   "outputs": [],
   "source": [
    "df_department4 = df_department3[['hadm_id','No_of_Depart']].drop_duplicates()\n",
    "df_top1_merge = pd.merge(df_top1_depart[['hadm_id','Depart1']],df_department4 , on ='hadm_id', how = 'left')"
   ]
  },
  {
   "cell_type": "code",
   "execution_count": null,
   "metadata": {},
   "outputs": [],
   "source": [
    "df_top1_merge.head()"
   ]
  },
  {
   "cell_type": "code",
   "execution_count": 147,
   "metadata": {},
   "outputs": [
    {
     "data": {
      "text/plain": [
       "58929"
      ]
     },
     "execution_count": 147,
     "metadata": {},
     "output_type": "execute_result"
    }
   ],
   "source": [
    "len(df_top1_merge)"
   ]
  },
  {
   "cell_type": "code",
   "execution_count": null,
   "metadata": {},
   "outputs": [],
   "source": [
    "#Some of the patients have only one diagnoses.\n",
    "df_top2_depart = df_department3.groupby(['hadm_id'])['Department'].value_counts().nsmallest()\n",
    "df_top2_depart"
   ]
  },
  {
   "cell_type": "code",
   "execution_count": 148,
   "metadata": {},
   "outputs": [
    {
     "data": {
      "text/plain": [
       "18"
      ]
     },
     "execution_count": 148,
     "metadata": {},
     "output_type": "execute_result"
    }
   ],
   "source": [
    "df_department3.Department.nunique()"
   ]
  },
  {
   "cell_type": "code",
   "execution_count": null,
   "metadata": {},
   "outputs": [],
   "source": [
    "df_circ = df_department3[df_department3['Department']=='diseases of the circulatory system']\n",
    "df_geni = df_department3[df_department3['Department']=='diseases of the genitourinary system']\n",
    "df_resp = df_department3[df_department3['Department']=='diseases of the respiratory system']"
   ]
  },
  {
   "cell_type": "code",
   "execution_count": null,
   "metadata": {},
   "outputs": [],
   "source": [
    "df_endo = df_department3[df_department3['Department']=='endocrine, nutritional and metabolic diseases, and immunity disorders']\n",
    "df_musko = df_department3[df_department3['Department']=='diseases of the musculoskeletal system and connective tissue']\n",
    "df_blood = df_department3[df_department3['Department']=='diseases of the blood and blood-forming organs']\n",
    "df_diges = df_department3[df_department3['Department']=='diseases of the digestive system']\n",
    "df_nerv = df_department3[df_department3['Department']=='diseases of the nervous system and sense organs']"
   ]
  },
  {
   "cell_type": "code",
   "execution_count": null,
   "metadata": {},
   "outputs": [],
   "source": [
    "df_neo = df_department3[df_department3['Department']=='neoplasms']\n",
    "df_sym = df_department3[df_department3['Department']=='symptoms, signs, and ill-defined conditions']\n",
    "df_ext = df_department3[df_department3['Department']=='external causes of injury and supplemental classification']\n",
    "df_ment = df_department3[df_department3['Department']=='mental disorders']\n",
    "df_injury = df_department3[df_department3['Department']=='injury and poisoning']\n",
    "df_skin = df_department3[df_department3['Department']=='diseases of the skin and subcutaneous tissue']\n",
    "df_infect = df_department3[df_department3['Department']=='infectious and parasitic diseases']\n",
    "df_congen = df_department3[df_department3['Department']=='congenital anomalies']\n"
   ]
  },
  {
   "cell_type": "code",
   "execution_count": null,
   "metadata": {},
   "outputs": [],
   "source": [
    "df_pren = df_department3[df_department3['Department']=='certain conditions originating in the perinatal period']\n",
    "df_preg = df_department3[df_department3['Department']=='complications of pregnancy, childbirth, and the puerperium']\n"
   ]
  },
  {
   "cell_type": "code",
   "execution_count": null,
   "metadata": {
    "scrolled": true
   },
   "outputs": [],
   "source": [
    "depart_list = ['diseases of the circulatory system','diseases of the genitourinary system','diseases of the respiratory system',\\\n",
    "              'endocrine, nutritional and metabolic diseases, and immunity disorders','diseases of the musculoskeletal system and connective tissue',\\\n",
    "              'diseases of the blood and blood-forming organs','diseases of the digestive system','diseases of the nervous system and sense organs',\\\n",
    "              'neoplasms','symptoms, signs, and ill-defined conditions','external causes of injury and supplemental classification',\\\n",
    "              'mental disorders','injury and poisoning','diseases of the skin and subcutaneous tissue','infectious and parasitic diseases',\\\n",
    "              'congenital anomalies']\n",
    "df_departlist = [df_circ, df_geni, df_resp, df_endo, df_musko, df_blood, df_diges, df_nerv, df_neo, df_sym, df_ext, df_ment, df_injury, df_skin, df_infect, df_congen]\n",
    "\n",
    "\n",
    "# Create new copy of df2 with one column per procedure feature, values True/False \n",
    "df_depart = df2.copy()\n",
    "for i in range(len(depart_list)):\n",
    "    \n",
    "    df_depart[depart_list[i]] = df_depart['hadm_id'].isin(df_departlist[i]['hadm_id'])\n",
    "    \n",
    "\n",
    "df_depart.head()"
   ]
  },
  {
   "cell_type": "code",
   "execution_count": 149,
   "metadata": {},
   "outputs": [
    {
     "data": {
      "text/plain": [
       "Index(['subject_id', 'hadm_id', 'ethnicity', 'insurance', 'gender',\n",
       "       'admittime', 'dischtime', 'age_on_admiss', 'length_of_stay',\n",
       "       'readmit_time', 'is_readmit', 'diseases of the circulatory system',\n",
       "       'diseases of the genitourinary system',\n",
       "       'diseases of the respiratory system',\n",
       "       'endocrine, nutritional and metabolic diseases, and immunity disorders',\n",
       "       'diseases of the musculoskeletal system and connective tissue',\n",
       "       'diseases of the blood and blood-forming organs',\n",
       "       'diseases of the digestive system',\n",
       "       'diseases of the nervous system and sense organs', 'neoplasms',\n",
       "       'symptoms, signs, and ill-defined conditions',\n",
       "       'external causes of injury and supplemental classification',\n",
       "       'mental disorders', 'injury and poisoning',\n",
       "       'diseases of the skin and subcutaneous tissue',\n",
       "       'infectious and parasitic diseases', 'congenital anomalies'],\n",
       "      dtype='object')"
      ]
     },
     "execution_count": 149,
     "metadata": {},
     "output_type": "execute_result"
    }
   ],
   "source": [
    "df_depart.columns"
   ]
  },
  {
   "cell_type": "code",
   "execution_count": null,
   "metadata": {},
   "outputs": [],
   "source": [
    "df_depart_final = pd.merge(df_depart,df_top1_merge , on ='hadm_id', how = 'left')"
   ]
  },
  {
   "cell_type": "code",
   "execution_count": null,
   "metadata": {
    "scrolled": true
   },
   "outputs": [],
   "source": [
    "df_depart_final.head()"
   ]
  },
  {
   "cell_type": "code",
   "execution_count": 150,
   "metadata": {},
   "outputs": [
    {
     "data": {
      "text/plain": [
       "Index(['subject_id', 'hadm_id', 'ethnicity', 'insurance', 'gender',\n",
       "       'admittime', 'dischtime', 'age_on_admiss', 'length_of_stay',\n",
       "       'readmit_time', 'is_readmit', 'diseases of the circulatory system',\n",
       "       'diseases of the genitourinary system',\n",
       "       'diseases of the respiratory system',\n",
       "       'endocrine, nutritional and metabolic diseases, and immunity disorders',\n",
       "       'diseases of the musculoskeletal system and connective tissue',\n",
       "       'diseases of the blood and blood-forming organs',\n",
       "       'diseases of the digestive system',\n",
       "       'diseases of the nervous system and sense organs', 'neoplasms',\n",
       "       'symptoms, signs, and ill-defined conditions',\n",
       "       'external causes of injury and supplemental classification',\n",
       "       'mental disorders', 'injury and poisoning',\n",
       "       'diseases of the skin and subcutaneous tissue',\n",
       "       'infectious and parasitic diseases', 'congenital anomalies', 'Depart1',\n",
       "       'No_of_Depart'],\n",
       "      dtype='object')"
      ]
     },
     "execution_count": 150,
     "metadata": {},
     "output_type": "execute_result"
    }
   ],
   "source": [
    "df_depart_final.columns"
   ]
  },
  {
   "cell_type": "code",
   "execution_count": null,
   "metadata": {},
   "outputs": [],
   "source": []
  },
  {
   "cell_type": "code",
   "execution_count": null,
   "metadata": {},
   "outputs": [],
   "source": []
  },
  {
   "cell_type": "code",
   "execution_count": null,
   "metadata": {},
   "outputs": [],
   "source": []
  },
  {
   "cell_type": "markdown",
   "metadata": {},
   "source": [
    "## Merging dataframes"
   ]
  },
  {
   "cell_type": "code",
   "execution_count": null,
   "metadata": {},
   "outputs": [],
   "source": [
    "#Merging Admission, Vitals, Lab and Diagnoses(Department) Dataframes"
   ]
  },
  {
   "cell_type": "code",
   "execution_count": null,
   "metadata": {},
   "outputs": [],
   "source": [
    "merge_df1 = pd.merge(df2_follow, lab_statsdf, on ='hadm_id', how ='inner')"
   ]
  },
  {
   "cell_type": "code",
   "execution_count": 151,
   "metadata": {},
   "outputs": [
    {
     "data": {
      "text/plain": [
       "50255"
      ]
     },
     "execution_count": 151,
     "metadata": {},
     "output_type": "execute_result"
    }
   ],
   "source": [
    "len(merge_df1)"
   ]
  },
  {
   "cell_type": "code",
   "execution_count": null,
   "metadata": {},
   "outputs": [],
   "source": [
    "merge_df2 = pd.merge(merge_df1, vitals_statsdf, on = 'hadm_id', how = 'inner')"
   ]
  },
  {
   "cell_type": "code",
   "execution_count": 152,
   "metadata": {},
   "outputs": [
    {
     "data": {
      "text/plain": [
       "48941"
      ]
     },
     "execution_count": 152,
     "metadata": {},
     "output_type": "execute_result"
    }
   ],
   "source": [
    "len(merge_df2)"
   ]
  },
  {
   "cell_type": "code",
   "execution_count": null,
   "metadata": {},
   "outputs": [],
   "source": [
    "merge_df3 = pd.merge(merge_df2, df_depart_final[['hadm_id','diseases of the circulatory system',\n",
    "       'diseases of the genitourinary system',\n",
    "       'diseases of the respiratory system',\n",
    "       'endocrine, nutritional and metabolic diseases, and immunity disorders',\n",
    "       'diseases of the musculoskeletal system and connective tissue',\n",
    "       'diseases of the blood and blood-forming organs',\n",
    "       'diseases of the digestive system',\n",
    "       'diseases of the nervous system and sense organs', 'neoplasms',\n",
    "       'symptoms, signs, and ill-defined conditions',\n",
    "       'external causes of injury and supplemental classification',\n",
    "       'mental disorders', 'injury and poisoning',\n",
    "       'diseases of the skin and subcutaneous tissue',\n",
    "       'infectious and parasitic diseases', 'congenital anomalies', 'Depart1',\n",
    "       'No_of_Depart']], on='hadm_id', how = 'left')"
   ]
  },
  {
   "cell_type": "code",
   "execution_count": null,
   "metadata": {},
   "outputs": [],
   "source": [
    "merge_df3.head()"
   ]
  },
  {
   "cell_type": "code",
   "execution_count": 153,
   "metadata": {},
   "outputs": [],
   "source": [
    "merge_df3.dtypes;"
   ]
  },
  {
   "cell_type": "code",
   "execution_count": 154,
   "metadata": {},
   "outputs": [
    {
     "data": {
      "text/plain": [
       "48941"
      ]
     },
     "execution_count": 154,
     "metadata": {},
     "output_type": "execute_result"
    }
   ],
   "source": [
    "len(merge_df3)"
   ]
  },
  {
   "cell_type": "code",
   "execution_count": null,
   "metadata": {},
   "outputs": [],
   "source": [
    "#Merging prescription and procedures data\n",
    "merge_df4 = pd.merge(df2_proc,df2_prescrip[['hadm_id','vancomycin', 'neosynephrine',\n",
    "       'neostigmine', 'glycopyrrolate', 'ceftriaxone', 'atropine sulfate',\n",
    "       'chlorhexidine', 'nitroglycerin', 'nitroprusside', 'lansoprazole']], on = 'hadm_id', how='inner')"
   ]
  },
  {
   "cell_type": "code",
   "execution_count": null,
   "metadata": {},
   "outputs": [],
   "source": [
    "#Merging df4 and df3 together\n",
    "merge_df5 = pd.merge(merge_df3,merge_df4[['hadm_id','parent_inf', 'serum_transf', 'skin_sut', 'inf_vasopress',\n",
    "       'single_int_mammCAB', 'aorto_CBT', 'platelet_transf', 'ins_inter_cath',\n",
    "       'vancomycin', 'neosynephrine', 'neostigmine', 'glycopyrrolate',\n",
    "       'ceftriaxone', 'atropine sulfate', 'chlorhexidine', 'nitroglycerin',\n",
    "       'nitroprusside', 'lansoprazole']], on='hadm_id', how = 'inner')"
   ]
  },
  {
   "cell_type": "code",
   "execution_count": null,
   "metadata": {},
   "outputs": [],
   "source": [
    "merge_df5.head()"
   ]
  },
  {
   "cell_type": "code",
   "execution_count": 155,
   "metadata": {},
   "outputs": [
    {
     "name": "stdout",
     "output_type": "stream",
     "text": [
      "93\n"
     ]
    }
   ],
   "source": [
    "print(len(merge_df5.columns))\n",
    "#print(merge_df5.columns.values)"
   ]
  },
  {
   "cell_type": "code",
   "execution_count": null,
   "metadata": {},
   "outputs": [],
   "source": []
  },
  {
   "cell_type": "markdown",
   "metadata": {},
   "source": [
    "## Selecting the readmissions/nonreadmissions instances"
   ]
  },
  {
   "cell_type": "code",
   "execution_count": 156,
   "metadata": {},
   "outputs": [
    {
     "name": "stdout",
     "output_type": "stream",
     "text": [
      "There were 3046 stays which were followed by early readmissions.\n"
     ]
    }
   ],
   "source": [
    "df_readmit = merge_df5[merge_df5['followed_by_readmit'] == True]\n",
    "num_readmit = len(df_readmit)\n",
    "print('There were', num_readmit, 'stays which were followed by early readmissions.')"
   ]
  },
  {
   "cell_type": "markdown",
   "metadata": {},
   "source": [
    "(There were 3188 such stays when we selected readmits before merging with all the other feature dataframes.)"
   ]
  },
  {
   "cell_type": "code",
   "execution_count": 157,
   "metadata": {},
   "outputs": [
    {
     "name": "stdout",
     "output_type": "stream",
     "text": [
      "There were 45895 stays which were NOT followed by early readmissions.\n"
     ]
    }
   ],
   "source": [
    "df_nonreadmit = merge_df5[merge_df5['followed_by_readmit'] == False]#.reset_index(drop=True)\n",
    "num_nonreadmit = len(df_nonreadmit)\n",
    "print('There were', num_nonreadmit, 'stays which were NOT followed by early readmissions.')"
   ]
  },
  {
   "cell_type": "markdown",
   "metadata": {},
   "source": [
    "(There were 47678 such stays when we selected nonreadmits before merging with all the other feature dataframes.)"
   ]
  },
  {
   "cell_type": "code",
   "execution_count": null,
   "metadata": {},
   "outputs": [],
   "source": [
    "# Randomly selection (without replacement) of equal number of stays not followed by readmissions\n",
    "import random\n",
    "# Ensuring reproducibility\n",
    "random.seed(10)\n",
    "\n",
    "nonreadmit_samp = random.sample(range(num_nonreadmit), num_readmit)\n",
    "# Showing first 10\n",
    "nonreadmit_samp[:10]"
   ]
  },
  {
   "cell_type": "code",
   "execution_count": null,
   "metadata": {},
   "outputs": [],
   "source": [
    "df_nonreadmit_samp = df_nonreadmit.iloc[nonreadmit_samp,:]\n",
    "df_nonreadmit_samp.head()"
   ]
  },
  {
   "cell_type": "markdown",
   "metadata": {},
   "source": [
    "# Concatenating the readmission and non-readmission-sample dataframes"
   ]
  },
  {
   "cell_type": "code",
   "execution_count": 158,
   "metadata": {},
   "outputs": [
    {
     "name": "stdout",
     "output_type": "stream",
     "text": [
      "6092 rows\n"
     ]
    }
   ],
   "source": [
    "df_data = pd.concat([df_readmit, df_nonreadmit_samp]).reset_index(drop=True)\n",
    "print(len(df_data), 'rows')"
   ]
  },
  {
   "cell_type": "code",
   "execution_count": null,
   "metadata": {},
   "outputs": [],
   "source": [
    "df_data.head()"
   ]
  },
  {
   "cell_type": "code",
   "execution_count": 159,
   "metadata": {},
   "outputs": [
    {
     "data": {
      "text/plain": [
       "array(['subject_id', 'hadm_id', 'ethnicity', 'insurance', 'gender',\n",
       "       'admittime', 'dischtime', 'age_on_admiss', 'length_of_stay',\n",
       "       'readmit_time', 'is_readmit', 'followed_by_readmit',\n",
       "       'bilirubin_min', 'bilirubin_median', 'bilirubin_max',\n",
       "       'creatinine_min', 'creatinine_median', 'creatinine_max',\n",
       "       'hematocrit_min', 'hematocrit_median', 'hematocrit_max',\n",
       "       'hemoglobin_min', 'hemoglobin_median', 'hemoglobin_max',\n",
       "       'lactate_min', 'lactate_median', 'lactate_max', 'platelet_min',\n",
       "       'platelet_median', 'platelet_max', 'ptt_min', 'ptt_median',\n",
       "       'ptt_max', 'inr_min', 'inr_median', 'inr_max', 'wbc_min',\n",
       "       'wbc_median', 'wbc_max', 'rdw_min', 'rdw_median', 'rdw_max',\n",
       "       'heartrate_min', 'heartrate_median', 'heartrate_max', 'sysbp_min',\n",
       "       'sysbp_median', 'sysbp_max', 'resprate_min', 'resprate_median',\n",
       "       'resprate_max', 'tempc_min', 'tempc_median', 'tempc_max',\n",
       "       'spo2_min', 'spo2_median', 'spo2_max',\n",
       "       'diseases of the circulatory system',\n",
       "       'diseases of the genitourinary system',\n",
       "       'diseases of the respiratory system',\n",
       "       'endocrine, nutritional and metabolic diseases, and immunity disorders',\n",
       "       'diseases of the musculoskeletal system and connective tissue',\n",
       "       'diseases of the blood and blood-forming organs',\n",
       "       'diseases of the digestive system',\n",
       "       'diseases of the nervous system and sense organs', 'neoplasms',\n",
       "       'symptoms, signs, and ill-defined conditions',\n",
       "       'external causes of injury and supplemental classification',\n",
       "       'mental disorders', 'injury and poisoning',\n",
       "       'diseases of the skin and subcutaneous tissue',\n",
       "       'infectious and parasitic diseases', 'congenital anomalies',\n",
       "       'Depart1', 'No_of_Depart', 'parent_inf', 'serum_transf',\n",
       "       'skin_sut', 'inf_vasopress', 'single_int_mammCAB', 'aorto_CBT',\n",
       "       'platelet_transf', 'ins_inter_cath', 'vancomycin', 'neosynephrine',\n",
       "       'neostigmine', 'glycopyrrolate', 'ceftriaxone', 'atropine sulfate',\n",
       "       'chlorhexidine', 'nitroglycerin', 'nitroprusside', 'lansoprazole'],\n",
       "      dtype=object)"
      ]
     },
     "execution_count": 159,
     "metadata": {},
     "output_type": "execute_result"
    }
   ],
   "source": [
    "df_data.columns.values"
   ]
  },
  {
   "cell_type": "markdown",
   "metadata": {},
   "source": [
    "How many unique patients?"
   ]
  },
  {
   "cell_type": "code",
   "execution_count": 160,
   "metadata": {},
   "outputs": [
    {
     "name": "stdout",
     "output_type": "stream",
     "text": [
      "Readmits: 2345\n"
     ]
    }
   ],
   "source": [
    "print('Readmits:', df_data[df_data['followed_by_readmit'] == True]['subject_id'].nunique())"
   ]
  },
  {
   "cell_type": "code",
   "execution_count": 161,
   "metadata": {},
   "outputs": [
    {
     "name": "stdout",
     "output_type": "stream",
     "text": [
      "Non-readmits: 3002\n"
     ]
    }
   ],
   "source": [
    "print('Non-readmits:', df_data[df_data['followed_by_readmit'] == False]['subject_id'].nunique())"
   ]
  },
  {
   "cell_type": "code",
   "execution_count": null,
   "metadata": {},
   "outputs": [],
   "source": []
  },
  {
   "cell_type": "markdown",
   "metadata": {},
   "source": [
    "### Checking number of True/False values in each class"
   ]
  },
  {
   "cell_type": "code",
   "execution_count": 162,
   "metadata": {
    "scrolled": false
   },
   "outputs": [
    {
     "name": "stdout",
     "output_type": "stream",
     "text": [
      "followed_by_readmit  parent_inf\n",
      "False                False         2868\n",
      "                     True           178\n",
      "True                 False         2808\n",
      "                     True           238\n",
      "Name: parent_inf, dtype: int64\n",
      "followed_by_readmit  serum_transf\n",
      "False                False           2928\n",
      "                     True             118\n",
      "True                 False           2897\n",
      "                     True             149\n",
      "Name: serum_transf, dtype: int64\n",
      "followed_by_readmit  skin_sut\n",
      "False                False       2997\n",
      "                     True          49\n",
      "True                 False       3024\n",
      "                     True          22\n",
      "Name: skin_sut, dtype: int64\n",
      "followed_by_readmit  inf_vasopress\n",
      "False                False            3003\n",
      "                     True               43\n",
      "True                 False            2986\n",
      "                     True               60\n",
      "Name: inf_vasopress, dtype: int64\n",
      "followed_by_readmit  single_int_mammCAB\n",
      "False                False                 2749\n",
      "                     True                   297\n",
      "True                 False                 2902\n",
      "                     True                   144\n",
      "Name: single_int_mammCAB, dtype: int64\n",
      "followed_by_readmit  aorto_CBT\n",
      "False                False        2808\n",
      "                     True          238\n",
      "True                 False        2928\n",
      "                     True          118\n",
      "Name: aorto_CBT, dtype: int64\n",
      "followed_by_readmit  platelet_transf\n",
      "False                False              2973\n",
      "                     True                 73\n",
      "True                 False              2970\n",
      "                     True                 76\n",
      "Name: platelet_transf, dtype: int64\n",
      "followed_by_readmit  ins_inter_cath\n",
      "False                False             2965\n",
      "                     True                81\n",
      "True                 False             2953\n",
      "                     True                93\n",
      "Name: ins_inter_cath, dtype: int64\n",
      "followed_by_readmit  vancomycin\n",
      "False                False         1751\n",
      "                     True          1295\n",
      "True                 False         1585\n",
      "                     True          1461\n",
      "Name: vancomycin, dtype: int64\n",
      "followed_by_readmit  neosynephrine\n",
      "False                False            2296\n",
      "                     True              750\n",
      "True                 False            2398\n",
      "                     True              648\n",
      "Name: neosynephrine, dtype: int64\n",
      "followed_by_readmit  neostigmine\n",
      "False                False          2618\n",
      "                     True            428\n",
      "True                 False          2771\n",
      "                     True            275\n",
      "Name: neostigmine, dtype: int64\n",
      "followed_by_readmit  glycopyrrolate\n",
      "False                False             2584\n",
      "                     True               462\n",
      "True                 False             2740\n",
      "                     True               306\n",
      "Name: glycopyrrolate, dtype: int64\n",
      "followed_by_readmit  ceftriaxone\n",
      "False                False          2704\n",
      "                     True            342\n",
      "True                 False          2640\n",
      "                     True            406\n",
      "Name: ceftriaxone, dtype: int64\n",
      "followed_by_readmit  atropine sulfate\n",
      "False                False               2761\n",
      "                     True                 285\n",
      "True                 False               2847\n",
      "                     True                 199\n",
      "Name: atropine sulfate, dtype: int64\n",
      "followed_by_readmit  chlorhexidine\n",
      "False                False            2394\n",
      "                     True              652\n",
      "True                 False            2367\n",
      "                     True              679\n",
      "Name: chlorhexidine, dtype: int64\n",
      "followed_by_readmit  nitroglycerin\n",
      "False                False            2318\n",
      "                     True              728\n",
      "True                 False            2415\n",
      "                     True              631\n",
      "Name: nitroglycerin, dtype: int64\n",
      "followed_by_readmit  nitroprusside\n",
      "False                False            2817\n",
      "                     True              229\n",
      "True                 False            2872\n",
      "                     True              174\n",
      "Name: nitroprusside, dtype: int64\n",
      "followed_by_readmit  lansoprazole\n",
      "False                False           2704\n",
      "                     True             342\n",
      "True                 False           2513\n",
      "                     True             533\n",
      "Name: lansoprazole, dtype: int64\n"
     ]
    }
   ],
   "source": [
    "for i in range(-18, 0):\n",
    "    print(df_data.groupby('followed_by_readmit')[df_data.columns.values[i]].value_counts())"
   ]
  },
  {
   "cell_type": "markdown",
   "metadata": {},
   "source": [
    "### Visualize distribution of vital signs data for readmits vs. nonreadmits"
   ]
  },
  {
   "cell_type": "code",
   "execution_count": 163,
   "metadata": {},
   "outputs": [],
   "source": [
    "# Selecting only vital signs and followed_by_readmit columns\n",
    "\n",
    "df_data_vitals = df_data[np.concatenate((vitals_statsdf.columns.values[1:], ['followed_by_readmit']))]"
   ]
  },
  {
   "cell_type": "code",
   "execution_count": null,
   "metadata": {},
   "outputs": [],
   "source": [
    "df_data_vitals.head()"
   ]
  },
  {
   "cell_type": "code",
   "execution_count": 165,
   "metadata": {},
   "outputs": [
    {
     "data": {
      "image/png": "[encoded data removed]",
      "text/plain": [
       "<matplotlib.figure.Figure at 0x19d8c65be48>"
      ]
     },
     "metadata": {},
     "output_type": "display_data"
    }
   ],
   "source": [
    "# Creating violinplot for all vital signs\n",
    "\n",
    "vitals_colnames = df_data_vitals.iloc[:, :-1].columns.values\n",
    "df_dv_melt = df_data_vitals.melt(id_vars = 'followed_by_readmit', value_vars=vitals_colnames,\n",
    "                                 var_name='Vital Signs', value_name='Measured')\n",
    "\n",
    "with sns.plotting_context('poster'):\n",
    "    plt.figure(figsize=(10, 5))\n",
    "    sns.violinplot(x='Vital Signs', y='Measured', hue='followed_by_readmit', data=df_dv_melt, split=True)\n",
    "    plt.xticks(rotation=60)\n",
    "    plt.savefig('vitals_violin.png', bbox_inches='tight')"
   ]
  },
  {
   "cell_type": "code",
   "execution_count": 166,
   "metadata": {},
   "outputs": [
    {
     "data": {
      "image/png": "[encoded data removed]",
      "text/plain": [
       "<matplotlib.figure.Figure at 0x19d8d24aeb8>"
      ]
     },
     "metadata": {},
     "output_type": "display_data"
    },
    {
     "data": {
      "image/png": "[encoded data removed]",
      "text/plain": [
       "<matplotlib.figure.Figure at 0x19df328a780>"
      ]
     },
     "metadata": {},
     "output_type": "display_data"
    },
    {
     "data": {
      "image/png": "[encoded data removed]",
      "text/plain": [
       "<matplotlib.figure.Figure at 0x19df33230b8>"
      ]
     },
     "metadata": {},
     "output_type": "display_data"
    },
    {
     "data": {
      "image/png": "[encoded data removed]",
      "text/plain": [
       "<matplotlib.figure.Figure at 0x19df2fcc198>"
      ]
     },
     "metadata": {},
     "output_type": "display_data"
    },
    {
     "data": {
      "image/png": "[encoded data removed]",
      "text/plain": [
       "<matplotlib.figure.Figure at 0x19df2db4400>"
      ]
     },
     "metadata": {},
     "output_type": "display_data"
    }
   ],
   "source": [
    "# Creating individual violinplot for each vital sign\n",
    "\n",
    "vitals_name_unit = ['Heart Rate (bpm)', 'Systolic Blood Pressure (mmHg)', 'Respiratory Rate (insp/min)',\n",
    "                    'Temperature (degC)', 'Blood Oxygen Saturation (%)']\n",
    "df_hr_melt = df_data_vitals.melt(id_vars = 'followed_by_readmit', value_vars=vitals_colnames[:3],\n",
    "                                 var_name='Measure', value_name=vitals_name_unit[0])\n",
    "df_sbp_melt = df_data_vitals.melt(id_vars = 'followed_by_readmit', value_vars=vitals_colnames[3:6],\n",
    "                                 var_name='Measure', value_name=vitals_name_unit[1])\n",
    "df_rr_melt = df_data_vitals.melt(id_vars = 'followed_by_readmit', value_vars=vitals_colnames[6:9],\n",
    "                                 var_name='Measure', value_name=vitals_name_unit[2])\n",
    "df_t_melt = df_data_vitals.melt(id_vars = 'followed_by_readmit', value_vars=vitals_colnames[9:12],\n",
    "                                 var_name='Measure', value_name=vitals_name_unit[3])\n",
    "df_sat_melt = df_data_vitals.melt(id_vars = 'followed_by_readmit', value_vars=vitals_colnames[12:15],\n",
    "                                 var_name='Measure', value_name=vitals_name_unit[4])\n",
    "\n",
    "df_vitals_list = [df_hr_melt, df_sbp_melt, df_rr_melt, df_t_melt, df_sat_melt]\n",
    "with sns.plotting_context('poster'):\n",
    "    for i in range(len(df_vitals_list)):\n",
    "        plt.figure(figsize=(8,6))\n",
    "        sns.violinplot(x='Measure', y=vitals_name_unit[i], hue='followed_by_readmit', data=df_vitals_list[i], split=True)\n",
    "        plt.xticks(rotation=45)\n",
    "        if i < 3:\n",
    "            plt.legend(loc='upper left')\n",
    "        else:\n",
    "            plt.legend(loc='lower right')\n",
    "        plt.savefig('vitals' + str(i) + '_violin.png', bbox_inches='tight')"
   ]
  },
  {
   "cell_type": "code",
   "execution_count": null,
   "metadata": {},
   "outputs": [],
   "source": []
  },
  {
   "cell_type": "markdown",
   "metadata": {},
   "source": [
    "### Visualize distribution of lab data for readmits vs. nonreadmits"
   ]
  },
  {
   "cell_type": "code",
   "execution_count": null,
   "metadata": {},
   "outputs": [],
   "source": [
    "# Selecting only lab values and followed_by_readmit columns\n",
    "\n",
    "df_data_lab = df_data[np.concatenate((lab_statsdf.columns.values[1:], ['followed_by_readmit']))]"
   ]
  },
  {
   "cell_type": "code",
   "execution_count": null,
   "metadata": {},
   "outputs": [],
   "source": [
    "df_data_lab.head()"
   ]
  },
  {
   "cell_type": "code",
   "execution_count": null,
   "metadata": {},
   "outputs": [],
   "source": [
    "# Creating violinplot for all lab data\n",
    "\n",
    "lab_colnames = df_data_lab.iloc[:, :-1].columns.values\n",
    "df_lab_melt = df_data_lab.melt(id_vars = 'followed_by_readmit', value_vars=lab_colnames,\n",
    "                                 var_name='Lab Values', value_name='Measured')\n",
    "\n",
    "with sns.plotting_context('poster'):\n",
    "    plt.figure(figsize=(20, 5))\n",
    "    sns.violinplot(x='Lab Values', y='Measured', hue='followed_by_readmit', data=df_lab_melt, split=True)\n",
    "    plt.xticks(rotation=60)\n",
    "    plt.savefig('lab_violin.png', bbox_inches='tight')"
   ]
  },
  {
   "cell_type": "code",
   "execution_count": null,
   "metadata": {},
   "outputs": [],
   "source": [
    "# Creating individual violinplot for each lab value\n",
    "\n",
    "lab_name_unit = ['Bilirubin (mg/dL)', 'Creatinine (mg/dL)', 'Hematocrit (%)', 'Hemoglobin (g/dL)', 'Lactate (mmol/L)',\n",
    "                 'Platelet (K/uL)', 'PTT (sec)', 'INR', 'WBC (K/uL)', 'RDW (%)']\n",
    "'''df_bili_melt = df_data_lab.melt(id_vars = 'followed_by_readmit', value_vars=lab_colnames[:3],\n",
    "                                 var_name='Measure', value_name=lab_name_unit[0])\n",
    "df_vitals_list = [df_hr_melt, df_sbp_melt, df_rr_melt, df_t_melt, df_sat_melt]\n",
    "with sns.plotting_context('poster'):\n",
    "    for i in range(len(df_vitals_list)):\n",
    "        plt.figure(figsize=(8,6))\n",
    "        sns.violinplot(x='Measure', y=vitals_name_unit[i], hue='followed_by_readmit', data=df_vitals_list[i], split=True)\n",
    "        plt.xticks(rotation=45)\n",
    "        if i < 3:\n",
    "            plt.legend(loc='upper left')\n",
    "        else:\n",
    "            plt.legend(loc='lower right')\n",
    "        plt.savefig('vitals' + str(i) + '_violin.png', bbox_inches='tight')'''"
   ]
  },
  {
   "cell_type": "code",
   "execution_count": null,
   "metadata": {},
   "outputs": [],
   "source": []
  },
  {
   "cell_type": "code",
   "execution_count": null,
   "metadata": {},
   "outputs": [],
   "source": [
    "#merge_df = df2.merge(df_vitals, on = \"hadm_id\", how = \"inner\")"
   ]
  },
  {
   "cell_type": "code",
   "execution_count": null,
   "metadata": {},
   "outputs": [],
   "source": []
  },
  {
   "cell_type": "code",
   "execution_count": null,
   "metadata": {},
   "outputs": [],
   "source": []
  },
  {
   "cell_type": "code",
   "execution_count": null,
   "metadata": {},
   "outputs": [],
   "source": [
    "#merge_agg_df = merge_df.groupby('hadm_id').agg('mean')\n"
   ]
  },
  {
   "cell_type": "code",
   "execution_count": null,
   "metadata": {},
   "outputs": [],
   "source": [
    "merge_agg_df.isnull"
   ]
  },
  {
   "cell_type": "code",
   "execution_count": null,
   "metadata": {},
   "outputs": [],
   "source": [
    "#merge_agg_df.isnull().sum()"
   ]
  },
  {
   "cell_type": "code",
   "execution_count": null,
   "metadata": {},
   "outputs": [],
   "source": [
    "#merge_agg_df.shape"
   ]
  },
  {
   "cell_type": "code",
   "execution_count": null,
   "metadata": {},
   "outputs": [],
   "source": [
    "#merge_agg_df.describe()"
   ]
  },
  {
   "cell_type": "code",
   "execution_count": null,
   "metadata": {},
   "outputs": [],
   "source": [
    "#merge_agg_df.isnull().sum()"
   ]
  },
  {
   "cell_type": "code",
   "execution_count": null,
   "metadata": {},
   "outputs": [],
   "source": [
    "#merge_agg_df.describe()"
   ]
  },
  {
   "cell_type": "code",
   "execution_count": null,
   "metadata": {},
   "outputs": [],
   "source": [
    "#(merge_agg_df.isnull().sum()/merge_agg_df.count())* 100"
   ]
  },
  {
   "cell_type": "code",
   "execution_count": null,
   "metadata": {},
   "outputs": [],
   "source": [
    "corr = merge_agg_df.corr()\n",
    "sns.heatmap(corr)\n"
   ]
  },
  {
   "cell_type": "code",
   "execution_count": null,
   "metadata": {},
   "outputs": [],
   "source": [
    "merge_agg_df.age_on_admiss.describe()"
   ]
  },
  {
   "cell_type": "code",
   "execution_count": null,
   "metadata": {},
   "outputs": [],
   "source": [
    "q10 = 'select distinct(icd9_code) from procedures_icd'\n",
    "df10 = pd.read_sql_query(q10, con)"
   ]
  },
  {
   "cell_type": "code",
   "execution_count": null,
   "metadata": {},
   "outputs": [],
   "source": [
    "df10;"
   ]
  },
  {
   "cell_type": "code",
   "execution_count": null,
   "metadata": {},
   "outputs": [],
   "source": []
  }
 ],
 "metadata": {
  "kernelspec": {
   "display_name": "Python 3",
   "language": "python",
   "name": "python3"
  },
  "language_info": {
   "codemirror_mode": {
    "name": "ipython",
    "version": 3
   },
   "file_extension": ".py",
   "mimetype": "text/x-python",
   "name": "python",
   "nbconvert_exporter": "python",
   "pygments_lexer": "ipython3",
   "version": "3.6.4"
  }
 },
 "nbformat": 4,
 "nbformat_minor": 2
}
